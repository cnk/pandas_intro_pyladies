{
 "cells": [
  {
   "cell_type": "markdown",
   "metadata": {},
   "source": [
    "# Introduction to Pandas\n",
    "\n",
    "*Author: [Douglas Strodtman](http://linkedin.com/in/dstrodtman/)*\n",
    "\n",
    "In this notebook, we'll cover the basic functionality of Pandas, which is one of the most widely used Python packages for data exploration, cleaning, and manipulation. The official docs have a [10 Minutes to Pandas](https://pandas.pydata.org/pandas-docs/stable/getting_started/10min.html) lesson; we'll take a bit longer and hopefully generalize concepts to have a deeper understanding.\n",
    "\n",
    "If you have robust knowledge working with R, SQL, SAS, or Stata, I recommend that you read through [the corresponding comparison notes provided by the maintainers of Pandas](http://pandas.pydata.org/pandas-docs/stable/getting_started/comparison/)."
   ]
  },
  {
   "cell_type": "markdown",
   "metadata": {},
   "source": [
    "## A Note on the Data\n",
    "\n",
    "The city of Los Angeles has adopted one of the most progressive approaches to open data in the nation under the leadership of Mayor Garcetti.\n",
    "\n",
    "The [Los Angeles Open Data portal](https://data.lacity.org/) is an amazing resource for accessing city-specific data. It has a number of built-in tools to let you explore data in the browser prior to downloading, and will let you export data in many popular formats.\n",
    "\n",
    "Many online tutorials will have you work with canonical datasets that are well-documented. While these are fine, I encourage you to always work with real data when possible, and to apply your skills to questions that you'd like to answer.\n",
    "\n",
    "Today, we'll be working with [City Budget and Expenditures](https://controllerdata.lacity.org/Budget/City-Budget-and-Expenditures/uyzw-yi8n) data. The version that has been included with this lesson was updated on March 8, 2019.\n",
    "\n",
    "The data is presented as a line item budget, showing aggregates for accounts by department and fund. We can consider each row in our data to be a line item.\n",
    "\n",
    "# Note to Sylvia:\n",
    "##### I was going to include the following, but realized that this might be better as the topic for a guided lab?\n",
    "\n",
    "> Our walkthrough will focus exclusively on data from the year 2018. By the end of this lesson, you'll be able to answer the following questions:\n",
    "> \n",
    "> - Which department had the most line item entries?\n",
    "> - Which department had the highest total expenditures?\n",
    "> - Which fund had the highest budget allocation?\n",
    "> - How was money from the general fund allocated to different departments?"
   ]
  },
  {
   "cell_type": "markdown",
   "metadata": {},
   "source": [
    "## Lesson Overview\n",
    "\n",
    "1. Module import\n",
    "1. Data import\n",
    "1. Preview Data\n",
    "    - head\n",
    "    - tail\n",
    "    - sample\n",
    "1. DataFrames and Series\n",
    "    - What are they?\n",
    "    - Data selection\n",
    "        - One column\n",
    "        - Multiple columns\n",
    "        - One row\n",
    "        - Multiple rows\n",
    "        - Singular values\n",
    "1. Metadata exploration\n",
    "    - Data size\n",
    "    - Data types\n",
    "    - Columns\n",
    "    - Index\n",
    "1. Methods and Attributes\n",
    "1. Categorical data\n",
    "    - Unique values\n",
    "    - Value counts\n",
    "    - String operations\n",
    "1. Numeric data\n",
    "    - Summary statistics\n",
    "    - Basic math operations\n",
    "1. Missing data\n",
    "    - Finding missing values\n",
    "    - Imputing missing data\n"
   ]
  },
  {
   "cell_type": "markdown",
   "metadata": {},
   "source": [
    "## Module Import\n",
    "\n",
    "`pandas` is always imported as `pd`. It's good to import all modules that you might need in a notebook in the first code block."
   ]
  },
  {
   "cell_type": "code",
   "execution_count": 1,
   "metadata": {},
   "outputs": [],
   "source": [
    "import pandas as pd\n",
    "import numpy as np\n",
    "import matplotlib.pyplot as plt\n",
    "import seaborn as sns\n",
    "\n",
    "%matplotlib inline"
   ]
  },
  {
   "cell_type": "markdown",
   "metadata": {},
   "source": [
    "Pandas is in active open source development. While the maintainers do a good job trying to make sure that newer version are backwards compatible, occassionally there will be breaking changes.\n",
    "\n",
    "Checking the `__version__` of an imported module will let us know if we're all in the same development environment. The newest version is 0.24.2 (at the time of this writing, April 2019). It is unlikely that you will see significant changes in performance as long as your version is > 0.20.0."
   ]
  },
  {
   "cell_type": "code",
   "execution_count": 2,
   "metadata": {},
   "outputs": [
    {
     "data": {
      "text/plain": [
       "'0.23.4'"
      ]
     },
     "execution_count": 2,
     "metadata": {},
     "output_type": "execute_result"
    }
   ],
   "source": [
    "pd.__version__"
   ]
  },
  {
   "cell_type": "markdown",
   "metadata": {},
   "source": [
    "## Data Import\n",
    "\n",
    "Pandas provides support for many different data file types. Read the docs [here](https://pandas.pydata.org/pandas-docs/stable/reference/io.html) if you need help loading a file.\n",
    "\n",
    "Provided with this lesson are a number of data files. We'll begin our exploration by loading the file `2018_budget.csv`.\n",
    "\n",
    "When you read data into Pandas, it will be stored into a DataFrame (we'll explore what this means shortly).\n",
    "\n",
    "In order to explore and manipulate our DataFrame, we'll assign it to a variable.\n",
    "\n",
    "### A Note on Naming Conventions\n",
    "\n",
    "Python has many naming conventions, and some of these vary slightly based on area of practice.\n",
    "\n",
    "Generally speaking, it's best practice to use [snake case](https://en.wikipedia.org/wiki/Snake_case) for all variable names, and to provide your variables with informative human-readable names. Initial capital letters are usually reserved for `Class`es and `Type`s and written in [camel case](https://en.wikipedia.org/wiki/Camel_case). Variable names in all caps are usually reserved for global variables.\n",
    "\n",
    "| casing | use case | example |\n",
    "| --- | --- | --- |\n",
    "| `snake_case` | most variables and functions | `some_variable`, `some_function` |\n",
    "| `CamelCase` | classes | `DataFrame`, `Series` |\n",
    "| `UPPERCASE` | global variables | `USER_CREDENTIALS`, `IP_ADDRESS` |\n",
    "\n",
    "Until you become a more advanced Python user, you will probably want to exclusively use `snake_case`, as you are unlikely to be defining classes or global variables.\n",
    "\n",
    "### A Specific Note on `df`\n",
    "\n",
    "As you are searching for solutions to Pandas related issues and going through online tutorials, you will find a proliferation of the variable name `df`.\n",
    "\n",
    "`df` is shorthand for DataFrame, and you can readily adapt code you find online to your use case by changing this variable name to make your user-defined variable name.\n",
    "\n",
    "> \"Should I use `df` to name _my_ DataFrame?\" - Literally Everyone\n",
    "\n",
    "_**Maybe**_.\n",
    "\n",
    "My rule of thumb is that if I know I'm only going to be loading in a single DataFrame, I'll stick with `df`. If I'm going to have 2 of more DataFrames in a single notebook, then I always give each a descriptive, human-readable name.\n",
    "\n",
    "**Note**: Please don't ever just append numbers to differentiate DataFrames. This creates a huge mental burden on you as a programmer and your audience to keep track of what data is in each DataFrame.\n",
    "\n",
    "### Load Data as `df` with `read_csv`\n",
    "\n",
    "Here, we'll use the standard `df` to read our CSV with default options.\n",
    "\n",
    "Pandas is great about having generally good default options that do what you probably want, but if your data ever loads in incorrectly, you can probably set an option or two to fix this by [consulting the docs](https://pandas.pydata.org/pandas-docs/stable/reference/api/pandas.read_csv.html#pandas.read_csv)."
   ]
  },
  {
   "cell_type": "code",
   "execution_count": 3,
   "metadata": {},
   "outputs": [],
   "source": [
    "df = pd.read_csv('../data/2018_budget.csv')"
   ]
  },
  {
   "cell_type": "markdown",
   "metadata": {},
   "source": [
    "## Preview Data\n",
    "\n",
    "Pandas is meant for computational evaluation and manipulation of your data. This means that you'll never be manually poring over every value in your data. Our data is going to be big, and visual inspection will be a waste of our time.\n",
    "\n",
    "Similarly, because our data is big, we don't want to ever print out all rows. Instead, we'll check that our manipulations are working correctly by printing out small previews."
   ]
  },
  {
   "cell_type": "markdown",
   "metadata": {},
   "source": [
    "### `.head`\n",
    "\n",
    "By default, this returns the top 5 rows. Pass a scalar value as an argument to get that number of rows returned."
   ]
  },
  {
   "cell_type": "code",
   "execution_count": 4,
   "metadata": {},
   "outputs": [
    {
     "data": {
      "text/html": [
       "<div>\n",
       "<style scoped>\n",
       "    .dataframe tbody tr th:only-of-type {\n",
       "        vertical-align: middle;\n",
       "    }\n",
       "\n",
       "    .dataframe tbody tr th {\n",
       "        vertical-align: top;\n",
       "    }\n",
       "\n",
       "    .dataframe thead th {\n",
       "        text-align: right;\n",
       "    }\n",
       "</style>\n",
       "<table border=\"1\" class=\"dataframe\">\n",
       "  <thead>\n",
       "    <tr style=\"text-align: right;\">\n",
       "      <th></th>\n",
       "      <th>budget_fiscal_year</th>\n",
       "      <th>department_name</th>\n",
       "      <th>fund_name</th>\n",
       "      <th>account_name</th>\n",
       "      <th>adopted_budget_amount</th>\n",
       "      <th>total_expenditures</th>\n",
       "      <th>budget_change_amount</th>\n",
       "      <th>budget_transfer_in_amount</th>\n",
       "      <th>budget_transfer_out_amount</th>\n",
       "      <th>total_budget</th>\n",
       "      <th>encumbrance_amount</th>\n",
       "      <th>pre_encumbrance_amount</th>\n",
       "      <th>budget_uncommitted_amount</th>\n",
       "      <th>account_group_name</th>\n",
       "      <th>fund</th>\n",
       "      <th>account</th>\n",
       "      <th>department</th>\n",
       "    </tr>\n",
       "  </thead>\n",
       "  <tbody>\n",
       "    <tr>\n",
       "      <th>0</th>\n",
       "      <td>2018</td>\n",
       "      <td>AGING</td>\n",
       "      <td>GENERAL FUND (GENERAL BUDGET)</td>\n",
       "      <td>CONTRACTUAL SERVICES</td>\n",
       "      <td>2222382.0</td>\n",
       "      <td>1608157.04</td>\n",
       "      <td>9000.0</td>\n",
       "      <td>0.0</td>\n",
       "      <td>453500.0</td>\n",
       "      <td>1777882.0</td>\n",
       "      <td>93331.0</td>\n",
       "      <td>0.0</td>\n",
       "      <td>76393.96</td>\n",
       "      <td>EXPENSES</td>\n",
       "      <td>100</td>\n",
       "      <td>003040</td>\n",
       "      <td>2</td>\n",
       "    </tr>\n",
       "    <tr>\n",
       "      <th>1</th>\n",
       "      <td>2018</td>\n",
       "      <td>AGING</td>\n",
       "      <td>TITLE VII OLDER AMERICANS ACT</td>\n",
       "      <td>OMBUDSMAN VII A PROGRAM</td>\n",
       "      <td>0.0</td>\n",
       "      <td>87876.00</td>\n",
       "      <td>87876.0</td>\n",
       "      <td>0.0</td>\n",
       "      <td>0.0</td>\n",
       "      <td>87876.0</td>\n",
       "      <td>0.0</td>\n",
       "      <td>0.0</td>\n",
       "      <td>0.00</td>\n",
       "      <td>NaN</td>\n",
       "      <td>564</td>\n",
       "      <td>02PB01</td>\n",
       "      <td>2</td>\n",
       "    </tr>\n",
       "    <tr>\n",
       "      <th>2</th>\n",
       "      <td>2018</td>\n",
       "      <td>AGING</td>\n",
       "      <td>SENIOR HUMAN SERVICES PROGRAM</td>\n",
       "      <td>EVIDENCE BASED PROGRAMS</td>\n",
       "      <td>0.0</td>\n",
       "      <td>292338.00</td>\n",
       "      <td>303447.0</td>\n",
       "      <td>0.0</td>\n",
       "      <td>0.0</td>\n",
       "      <td>303447.0</td>\n",
       "      <td>11109.0</td>\n",
       "      <td>0.0</td>\n",
       "      <td>0.00</td>\n",
       "      <td>NaN</td>\n",
       "      <td>42J</td>\n",
       "      <td>02R340</td>\n",
       "      <td>2</td>\n",
       "    </tr>\n",
       "    <tr>\n",
       "      <th>3</th>\n",
       "      <td>2018</td>\n",
       "      <td>AGING</td>\n",
       "      <td>AREA PLAN FOR THE AGING TIT 7</td>\n",
       "      <td>HOME DELIVERED MEALS FOR SENIORS</td>\n",
       "      <td>0.0</td>\n",
       "      <td>2419162.00</td>\n",
       "      <td>2543845.0</td>\n",
       "      <td>0.0</td>\n",
       "      <td>0.0</td>\n",
       "      <td>2543845.0</td>\n",
       "      <td>36122.0</td>\n",
       "      <td>0.0</td>\n",
       "      <td>88561.00</td>\n",
       "      <td>NaN</td>\n",
       "      <td>395</td>\n",
       "      <td>02PQ04</td>\n",
       "      <td>2</td>\n",
       "    </tr>\n",
       "    <tr>\n",
       "      <th>4</th>\n",
       "      <td>2018</td>\n",
       "      <td>AGING</td>\n",
       "      <td>GENERAL FUND (GENERAL BUDGET)</td>\n",
       "      <td>OVERTIME GENERAL</td>\n",
       "      <td>3900.0</td>\n",
       "      <td>15943.36</td>\n",
       "      <td>0.0</td>\n",
       "      <td>13300.0</td>\n",
       "      <td>0.0</td>\n",
       "      <td>17200.0</td>\n",
       "      <td>0.0</td>\n",
       "      <td>0.0</td>\n",
       "      <td>1256.64</td>\n",
       "      <td>SALARIES AND BENEFITS</td>\n",
       "      <td>100</td>\n",
       "      <td>001090</td>\n",
       "      <td>2</td>\n",
       "    </tr>\n",
       "  </tbody>\n",
       "</table>\n",
       "</div>"
      ],
      "text/plain": [
       "   budget_fiscal_year department_name                      fund_name  \\\n",
       "0                2018           AGING  GENERAL FUND (GENERAL BUDGET)   \n",
       "1                2018           AGING  TITLE VII OLDER AMERICANS ACT   \n",
       "2                2018           AGING  SENIOR HUMAN SERVICES PROGRAM   \n",
       "3                2018           AGING  AREA PLAN FOR THE AGING TIT 7   \n",
       "4                2018           AGING  GENERAL FUND (GENERAL BUDGET)   \n",
       "\n",
       "                       account_name  adopted_budget_amount  \\\n",
       "0              CONTRACTUAL SERVICES              2222382.0   \n",
       "1           OMBUDSMAN VII A PROGRAM                    0.0   \n",
       "2           EVIDENCE BASED PROGRAMS                    0.0   \n",
       "3  HOME DELIVERED MEALS FOR SENIORS                    0.0   \n",
       "4                  OVERTIME GENERAL                 3900.0   \n",
       "\n",
       "   total_expenditures  budget_change_amount  budget_transfer_in_amount  \\\n",
       "0          1608157.04                9000.0                        0.0   \n",
       "1            87876.00               87876.0                        0.0   \n",
       "2           292338.00              303447.0                        0.0   \n",
       "3          2419162.00             2543845.0                        0.0   \n",
       "4            15943.36                   0.0                    13300.0   \n",
       "\n",
       "   budget_transfer_out_amount  total_budget  encumbrance_amount  \\\n",
       "0                    453500.0     1777882.0             93331.0   \n",
       "1                         0.0       87876.0                 0.0   \n",
       "2                         0.0      303447.0             11109.0   \n",
       "3                         0.0     2543845.0             36122.0   \n",
       "4                         0.0       17200.0                 0.0   \n",
       "\n",
       "   pre_encumbrance_amount  budget_uncommitted_amount     account_group_name  \\\n",
       "0                     0.0                   76393.96               EXPENSES   \n",
       "1                     0.0                       0.00                    NaN   \n",
       "2                     0.0                       0.00                    NaN   \n",
       "3                     0.0                   88561.00                    NaN   \n",
       "4                     0.0                    1256.64  SALARIES AND BENEFITS   \n",
       "\n",
       "  fund account  department  \n",
       "0  100  003040           2  \n",
       "1  564  02PB01           2  \n",
       "2  42J  02R340           2  \n",
       "3  395  02PQ04           2  \n",
       "4  100  001090           2  "
      ]
     },
     "execution_count": 4,
     "metadata": {},
     "output_type": "execute_result"
    }
   ],
   "source": [
    "df.head()"
   ]
  },
  {
   "cell_type": "code",
   "execution_count": 5,
   "metadata": {},
   "outputs": [
    {
     "data": {
      "text/html": [
       "<div>\n",
       "<style scoped>\n",
       "    .dataframe tbody tr th:only-of-type {\n",
       "        vertical-align: middle;\n",
       "    }\n",
       "\n",
       "    .dataframe tbody tr th {\n",
       "        vertical-align: top;\n",
       "    }\n",
       "\n",
       "    .dataframe thead th {\n",
       "        text-align: right;\n",
       "    }\n",
       "</style>\n",
       "<table border=\"1\" class=\"dataframe\">\n",
       "  <thead>\n",
       "    <tr style=\"text-align: right;\">\n",
       "      <th></th>\n",
       "      <th>budget_fiscal_year</th>\n",
       "      <th>department_name</th>\n",
       "      <th>fund_name</th>\n",
       "      <th>account_name</th>\n",
       "      <th>adopted_budget_amount</th>\n",
       "      <th>total_expenditures</th>\n",
       "      <th>budget_change_amount</th>\n",
       "      <th>budget_transfer_in_amount</th>\n",
       "      <th>budget_transfer_out_amount</th>\n",
       "      <th>total_budget</th>\n",
       "      <th>encumbrance_amount</th>\n",
       "      <th>pre_encumbrance_amount</th>\n",
       "      <th>budget_uncommitted_amount</th>\n",
       "      <th>account_group_name</th>\n",
       "      <th>fund</th>\n",
       "      <th>account</th>\n",
       "      <th>department</th>\n",
       "    </tr>\n",
       "  </thead>\n",
       "  <tbody>\n",
       "    <tr>\n",
       "      <th>0</th>\n",
       "      <td>2018</td>\n",
       "      <td>AGING</td>\n",
       "      <td>GENERAL FUND (GENERAL BUDGET)</td>\n",
       "      <td>CONTRACTUAL SERVICES</td>\n",
       "      <td>2222382.0</td>\n",
       "      <td>1608157.04</td>\n",
       "      <td>9000.0</td>\n",
       "      <td>0.0</td>\n",
       "      <td>453500.0</td>\n",
       "      <td>1777882.0</td>\n",
       "      <td>93331.0</td>\n",
       "      <td>0.0</td>\n",
       "      <td>76393.96</td>\n",
       "      <td>EXPENSES</td>\n",
       "      <td>100</td>\n",
       "      <td>003040</td>\n",
       "      <td>2</td>\n",
       "    </tr>\n",
       "    <tr>\n",
       "      <th>1</th>\n",
       "      <td>2018</td>\n",
       "      <td>AGING</td>\n",
       "      <td>TITLE VII OLDER AMERICANS ACT</td>\n",
       "      <td>OMBUDSMAN VII A PROGRAM</td>\n",
       "      <td>0.0</td>\n",
       "      <td>87876.00</td>\n",
       "      <td>87876.0</td>\n",
       "      <td>0.0</td>\n",
       "      <td>0.0</td>\n",
       "      <td>87876.0</td>\n",
       "      <td>0.0</td>\n",
       "      <td>0.0</td>\n",
       "      <td>0.00</td>\n",
       "      <td>NaN</td>\n",
       "      <td>564</td>\n",
       "      <td>02PB01</td>\n",
       "      <td>2</td>\n",
       "    </tr>\n",
       "    <tr>\n",
       "      <th>2</th>\n",
       "      <td>2018</td>\n",
       "      <td>AGING</td>\n",
       "      <td>SENIOR HUMAN SERVICES PROGRAM</td>\n",
       "      <td>EVIDENCE BASED PROGRAMS</td>\n",
       "      <td>0.0</td>\n",
       "      <td>292338.00</td>\n",
       "      <td>303447.0</td>\n",
       "      <td>0.0</td>\n",
       "      <td>0.0</td>\n",
       "      <td>303447.0</td>\n",
       "      <td>11109.0</td>\n",
       "      <td>0.0</td>\n",
       "      <td>0.00</td>\n",
       "      <td>NaN</td>\n",
       "      <td>42J</td>\n",
       "      <td>02R340</td>\n",
       "      <td>2</td>\n",
       "    </tr>\n",
       "  </tbody>\n",
       "</table>\n",
       "</div>"
      ],
      "text/plain": [
       "   budget_fiscal_year department_name                      fund_name  \\\n",
       "0                2018           AGING  GENERAL FUND (GENERAL BUDGET)   \n",
       "1                2018           AGING  TITLE VII OLDER AMERICANS ACT   \n",
       "2                2018           AGING  SENIOR HUMAN SERVICES PROGRAM   \n",
       "\n",
       "              account_name  adopted_budget_amount  total_expenditures  \\\n",
       "0     CONTRACTUAL SERVICES              2222382.0          1608157.04   \n",
       "1  OMBUDSMAN VII A PROGRAM                    0.0            87876.00   \n",
       "2  EVIDENCE BASED PROGRAMS                    0.0           292338.00   \n",
       "\n",
       "   budget_change_amount  budget_transfer_in_amount  \\\n",
       "0                9000.0                        0.0   \n",
       "1               87876.0                        0.0   \n",
       "2              303447.0                        0.0   \n",
       "\n",
       "   budget_transfer_out_amount  total_budget  encumbrance_amount  \\\n",
       "0                    453500.0     1777882.0             93331.0   \n",
       "1                         0.0       87876.0                 0.0   \n",
       "2                         0.0      303447.0             11109.0   \n",
       "\n",
       "   pre_encumbrance_amount  budget_uncommitted_amount account_group_name fund  \\\n",
       "0                     0.0                   76393.96           EXPENSES  100   \n",
       "1                     0.0                       0.00                NaN  564   \n",
       "2                     0.0                       0.00                NaN  42J   \n",
       "\n",
       "  account  department  \n",
       "0  003040           2  \n",
       "1  02PB01           2  \n",
       "2  02R340           2  "
      ]
     },
     "execution_count": 5,
     "metadata": {},
     "output_type": "execute_result"
    }
   ],
   "source": [
    "df.head(3)"
   ]
  },
  {
   "cell_type": "markdown",
   "metadata": {},
   "source": [
    "### `.tail`\n",
    "\n",
    "The same as `.head` but for the end of our DataFrame."
   ]
  },
  {
   "cell_type": "code",
   "execution_count": 6,
   "metadata": {},
   "outputs": [
    {
     "data": {
      "text/html": [
       "<div>\n",
       "<style scoped>\n",
       "    .dataframe tbody tr th:only-of-type {\n",
       "        vertical-align: middle;\n",
       "    }\n",
       "\n",
       "    .dataframe tbody tr th {\n",
       "        vertical-align: top;\n",
       "    }\n",
       "\n",
       "    .dataframe thead th {\n",
       "        text-align: right;\n",
       "    }\n",
       "</style>\n",
       "<table border=\"1\" class=\"dataframe\">\n",
       "  <thead>\n",
       "    <tr style=\"text-align: right;\">\n",
       "      <th></th>\n",
       "      <th>budget_fiscal_year</th>\n",
       "      <th>department_name</th>\n",
       "      <th>fund_name</th>\n",
       "      <th>account_name</th>\n",
       "      <th>adopted_budget_amount</th>\n",
       "      <th>total_expenditures</th>\n",
       "      <th>budget_change_amount</th>\n",
       "      <th>budget_transfer_in_amount</th>\n",
       "      <th>budget_transfer_out_amount</th>\n",
       "      <th>total_budget</th>\n",
       "      <th>encumbrance_amount</th>\n",
       "      <th>pre_encumbrance_amount</th>\n",
       "      <th>budget_uncommitted_amount</th>\n",
       "      <th>account_group_name</th>\n",
       "      <th>fund</th>\n",
       "      <th>account</th>\n",
       "      <th>department</th>\n",
       "    </tr>\n",
       "  </thead>\n",
       "  <tbody>\n",
       "    <tr>\n",
       "      <th>3650</th>\n",
       "      <td>2018</td>\n",
       "      <td>ZOO</td>\n",
       "      <td>ZOO ENTERPRISE TRUST FUND</td>\n",
       "      <td>ZOO WASTEWATER FACILITY</td>\n",
       "      <td>0.0</td>\n",
       "      <td>242592.00</td>\n",
       "      <td>246529.75</td>\n",
       "      <td>0.0</td>\n",
       "      <td>0.0</td>\n",
       "      <td>246529.75</td>\n",
       "      <td>0.00</td>\n",
       "      <td>0.0</td>\n",
       "      <td>3937.75</td>\n",
       "      <td>NaN</td>\n",
       "      <td>40E</td>\n",
       "      <td>87P914</td>\n",
       "      <td>87</td>\n",
       "    </tr>\n",
       "    <tr>\n",
       "      <th>3651</th>\n",
       "      <td>2018</td>\n",
       "      <td>ZOO</td>\n",
       "      <td>GENERAL FUND (GENERAL BUDGET)</td>\n",
       "      <td>OVERTIME GENERAL</td>\n",
       "      <td>135164.0</td>\n",
       "      <td>164024.80</td>\n",
       "      <td>0.00</td>\n",
       "      <td>35000.0</td>\n",
       "      <td>0.0</td>\n",
       "      <td>170164.00</td>\n",
       "      <td>0.00</td>\n",
       "      <td>0.0</td>\n",
       "      <td>6139.20</td>\n",
       "      <td>SALARIES AND BENEFITS</td>\n",
       "      <td>100</td>\n",
       "      <td>001090</td>\n",
       "      <td>87</td>\n",
       "    </tr>\n",
       "    <tr>\n",
       "      <th>3652</th>\n",
       "      <td>2018</td>\n",
       "      <td>ZOO</td>\n",
       "      <td>GENERAL FUND (GENERAL BUDGET)</td>\n",
       "      <td>VETERINARY SUPPLIES &amp; EXPENSE</td>\n",
       "      <td>400000.0</td>\n",
       "      <td>309926.01</td>\n",
       "      <td>0.00</td>\n",
       "      <td>0.0</td>\n",
       "      <td>0.0</td>\n",
       "      <td>400000.00</td>\n",
       "      <td>37915.63</td>\n",
       "      <td>0.0</td>\n",
       "      <td>52158.36</td>\n",
       "      <td>EXPENSES</td>\n",
       "      <td>100</td>\n",
       "      <td>004570</td>\n",
       "      <td>87</td>\n",
       "    </tr>\n",
       "  </tbody>\n",
       "</table>\n",
       "</div>"
      ],
      "text/plain": [
       "      budget_fiscal_year department_name                      fund_name  \\\n",
       "3650                2018             ZOO      ZOO ENTERPRISE TRUST FUND   \n",
       "3651                2018             ZOO  GENERAL FUND (GENERAL BUDGET)   \n",
       "3652                2018             ZOO  GENERAL FUND (GENERAL BUDGET)   \n",
       "\n",
       "                       account_name  adopted_budget_amount  \\\n",
       "3650        ZOO WASTEWATER FACILITY                    0.0   \n",
       "3651               OVERTIME GENERAL               135164.0   \n",
       "3652  VETERINARY SUPPLIES & EXPENSE               400000.0   \n",
       "\n",
       "      total_expenditures  budget_change_amount  budget_transfer_in_amount  \\\n",
       "3650           242592.00             246529.75                        0.0   \n",
       "3651           164024.80                  0.00                    35000.0   \n",
       "3652           309926.01                  0.00                        0.0   \n",
       "\n",
       "      budget_transfer_out_amount  total_budget  encumbrance_amount  \\\n",
       "3650                         0.0     246529.75                0.00   \n",
       "3651                         0.0     170164.00                0.00   \n",
       "3652                         0.0     400000.00            37915.63   \n",
       "\n",
       "      pre_encumbrance_amount  budget_uncommitted_amount  \\\n",
       "3650                     0.0                    3937.75   \n",
       "3651                     0.0                    6139.20   \n",
       "3652                     0.0                   52158.36   \n",
       "\n",
       "         account_group_name fund account  department  \n",
       "3650                    NaN  40E  87P914          87  \n",
       "3651  SALARIES AND BENEFITS  100  001090          87  \n",
       "3652               EXPENSES  100  004570          87  "
      ]
     },
     "execution_count": 6,
     "metadata": {},
     "output_type": "execute_result"
    }
   ],
   "source": [
    "df.tail(3)"
   ]
  },
  {
   "cell_type": "markdown",
   "metadata": {},
   "source": [
    "### `.sample`\n",
    "\n",
    "Provides a random sample of the rows in our data."
   ]
  },
  {
   "cell_type": "code",
   "execution_count": 7,
   "metadata": {},
   "outputs": [
    {
     "data": {
      "text/html": [
       "<div>\n",
       "<style scoped>\n",
       "    .dataframe tbody tr th:only-of-type {\n",
       "        vertical-align: middle;\n",
       "    }\n",
       "\n",
       "    .dataframe tbody tr th {\n",
       "        vertical-align: top;\n",
       "    }\n",
       "\n",
       "    .dataframe thead th {\n",
       "        text-align: right;\n",
       "    }\n",
       "</style>\n",
       "<table border=\"1\" class=\"dataframe\">\n",
       "  <thead>\n",
       "    <tr style=\"text-align: right;\">\n",
       "      <th></th>\n",
       "      <th>budget_fiscal_year</th>\n",
       "      <th>department_name</th>\n",
       "      <th>fund_name</th>\n",
       "      <th>account_name</th>\n",
       "      <th>adopted_budget_amount</th>\n",
       "      <th>total_expenditures</th>\n",
       "      <th>budget_change_amount</th>\n",
       "      <th>budget_transfer_in_amount</th>\n",
       "      <th>budget_transfer_out_amount</th>\n",
       "      <th>total_budget</th>\n",
       "      <th>encumbrance_amount</th>\n",
       "      <th>pre_encumbrance_amount</th>\n",
       "      <th>budget_uncommitted_amount</th>\n",
       "      <th>account_group_name</th>\n",
       "      <th>fund</th>\n",
       "      <th>account</th>\n",
       "      <th>department</th>\n",
       "    </tr>\n",
       "  </thead>\n",
       "  <tbody>\n",
       "    <tr>\n",
       "      <th>2830</th>\n",
       "      <td>2018</td>\n",
       "      <td>PENSION</td>\n",
       "      <td>FIRE &amp; POLICE TIER 2 GENERAL P</td>\n",
       "      <td>SALARIES AS-NEEDED</td>\n",
       "      <td>81000.0</td>\n",
       "      <td>60247.62</td>\n",
       "      <td>0.00</td>\n",
       "      <td>0.0</td>\n",
       "      <td>0.0</td>\n",
       "      <td>81000.00</td>\n",
       "      <td>0.0</td>\n",
       "      <td>0.0</td>\n",
       "      <td>20752.38</td>\n",
       "      <td>NaN</td>\n",
       "      <td>804</td>\n",
       "      <td>641070</td>\n",
       "      <td>64</td>\n",
       "    </tr>\n",
       "    <tr>\n",
       "      <th>2426</th>\n",
       "      <td>2018</td>\n",
       "      <td>NON-DEPARTMENTAL - CAPITAL FINANCE ADMINISTRATION</td>\n",
       "      <td>GENERAL FUND (GENERAL BUDGET)</td>\n",
       "      <td>IN-CAR VIDEO (POLICE)</td>\n",
       "      <td>4040000.0</td>\n",
       "      <td>4040000.00</td>\n",
       "      <td>0.00</td>\n",
       "      <td>0.0</td>\n",
       "      <td>0.0</td>\n",
       "      <td>4040000.00</td>\n",
       "      <td>0.0</td>\n",
       "      <td>0.0</td>\n",
       "      <td>0.00</td>\n",
       "      <td>SPECIAL</td>\n",
       "      <td>100</td>\n",
       "      <td>000329</td>\n",
       "      <td>53</td>\n",
       "    </tr>\n",
       "    <tr>\n",
       "      <th>3291</th>\n",
       "      <td>2018</td>\n",
       "      <td>TRANSPORTATION</td>\n",
       "      <td>PROPOSITION A LOCAL TRANSIT</td>\n",
       "      <td>TRANSIT BUREAU DATA MANAGEMENT SYSTEM</td>\n",
       "      <td>150000.0</td>\n",
       "      <td>49800.00</td>\n",
       "      <td>0.00</td>\n",
       "      <td>0.0</td>\n",
       "      <td>0.0</td>\n",
       "      <td>150000.00</td>\n",
       "      <td>0.0</td>\n",
       "      <td>0.0</td>\n",
       "      <td>100200.00</td>\n",
       "      <td>SPECIAL</td>\n",
       "      <td>385</td>\n",
       "      <td>94P430</td>\n",
       "      <td>94</td>\n",
       "    </tr>\n",
       "    <tr>\n",
       "      <th>3364</th>\n",
       "      <td>2018</td>\n",
       "      <td>TRANSPORTATION</td>\n",
       "      <td>PROPOSITION A LOCAL TRANSIT</td>\n",
       "      <td>TRANSIT BUS RADIO AUTO VEHICLE LOCATOR SYSTEM</td>\n",
       "      <td>150000.0</td>\n",
       "      <td>4814.66</td>\n",
       "      <td>0.00</td>\n",
       "      <td>0.0</td>\n",
       "      <td>0.0</td>\n",
       "      <td>150000.00</td>\n",
       "      <td>0.0</td>\n",
       "      <td>0.0</td>\n",
       "      <td>145185.34</td>\n",
       "      <td>SPECIAL</td>\n",
       "      <td>385</td>\n",
       "      <td>94P426</td>\n",
       "      <td>94</td>\n",
       "    </tr>\n",
       "    <tr>\n",
       "      <th>2666</th>\n",
       "      <td>2018</td>\n",
       "      <td>NON-DEPARTMENTAL - GENERAL CITY PURPOSES</td>\n",
       "      <td>GENERAL FUND (GENERAL BUDGET)</td>\n",
       "      <td>CD 5 COUNCIL FEE SUBSIDY ACCT</td>\n",
       "      <td>43000.0</td>\n",
       "      <td>16860.98</td>\n",
       "      <td>57000.79</td>\n",
       "      <td>0.0</td>\n",
       "      <td>0.0</td>\n",
       "      <td>100000.79</td>\n",
       "      <td>0.0</td>\n",
       "      <td>0.0</td>\n",
       "      <td>83139.81</td>\n",
       "      <td>SPECIAL</td>\n",
       "      <td>100</td>\n",
       "      <td>000862</td>\n",
       "      <td>56</td>\n",
       "    </tr>\n",
       "  </tbody>\n",
       "</table>\n",
       "</div>"
      ],
      "text/plain": [
       "      budget_fiscal_year                                    department_name  \\\n",
       "2830                2018                                            PENSION   \n",
       "2426                2018  NON-DEPARTMENTAL - CAPITAL FINANCE ADMINISTRATION   \n",
       "3291                2018                                     TRANSPORTATION   \n",
       "3364                2018                                     TRANSPORTATION   \n",
       "2666                2018           NON-DEPARTMENTAL - GENERAL CITY PURPOSES   \n",
       "\n",
       "                           fund_name  \\\n",
       "2830  FIRE & POLICE TIER 2 GENERAL P   \n",
       "2426   GENERAL FUND (GENERAL BUDGET)   \n",
       "3291     PROPOSITION A LOCAL TRANSIT   \n",
       "3364     PROPOSITION A LOCAL TRANSIT   \n",
       "2666   GENERAL FUND (GENERAL BUDGET)   \n",
       "\n",
       "                                       account_name  adopted_budget_amount  \\\n",
       "2830                             SALARIES AS-NEEDED                81000.0   \n",
       "2426                          IN-CAR VIDEO (POLICE)              4040000.0   \n",
       "3291          TRANSIT BUREAU DATA MANAGEMENT SYSTEM               150000.0   \n",
       "3364  TRANSIT BUS RADIO AUTO VEHICLE LOCATOR SYSTEM               150000.0   \n",
       "2666                  CD 5 COUNCIL FEE SUBSIDY ACCT                43000.0   \n",
       "\n",
       "      total_expenditures  budget_change_amount  budget_transfer_in_amount  \\\n",
       "2830            60247.62                  0.00                        0.0   \n",
       "2426          4040000.00                  0.00                        0.0   \n",
       "3291            49800.00                  0.00                        0.0   \n",
       "3364             4814.66                  0.00                        0.0   \n",
       "2666            16860.98              57000.79                        0.0   \n",
       "\n",
       "      budget_transfer_out_amount  total_budget  encumbrance_amount  \\\n",
       "2830                         0.0      81000.00                 0.0   \n",
       "2426                         0.0    4040000.00                 0.0   \n",
       "3291                         0.0     150000.00                 0.0   \n",
       "3364                         0.0     150000.00                 0.0   \n",
       "2666                         0.0     100000.79                 0.0   \n",
       "\n",
       "      pre_encumbrance_amount  budget_uncommitted_amount account_group_name  \\\n",
       "2830                     0.0                   20752.38                NaN   \n",
       "2426                     0.0                       0.00            SPECIAL   \n",
       "3291                     0.0                  100200.00            SPECIAL   \n",
       "3364                     0.0                  145185.34            SPECIAL   \n",
       "2666                     0.0                   83139.81            SPECIAL   \n",
       "\n",
       "     fund account  department  \n",
       "2830  804  641070          64  \n",
       "2426  100  000329          53  \n",
       "3291  385  94P430          94  \n",
       "3364  385  94P426          94  \n",
       "2666  100  000862          56  "
      ]
     },
     "execution_count": 7,
     "metadata": {},
     "output_type": "execute_result"
    }
   ],
   "source": [
    "df.sample(5)"
   ]
  },
  {
   "cell_type": "markdown",
   "metadata": {},
   "source": [
    "### Note on Data Previews\n",
    "\n",
    "While we'll use `head` extensively throughout this demo, it's generally good practice to validate your operations by sampling from throughout your data, especially as you're learning (as you're especially prone to make mistakes that might not be apparent in just the first 5 rows).\n",
    "\n",
    "In particular, manual inspection of the `tail` of your data will often quickly reveal if there was an error while parsing/loading your data, as generally these errors will cause misalignment that propagates throughout your data and will be easily visible in your last few rows."
   ]
  },
  {
   "cell_type": "markdown",
   "metadata": {},
   "source": [
    "## `DataFrames` and `Series`\n",
    "\n",
    "The two main data structures you'll need to understand when working with Pandas are `DataFrames` and `Series`.\n",
    "\n",
    "In brief, Pandas provides tabular (table-based) access to data, porting much of the functionality of Excel and SQL into the Python environment. As such, we'll be talking a lot about rows, columns, and cells. \n",
    "\n",
    "At the same time, it is implemented to be optimized for vectorized operations, meaning that we can also think of a DataFrame as a matrix, with our Series representing vectors, and our cells being scalars. **If you don't speak linear algebra, don't worry.** If you just use Pandas built-in functions, you should see the performance benefits without ever thinking about what a vector is.\n",
    "\n",
    "Here's a table to help you organize these concepts:\n",
    "\n",
    "| Pandas structure | Common name | Linalg complement | Dimensions |\n",
    "| --- | --- | --- | --- |\n",
    "| DataFrame | table, sheet | matrix | 2-d (rows by columns) |\n",
    "| Series | column, row | vector, array | 1-d (rows and columns have length only) |\n",
    "| values | cell | scalar | 0-d (these are single values) |\n",
    "\n",
    "\n",
    "If you're inclined, you can get a deep understanding of these by [reading the docs](https://pandas.pydata.org/pandas-docs/stable/getting_started/dsintro.html).\n",
    "\n",
    "For our purposes, we'll make a few simple (but important) distinctions."
   ]
  },
  {
   "cell_type": "markdown",
   "metadata": {},
   "source": [
    "### `Series`\n",
    "\n",
    "We can think of Series as the rows and columns of a DataFrame. When we access a series, the returned preview won't be pretty printed.\n",
    "\n",
    "#### Columns\n",
    "\n",
    "We can access Series in a number of ways. Most commonly, we'll use a single square bracket notation.\n",
    "\n",
    "**NOTE**: We'll use `head` on all of our column operations to only show the first 5 rows."
   ]
  },
  {
   "cell_type": "code",
   "execution_count": 8,
   "metadata": {},
   "outputs": [
    {
     "data": {
      "text/plain": [
       "0    GENERAL FUND (GENERAL BUDGET)\n",
       "1    TITLE VII OLDER AMERICANS ACT\n",
       "2    SENIOR HUMAN SERVICES PROGRAM\n",
       "3    AREA PLAN FOR THE AGING TIT 7\n",
       "4    GENERAL FUND (GENERAL BUDGET)\n",
       "Name: fund_name, dtype: object"
      ]
     },
     "execution_count": 8,
     "metadata": {},
     "output_type": "execute_result"
    }
   ],
   "source": [
    "df['fund_name'].head()"
   ]
  },
  {
   "cell_type": "markdown",
   "metadata": {},
   "source": [
    "As long as our column names are only letters, numbers, and underscores, we can also use a dot notation to access Series."
   ]
  },
  {
   "cell_type": "code",
   "execution_count": 9,
   "metadata": {},
   "outputs": [
    {
     "data": {
      "text/plain": [
       "0    1777882.0\n",
       "1      87876.0\n",
       "2     303447.0\n",
       "3    2543845.0\n",
       "4      17200.0\n",
       "Name: total_budget, dtype: float64"
      ]
     },
     "execution_count": 9,
     "metadata": {},
     "output_type": "execute_result"
    }
   ],
   "source": [
    "df.total_budget.head()"
   ]
  },
  {
   "cell_type": "markdown",
   "metadata": {},
   "source": [
    "We can also use `.loc` notation to access a Series."
   ]
  },
  {
   "cell_type": "code",
   "execution_count": 10,
   "metadata": {},
   "outputs": [
    {
     "data": {
      "text/plain": [
       "0                CONTRACTUAL SERVICES\n",
       "1             OMBUDSMAN VII A PROGRAM\n",
       "2             EVIDENCE BASED PROGRAMS\n",
       "3    HOME DELIVERED MEALS FOR SENIORS\n",
       "4                    OVERTIME GENERAL\n",
       "Name: account_name, dtype: object"
      ]
     },
     "execution_count": 10,
     "metadata": {},
     "output_type": "execute_result"
    }
   ],
   "source": [
    "df.loc[:, 'account_name'].head()"
   ]
  },
  {
   "cell_type": "markdown",
   "metadata": {},
   "source": [
    "The `:` here indicates all rows. \n",
    "\n",
    "We can also select a specific range of rows."
   ]
  },
  {
   "cell_type": "code",
   "execution_count": 11,
   "metadata": {},
   "outputs": [
    {
     "data": {
      "text/plain": [
       "10                                TRAVEL\n",
       "11                                 AGING\n",
       "12          CONGREGATE MEALS FOR SENIORS\n",
       "13      OTO NSIP CONGREGATE MEALS III C1\n",
       "14           FINANCIAL ALIGNMENT PROGRAM\n",
       "15    ELDER ABUSE PREV PROGR FOR SENIORS\n",
       "Name: account_name, dtype: object"
      ]
     },
     "execution_count": 11,
     "metadata": {},
     "output_type": "execute_result"
    }
   ],
   "source": [
    "df.loc[10:15, 'account_name']"
   ]
  },
  {
   "cell_type": "markdown",
   "metadata": {},
   "source": [
    "We can also provide a list of specific rows we want to include."
   ]
  },
  {
   "cell_type": "code",
   "execution_count": 12,
   "metadata": {},
   "outputs": [
    {
     "data": {
      "text/plain": [
       "10                             TRAVEL\n",
       "12       CONGREGATE MEALS FOR SENIORS\n",
       "27                      HICAP 3 MONTH\n",
       "45                   SALARIES GENERAL\n",
       "500    WESTWOOD  NEIGHBORHOOD COUNCIL\n",
       "Name: account_name, dtype: object"
      ]
     },
     "execution_count": 12,
     "metadata": {},
     "output_type": "execute_result"
    }
   ],
   "source": [
    "df.loc[[10,12,27,45,500], 'account_name']"
   ]
  },
  {
   "cell_type": "markdown",
   "metadata": {},
   "source": [
    "#### Rows\n",
    "\n",
    "To return an entire row, just use `.loc` with the index label for that row."
   ]
  },
  {
   "cell_type": "code",
   "execution_count": 13,
   "metadata": {},
   "outputs": [
    {
     "data": {
      "text/plain": [
       "budget_fiscal_year                                     2018\n",
       "department_name                                       AGING\n",
       "fund_name                     GENERAL FUND (GENERAL BUDGET)\n",
       "account_name                           CONTRACTUAL SERVICES\n",
       "adopted_budget_amount                           2.22238e+06\n",
       "total_expenditures                              1.60816e+06\n",
       "budget_change_amount                                   9000\n",
       "budget_transfer_in_amount                                 0\n",
       "budget_transfer_out_amount                           453500\n",
       "total_budget                                    1.77788e+06\n",
       "encumbrance_amount                                    93331\n",
       "pre_encumbrance_amount                                    0\n",
       "budget_uncommitted_amount                             76394\n",
       "account_group_name                                 EXPENSES\n",
       "fund                                                    100\n",
       "account                                              003040\n",
       "department                                                2\n",
       "Name: 0, dtype: object"
      ]
     },
     "execution_count": 13,
     "metadata": {},
     "output_type": "execute_result"
    }
   ],
   "source": [
    "df.loc[0]"
   ]
  },
  {
   "cell_type": "markdown",
   "metadata": {},
   "source": [
    "Similar to how we specified rows for our column selections, we can specify columns for our row selections."
   ]
  },
  {
   "cell_type": "code",
   "execution_count": 14,
   "metadata": {},
   "outputs": [
    {
     "data": {
      "text/plain": [
       "fund_name       GENERAL FUND (GENERAL BUDGET)\n",
       "account_name             CONTRACTUAL SERVICES\n",
       "total_budget                      1.77788e+06\n",
       "Name: 0, dtype: object"
      ]
     },
     "execution_count": 14,
     "metadata": {},
     "output_type": "execute_result"
    }
   ],
   "source": [
    "df.loc[0, ['fund_name', 'account_name', 'total_budget']]"
   ]
  },
  {
   "cell_type": "markdown",
   "metadata": {},
   "source": [
    "We can use the same `:` notation to select a range of our columns (note that the columns returned are dependent upon the order of columns in your DataFrame)."
   ]
  },
  {
   "cell_type": "code",
   "execution_count": 15,
   "metadata": {},
   "outputs": [
    {
     "data": {
      "text/plain": [
       "fund_name                     GENERAL FUND (GENERAL BUDGET)\n",
       "account_name                           CONTRACTUAL SERVICES\n",
       "adopted_budget_amount                           2.22238e+06\n",
       "total_expenditures                              1.60816e+06\n",
       "budget_change_amount                                   9000\n",
       "budget_transfer_in_amount                                 0\n",
       "budget_transfer_out_amount                           453500\n",
       "total_budget                                    1.77788e+06\n",
       "Name: 0, dtype: object"
      ]
     },
     "execution_count": 15,
     "metadata": {},
     "output_type": "execute_result"
    }
   ],
   "source": [
    "df.loc[0, 'fund_name':'total_budget']"
   ]
  },
  {
   "cell_type": "markdown",
   "metadata": {},
   "source": [
    "#### Quick Note on `.iloc`\n",
    "\n",
    "Pandas also provides an `.iloc` selection method. This uses the numeric index of rows and columns to handle selection. While this can be useful in some applications, most times in Pandas you will have informative column and index labels that you would rather select on.\n",
    "\n",
    "When our index is a serial integer range (as here), `.loc` and `.iloc` have similar behavior when selecting rows. `.iloc` will not allow you to pass column names, however."
   ]
  },
  {
   "cell_type": "code",
   "execution_count": 16,
   "metadata": {},
   "outputs": [
    {
     "data": {
      "text/plain": [
       "budget_fiscal_year                                     2018\n",
       "department_name                                       AGING\n",
       "fund_name                     GENERAL FUND (GENERAL BUDGET)\n",
       "account_name                           CONTRACTUAL SERVICES\n",
       "adopted_budget_amount                           2.22238e+06\n",
       "total_expenditures                              1.60816e+06\n",
       "budget_change_amount                                   9000\n",
       "budget_transfer_in_amount                                 0\n",
       "budget_transfer_out_amount                           453500\n",
       "total_budget                                    1.77788e+06\n",
       "encumbrance_amount                                    93331\n",
       "pre_encumbrance_amount                                    0\n",
       "budget_uncommitted_amount                             76394\n",
       "account_group_name                                 EXPENSES\n",
       "fund                                                    100\n",
       "account                                              003040\n",
       "department                                                2\n",
       "Name: 0, dtype: object"
      ]
     },
     "execution_count": 16,
     "metadata": {},
     "output_type": "execute_result"
    }
   ],
   "source": [
    "df.iloc[0]"
   ]
  },
  {
   "cell_type": "code",
   "execution_count": 17,
   "metadata": {},
   "outputs": [
    {
     "data": {
      "text/plain": [
       "0    1608157.04\n",
       "1      87876.00\n",
       "2     292338.00\n",
       "3    2419162.00\n",
       "4      15943.36\n",
       "Name: total_expenditures, dtype: float64"
      ]
     },
     "execution_count": 17,
     "metadata": {},
     "output_type": "execute_result"
    }
   ],
   "source": [
    "df.iloc[0:5, 5]"
   ]
  },
  {
   "cell_type": "code",
   "execution_count": 18,
   "metadata": {},
   "outputs": [
    {
     "data": {
      "text/plain": [
       "fund_name                GENERAL FUND (GENERAL BUDGET)\n",
       "account_name                      CONTRACTUAL SERVICES\n",
       "adopted_budget_amount                      2.22238e+06\n",
       "total_expenditures                         1.60816e+06\n",
       "budget_change_amount                              9000\n",
       "Name: 0, dtype: object"
      ]
     },
     "execution_count": 18,
     "metadata": {},
     "output_type": "execute_result"
    }
   ],
   "source": [
    "df.iloc[0, 2:7]"
   ]
  },
  {
   "cell_type": "markdown",
   "metadata": {},
   "source": [
    "As we proceed forward and insert, sort, and remove rows and columns, it will become apparent why using specific labels makes for clearer, more robust code for selection and manipulation."
   ]
  },
  {
   "cell_type": "markdown",
   "metadata": {},
   "source": [
    "### `DataFrames`\n",
    "\n",
    "DataFrames are tables, essentially, or a collection of rows and columns. When we access a DataFrame, the returned preview will be pretty printed.\n",
    "\n",
    "**NOTE**: We'll use `head` on all of our DataFrame operations to only show the first 5 rows.\n",
    "\n",
    "To show an entire DataFrame, just type in the name and evaluate the code."
   ]
  },
  {
   "cell_type": "code",
   "execution_count": 19,
   "metadata": {},
   "outputs": [
    {
     "data": {
      "text/html": [
       "<div>\n",
       "<style scoped>\n",
       "    .dataframe tbody tr th:only-of-type {\n",
       "        vertical-align: middle;\n",
       "    }\n",
       "\n",
       "    .dataframe tbody tr th {\n",
       "        vertical-align: top;\n",
       "    }\n",
       "\n",
       "    .dataframe thead th {\n",
       "        text-align: right;\n",
       "    }\n",
       "</style>\n",
       "<table border=\"1\" class=\"dataframe\">\n",
       "  <thead>\n",
       "    <tr style=\"text-align: right;\">\n",
       "      <th></th>\n",
       "      <th>budget_fiscal_year</th>\n",
       "      <th>department_name</th>\n",
       "      <th>fund_name</th>\n",
       "      <th>account_name</th>\n",
       "      <th>adopted_budget_amount</th>\n",
       "      <th>total_expenditures</th>\n",
       "      <th>budget_change_amount</th>\n",
       "      <th>budget_transfer_in_amount</th>\n",
       "      <th>budget_transfer_out_amount</th>\n",
       "      <th>total_budget</th>\n",
       "      <th>encumbrance_amount</th>\n",
       "      <th>pre_encumbrance_amount</th>\n",
       "      <th>budget_uncommitted_amount</th>\n",
       "      <th>account_group_name</th>\n",
       "      <th>fund</th>\n",
       "      <th>account</th>\n",
       "      <th>department</th>\n",
       "    </tr>\n",
       "  </thead>\n",
       "  <tbody>\n",
       "    <tr>\n",
       "      <th>0</th>\n",
       "      <td>2018</td>\n",
       "      <td>AGING</td>\n",
       "      <td>GENERAL FUND (GENERAL BUDGET)</td>\n",
       "      <td>CONTRACTUAL SERVICES</td>\n",
       "      <td>2222382.0</td>\n",
       "      <td>1608157.04</td>\n",
       "      <td>9000.0</td>\n",
       "      <td>0.0</td>\n",
       "      <td>453500.0</td>\n",
       "      <td>1777882.0</td>\n",
       "      <td>93331.0</td>\n",
       "      <td>0.0</td>\n",
       "      <td>76393.96</td>\n",
       "      <td>EXPENSES</td>\n",
       "      <td>100</td>\n",
       "      <td>003040</td>\n",
       "      <td>2</td>\n",
       "    </tr>\n",
       "    <tr>\n",
       "      <th>1</th>\n",
       "      <td>2018</td>\n",
       "      <td>AGING</td>\n",
       "      <td>TITLE VII OLDER AMERICANS ACT</td>\n",
       "      <td>OMBUDSMAN VII A PROGRAM</td>\n",
       "      <td>0.0</td>\n",
       "      <td>87876.00</td>\n",
       "      <td>87876.0</td>\n",
       "      <td>0.0</td>\n",
       "      <td>0.0</td>\n",
       "      <td>87876.0</td>\n",
       "      <td>0.0</td>\n",
       "      <td>0.0</td>\n",
       "      <td>0.00</td>\n",
       "      <td>NaN</td>\n",
       "      <td>564</td>\n",
       "      <td>02PB01</td>\n",
       "      <td>2</td>\n",
       "    </tr>\n",
       "    <tr>\n",
       "      <th>2</th>\n",
       "      <td>2018</td>\n",
       "      <td>AGING</td>\n",
       "      <td>SENIOR HUMAN SERVICES PROGRAM</td>\n",
       "      <td>EVIDENCE BASED PROGRAMS</td>\n",
       "      <td>0.0</td>\n",
       "      <td>292338.00</td>\n",
       "      <td>303447.0</td>\n",
       "      <td>0.0</td>\n",
       "      <td>0.0</td>\n",
       "      <td>303447.0</td>\n",
       "      <td>11109.0</td>\n",
       "      <td>0.0</td>\n",
       "      <td>0.00</td>\n",
       "      <td>NaN</td>\n",
       "      <td>42J</td>\n",
       "      <td>02R340</td>\n",
       "      <td>2</td>\n",
       "    </tr>\n",
       "    <tr>\n",
       "      <th>3</th>\n",
       "      <td>2018</td>\n",
       "      <td>AGING</td>\n",
       "      <td>AREA PLAN FOR THE AGING TIT 7</td>\n",
       "      <td>HOME DELIVERED MEALS FOR SENIORS</td>\n",
       "      <td>0.0</td>\n",
       "      <td>2419162.00</td>\n",
       "      <td>2543845.0</td>\n",
       "      <td>0.0</td>\n",
       "      <td>0.0</td>\n",
       "      <td>2543845.0</td>\n",
       "      <td>36122.0</td>\n",
       "      <td>0.0</td>\n",
       "      <td>88561.00</td>\n",
       "      <td>NaN</td>\n",
       "      <td>395</td>\n",
       "      <td>02PQ04</td>\n",
       "      <td>2</td>\n",
       "    </tr>\n",
       "    <tr>\n",
       "      <th>4</th>\n",
       "      <td>2018</td>\n",
       "      <td>AGING</td>\n",
       "      <td>GENERAL FUND (GENERAL BUDGET)</td>\n",
       "      <td>OVERTIME GENERAL</td>\n",
       "      <td>3900.0</td>\n",
       "      <td>15943.36</td>\n",
       "      <td>0.0</td>\n",
       "      <td>13300.0</td>\n",
       "      <td>0.0</td>\n",
       "      <td>17200.0</td>\n",
       "      <td>0.0</td>\n",
       "      <td>0.0</td>\n",
       "      <td>1256.64</td>\n",
       "      <td>SALARIES AND BENEFITS</td>\n",
       "      <td>100</td>\n",
       "      <td>001090</td>\n",
       "      <td>2</td>\n",
       "    </tr>\n",
       "  </tbody>\n",
       "</table>\n",
       "</div>"
      ],
      "text/plain": [
       "   budget_fiscal_year department_name                      fund_name  \\\n",
       "0                2018           AGING  GENERAL FUND (GENERAL BUDGET)   \n",
       "1                2018           AGING  TITLE VII OLDER AMERICANS ACT   \n",
       "2                2018           AGING  SENIOR HUMAN SERVICES PROGRAM   \n",
       "3                2018           AGING  AREA PLAN FOR THE AGING TIT 7   \n",
       "4                2018           AGING  GENERAL FUND (GENERAL BUDGET)   \n",
       "\n",
       "                       account_name  adopted_budget_amount  \\\n",
       "0              CONTRACTUAL SERVICES              2222382.0   \n",
       "1           OMBUDSMAN VII A PROGRAM                    0.0   \n",
       "2           EVIDENCE BASED PROGRAMS                    0.0   \n",
       "3  HOME DELIVERED MEALS FOR SENIORS                    0.0   \n",
       "4                  OVERTIME GENERAL                 3900.0   \n",
       "\n",
       "   total_expenditures  budget_change_amount  budget_transfer_in_amount  \\\n",
       "0          1608157.04                9000.0                        0.0   \n",
       "1            87876.00               87876.0                        0.0   \n",
       "2           292338.00              303447.0                        0.0   \n",
       "3          2419162.00             2543845.0                        0.0   \n",
       "4            15943.36                   0.0                    13300.0   \n",
       "\n",
       "   budget_transfer_out_amount  total_budget  encumbrance_amount  \\\n",
       "0                    453500.0     1777882.0             93331.0   \n",
       "1                         0.0       87876.0                 0.0   \n",
       "2                         0.0      303447.0             11109.0   \n",
       "3                         0.0     2543845.0             36122.0   \n",
       "4                         0.0       17200.0                 0.0   \n",
       "\n",
       "   pre_encumbrance_amount  budget_uncommitted_amount     account_group_name  \\\n",
       "0                     0.0                   76393.96               EXPENSES   \n",
       "1                     0.0                       0.00                    NaN   \n",
       "2                     0.0                       0.00                    NaN   \n",
       "3                     0.0                   88561.00                    NaN   \n",
       "4                     0.0                    1256.64  SALARIES AND BENEFITS   \n",
       "\n",
       "  fund account  department  \n",
       "0  100  003040           2  \n",
       "1  564  02PB01           2  \n",
       "2  42J  02R340           2  \n",
       "3  395  02PQ04           2  \n",
       "4  100  001090           2  "
      ]
     },
     "execution_count": 19,
     "metadata": {},
     "output_type": "execute_result"
    }
   ],
   "source": [
    "df.head()"
   ]
  },
  {
   "cell_type": "markdown",
   "metadata": {},
   "source": [
    "We can use double square bracket notation to select a subset of columns."
   ]
  },
  {
   "cell_type": "code",
   "execution_count": 20,
   "metadata": {},
   "outputs": [
    {
     "data": {
      "text/html": [
       "<div>\n",
       "<style scoped>\n",
       "    .dataframe tbody tr th:only-of-type {\n",
       "        vertical-align: middle;\n",
       "    }\n",
       "\n",
       "    .dataframe tbody tr th {\n",
       "        vertical-align: top;\n",
       "    }\n",
       "\n",
       "    .dataframe thead th {\n",
       "        text-align: right;\n",
       "    }\n",
       "</style>\n",
       "<table border=\"1\" class=\"dataframe\">\n",
       "  <thead>\n",
       "    <tr style=\"text-align: right;\">\n",
       "      <th></th>\n",
       "      <th>department_name</th>\n",
       "      <th>fund_name</th>\n",
       "      <th>account_name</th>\n",
       "    </tr>\n",
       "  </thead>\n",
       "  <tbody>\n",
       "    <tr>\n",
       "      <th>0</th>\n",
       "      <td>AGING</td>\n",
       "      <td>GENERAL FUND (GENERAL BUDGET)</td>\n",
       "      <td>CONTRACTUAL SERVICES</td>\n",
       "    </tr>\n",
       "    <tr>\n",
       "      <th>1</th>\n",
       "      <td>AGING</td>\n",
       "      <td>TITLE VII OLDER AMERICANS ACT</td>\n",
       "      <td>OMBUDSMAN VII A PROGRAM</td>\n",
       "    </tr>\n",
       "    <tr>\n",
       "      <th>2</th>\n",
       "      <td>AGING</td>\n",
       "      <td>SENIOR HUMAN SERVICES PROGRAM</td>\n",
       "      <td>EVIDENCE BASED PROGRAMS</td>\n",
       "    </tr>\n",
       "    <tr>\n",
       "      <th>3</th>\n",
       "      <td>AGING</td>\n",
       "      <td>AREA PLAN FOR THE AGING TIT 7</td>\n",
       "      <td>HOME DELIVERED MEALS FOR SENIORS</td>\n",
       "    </tr>\n",
       "    <tr>\n",
       "      <th>4</th>\n",
       "      <td>AGING</td>\n",
       "      <td>GENERAL FUND (GENERAL BUDGET)</td>\n",
       "      <td>OVERTIME GENERAL</td>\n",
       "    </tr>\n",
       "  </tbody>\n",
       "</table>\n",
       "</div>"
      ],
      "text/plain": [
       "  department_name                      fund_name  \\\n",
       "0           AGING  GENERAL FUND (GENERAL BUDGET)   \n",
       "1           AGING  TITLE VII OLDER AMERICANS ACT   \n",
       "2           AGING  SENIOR HUMAN SERVICES PROGRAM   \n",
       "3           AGING  AREA PLAN FOR THE AGING TIT 7   \n",
       "4           AGING  GENERAL FUND (GENERAL BUDGET)   \n",
       "\n",
       "                       account_name  \n",
       "0              CONTRACTUAL SERVICES  \n",
       "1           OMBUDSMAN VII A PROGRAM  \n",
       "2           EVIDENCE BASED PROGRAMS  \n",
       "3  HOME DELIVERED MEALS FOR SENIORS  \n",
       "4                  OVERTIME GENERAL  "
      ]
     },
     "execution_count": 20,
     "metadata": {},
     "output_type": "execute_result"
    }
   ],
   "source": [
    "df[['department_name', 'fund_name', 'account_name']].head()"
   ]
  },
  {
   "cell_type": "markdown",
   "metadata": {},
   "source": [
    "We could have also selected a single column in this way, still returning a DataFrame.\n",
    "\n",
    "**NOTE**: While here we look at a single column, we still have a DataFrame rather than a Series. Certain Pandas operations require Series and will error out if we try to pass a DataFrame instead."
   ]
  },
  {
   "cell_type": "code",
   "execution_count": 21,
   "metadata": {},
   "outputs": [
    {
     "data": {
      "text/html": [
       "<div>\n",
       "<style scoped>\n",
       "    .dataframe tbody tr th:only-of-type {\n",
       "        vertical-align: middle;\n",
       "    }\n",
       "\n",
       "    .dataframe tbody tr th {\n",
       "        vertical-align: top;\n",
       "    }\n",
       "\n",
       "    .dataframe thead th {\n",
       "        text-align: right;\n",
       "    }\n",
       "</style>\n",
       "<table border=\"1\" class=\"dataframe\">\n",
       "  <thead>\n",
       "    <tr style=\"text-align: right;\">\n",
       "      <th></th>\n",
       "      <th>fund_name</th>\n",
       "    </tr>\n",
       "  </thead>\n",
       "  <tbody>\n",
       "    <tr>\n",
       "      <th>0</th>\n",
       "      <td>GENERAL FUND (GENERAL BUDGET)</td>\n",
       "    </tr>\n",
       "    <tr>\n",
       "      <th>1</th>\n",
       "      <td>TITLE VII OLDER AMERICANS ACT</td>\n",
       "    </tr>\n",
       "    <tr>\n",
       "      <th>2</th>\n",
       "      <td>SENIOR HUMAN SERVICES PROGRAM</td>\n",
       "    </tr>\n",
       "    <tr>\n",
       "      <th>3</th>\n",
       "      <td>AREA PLAN FOR THE AGING TIT 7</td>\n",
       "    </tr>\n",
       "    <tr>\n",
       "      <th>4</th>\n",
       "      <td>GENERAL FUND (GENERAL BUDGET)</td>\n",
       "    </tr>\n",
       "  </tbody>\n",
       "</table>\n",
       "</div>"
      ],
      "text/plain": [
       "                       fund_name\n",
       "0  GENERAL FUND (GENERAL BUDGET)\n",
       "1  TITLE VII OLDER AMERICANS ACT\n",
       "2  SENIOR HUMAN SERVICES PROGRAM\n",
       "3  AREA PLAN FOR THE AGING TIT 7\n",
       "4  GENERAL FUND (GENERAL BUDGET)"
      ]
     },
     "execution_count": 21,
     "metadata": {},
     "output_type": "execute_result"
    }
   ],
   "source": [
    "df[['fund_name']].head()"
   ]
  },
  {
   "cell_type": "markdown",
   "metadata": {},
   "source": [
    "We can nest brackets within our `.loc` notation to return a DataFrame instead of a Series."
   ]
  },
  {
   "cell_type": "code",
   "execution_count": 22,
   "metadata": {},
   "outputs": [
    {
     "data": {
      "text/html": [
       "<div>\n",
       "<style scoped>\n",
       "    .dataframe tbody tr th:only-of-type {\n",
       "        vertical-align: middle;\n",
       "    }\n",
       "\n",
       "    .dataframe tbody tr th {\n",
       "        vertical-align: top;\n",
       "    }\n",
       "\n",
       "    .dataframe thead th {\n",
       "        text-align: right;\n",
       "    }\n",
       "</style>\n",
       "<table border=\"1\" class=\"dataframe\">\n",
       "  <thead>\n",
       "    <tr style=\"text-align: right;\">\n",
       "      <th></th>\n",
       "      <th>department_name</th>\n",
       "      <th>total_expenditures</th>\n",
       "    </tr>\n",
       "  </thead>\n",
       "  <tbody>\n",
       "    <tr>\n",
       "      <th>0</th>\n",
       "      <td>AGING</td>\n",
       "      <td>1608157.04</td>\n",
       "    </tr>\n",
       "    <tr>\n",
       "      <th>1</th>\n",
       "      <td>AGING</td>\n",
       "      <td>87876.00</td>\n",
       "    </tr>\n",
       "    <tr>\n",
       "      <th>2</th>\n",
       "      <td>AGING</td>\n",
       "      <td>292338.00</td>\n",
       "    </tr>\n",
       "    <tr>\n",
       "      <th>3</th>\n",
       "      <td>AGING</td>\n",
       "      <td>2419162.00</td>\n",
       "    </tr>\n",
       "    <tr>\n",
       "      <th>4</th>\n",
       "      <td>AGING</td>\n",
       "      <td>15943.36</td>\n",
       "    </tr>\n",
       "  </tbody>\n",
       "</table>\n",
       "</div>"
      ],
      "text/plain": [
       "  department_name  total_expenditures\n",
       "0           AGING          1608157.04\n",
       "1           AGING            87876.00\n",
       "2           AGING           292338.00\n",
       "3           AGING          2419162.00\n",
       "4           AGING            15943.36"
      ]
     },
     "execution_count": 22,
     "metadata": {},
     "output_type": "execute_result"
    }
   ],
   "source": [
    "df.loc[:, ['department_name','total_expenditures']].head()"
   ]
  },
  {
   "cell_type": "markdown",
   "metadata": {},
   "source": [
    "This is especially useful when we're interested in looking at multiple columns for a range of rows."
   ]
  },
  {
   "cell_type": "code",
   "execution_count": 23,
   "metadata": {},
   "outputs": [
    {
     "data": {
      "text/html": [
       "<div>\n",
       "<style scoped>\n",
       "    .dataframe tbody tr th:only-of-type {\n",
       "        vertical-align: middle;\n",
       "    }\n",
       "\n",
       "    .dataframe tbody tr th {\n",
       "        vertical-align: top;\n",
       "    }\n",
       "\n",
       "    .dataframe thead th {\n",
       "        text-align: right;\n",
       "    }\n",
       "</style>\n",
       "<table border=\"1\" class=\"dataframe\">\n",
       "  <thead>\n",
       "    <tr style=\"text-align: right;\">\n",
       "      <th></th>\n",
       "      <th>department_name</th>\n",
       "      <th>total_expenditures</th>\n",
       "    </tr>\n",
       "  </thead>\n",
       "  <tbody>\n",
       "    <tr>\n",
       "      <th>0</th>\n",
       "      <td>AGING</td>\n",
       "      <td>1608157.04</td>\n",
       "    </tr>\n",
       "    <tr>\n",
       "      <th>1</th>\n",
       "      <td>AGING</td>\n",
       "      <td>87876.00</td>\n",
       "    </tr>\n",
       "    <tr>\n",
       "      <th>2</th>\n",
       "      <td>AGING</td>\n",
       "      <td>292338.00</td>\n",
       "    </tr>\n",
       "    <tr>\n",
       "      <th>3</th>\n",
       "      <td>AGING</td>\n",
       "      <td>2419162.00</td>\n",
       "    </tr>\n",
       "    <tr>\n",
       "      <th>4</th>\n",
       "      <td>AGING</td>\n",
       "      <td>15943.36</td>\n",
       "    </tr>\n",
       "    <tr>\n",
       "      <th>5</th>\n",
       "      <td>AGING</td>\n",
       "      <td>256193.00</td>\n",
       "    </tr>\n",
       "    <tr>\n",
       "      <th>6</th>\n",
       "      <td>AGING</td>\n",
       "      <td>218106.00</td>\n",
       "    </tr>\n",
       "    <tr>\n",
       "      <th>7</th>\n",
       "      <td>AGING</td>\n",
       "      <td>2740986.00</td>\n",
       "    </tr>\n",
       "    <tr>\n",
       "      <th>8</th>\n",
       "      <td>AGING</td>\n",
       "      <td>4393789.00</td>\n",
       "    </tr>\n",
       "    <tr>\n",
       "      <th>9</th>\n",
       "      <td>AGING</td>\n",
       "      <td>1444876.40</td>\n",
       "    </tr>\n",
       "    <tr>\n",
       "      <th>10</th>\n",
       "      <td>AGING</td>\n",
       "      <td>5347.79</td>\n",
       "    </tr>\n",
       "  </tbody>\n",
       "</table>\n",
       "</div>"
      ],
      "text/plain": [
       "   department_name  total_expenditures\n",
       "0            AGING          1608157.04\n",
       "1            AGING            87876.00\n",
       "2            AGING           292338.00\n",
       "3            AGING          2419162.00\n",
       "4            AGING            15943.36\n",
       "5            AGING           256193.00\n",
       "6            AGING           218106.00\n",
       "7            AGING          2740986.00\n",
       "8            AGING          4393789.00\n",
       "9            AGING          1444876.40\n",
       "10           AGING             5347.79"
      ]
     },
     "execution_count": 23,
     "metadata": {},
     "output_type": "execute_result"
    }
   ],
   "source": [
    "df.loc[0:10, ['department_name','total_expenditures']]"
   ]
  },
  {
   "cell_type": "markdown",
   "metadata": {},
   "source": [
    "Or when we're interested in selecting specific rows with multiple columns."
   ]
  },
  {
   "cell_type": "code",
   "execution_count": 24,
   "metadata": {},
   "outputs": [
    {
     "data": {
      "text/html": [
       "<div>\n",
       "<style scoped>\n",
       "    .dataframe tbody tr th:only-of-type {\n",
       "        vertical-align: middle;\n",
       "    }\n",
       "\n",
       "    .dataframe tbody tr th {\n",
       "        vertical-align: top;\n",
       "    }\n",
       "\n",
       "    .dataframe thead th {\n",
       "        text-align: right;\n",
       "    }\n",
       "</style>\n",
       "<table border=\"1\" class=\"dataframe\">\n",
       "  <thead>\n",
       "    <tr style=\"text-align: right;\">\n",
       "      <th></th>\n",
       "      <th>fund_name</th>\n",
       "      <th>adopted_budget_amount</th>\n",
       "    </tr>\n",
       "  </thead>\n",
       "  <tbody>\n",
       "    <tr>\n",
       "      <th>0</th>\n",
       "      <td>GENERAL FUND (GENERAL BUDGET)</td>\n",
       "      <td>2222382.0</td>\n",
       "    </tr>\n",
       "    <tr>\n",
       "      <th>10</th>\n",
       "      <td>GENERAL FUND (GENERAL BUDGET)</td>\n",
       "      <td>8650.0</td>\n",
       "    </tr>\n",
       "    <tr>\n",
       "      <th>20</th>\n",
       "      <td>AREA PLAN FOR THE AGING TIT 7</td>\n",
       "      <td>0.0</td>\n",
       "    </tr>\n",
       "    <tr>\n",
       "      <th>30</th>\n",
       "      <td>AREA PLAN FOR THE AGING TIT 7</td>\n",
       "      <td>0.0</td>\n",
       "    </tr>\n",
       "    <tr>\n",
       "      <th>40</th>\n",
       "      <td>GENERAL FUND (GENERAL BUDGET)</td>\n",
       "      <td>222431.0</td>\n",
       "    </tr>\n",
       "  </tbody>\n",
       "</table>\n",
       "</div>"
      ],
      "text/plain": [
       "                        fund_name  adopted_budget_amount\n",
       "0   GENERAL FUND (GENERAL BUDGET)              2222382.0\n",
       "10  GENERAL FUND (GENERAL BUDGET)                 8650.0\n",
       "20  AREA PLAN FOR THE AGING TIT 7                    0.0\n",
       "30  AREA PLAN FOR THE AGING TIT 7                    0.0\n",
       "40  GENERAL FUND (GENERAL BUDGET)               222431.0"
      ]
     },
     "execution_count": 24,
     "metadata": {},
     "output_type": "execute_result"
    }
   ],
   "source": [
    "df.loc[[0,10,20,30,40], ['fund_name', 'adopted_budget_amount']]"
   ]
  },
  {
   "cell_type": "markdown",
   "metadata": {},
   "source": [
    "If we nest brackets on just our rows, we'll again get a DataFrame rather than a Series."
   ]
  },
  {
   "cell_type": "code",
   "execution_count": 25,
   "metadata": {},
   "outputs": [
    {
     "data": {
      "text/html": [
       "<div>\n",
       "<style scoped>\n",
       "    .dataframe tbody tr th:only-of-type {\n",
       "        vertical-align: middle;\n",
       "    }\n",
       "\n",
       "    .dataframe tbody tr th {\n",
       "        vertical-align: top;\n",
       "    }\n",
       "\n",
       "    .dataframe thead th {\n",
       "        text-align: right;\n",
       "    }\n",
       "</style>\n",
       "<table border=\"1\" class=\"dataframe\">\n",
       "  <thead>\n",
       "    <tr style=\"text-align: right;\">\n",
       "      <th></th>\n",
       "      <th>budget_fiscal_year</th>\n",
       "      <th>department_name</th>\n",
       "      <th>fund_name</th>\n",
       "      <th>account_name</th>\n",
       "      <th>adopted_budget_amount</th>\n",
       "      <th>total_expenditures</th>\n",
       "      <th>budget_change_amount</th>\n",
       "      <th>budget_transfer_in_amount</th>\n",
       "      <th>budget_transfer_out_amount</th>\n",
       "      <th>total_budget</th>\n",
       "      <th>encumbrance_amount</th>\n",
       "      <th>pre_encumbrance_amount</th>\n",
       "      <th>budget_uncommitted_amount</th>\n",
       "      <th>account_group_name</th>\n",
       "      <th>fund</th>\n",
       "      <th>account</th>\n",
       "      <th>department</th>\n",
       "    </tr>\n",
       "  </thead>\n",
       "  <tbody>\n",
       "    <tr>\n",
       "      <th>0</th>\n",
       "      <td>2018</td>\n",
       "      <td>AGING</td>\n",
       "      <td>GENERAL FUND (GENERAL BUDGET)</td>\n",
       "      <td>CONTRACTUAL SERVICES</td>\n",
       "      <td>2222382.0</td>\n",
       "      <td>1608157.04</td>\n",
       "      <td>9000.0</td>\n",
       "      <td>0.0</td>\n",
       "      <td>453500.0</td>\n",
       "      <td>1777882.0</td>\n",
       "      <td>93331.0</td>\n",
       "      <td>0.0</td>\n",
       "      <td>76393.96</td>\n",
       "      <td>EXPENSES</td>\n",
       "      <td>100</td>\n",
       "      <td>003040</td>\n",
       "      <td>2</td>\n",
       "    </tr>\n",
       "  </tbody>\n",
       "</table>\n",
       "</div>"
      ],
      "text/plain": [
       "   budget_fiscal_year department_name                      fund_name  \\\n",
       "0                2018           AGING  GENERAL FUND (GENERAL BUDGET)   \n",
       "\n",
       "           account_name  adopted_budget_amount  total_expenditures  \\\n",
       "0  CONTRACTUAL SERVICES              2222382.0          1608157.04   \n",
       "\n",
       "   budget_change_amount  budget_transfer_in_amount  \\\n",
       "0                9000.0                        0.0   \n",
       "\n",
       "   budget_transfer_out_amount  total_budget  encumbrance_amount  \\\n",
       "0                    453500.0     1777882.0             93331.0   \n",
       "\n",
       "   pre_encumbrance_amount  budget_uncommitted_amount account_group_name fund  \\\n",
       "0                     0.0                   76393.96           EXPENSES  100   \n",
       "\n",
       "  account  department  \n",
       "0  003040           2  "
      ]
     },
     "execution_count": 25,
     "metadata": {},
     "output_type": "execute_result"
    }
   ],
   "source": [
    "df.loc[[0]]"
   ]
  },
  {
   "cell_type": "markdown",
   "metadata": {},
   "source": [
    "This can be used to select one or many rows, with one or many columns."
   ]
  },
  {
   "cell_type": "code",
   "execution_count": 26,
   "metadata": {},
   "outputs": [
    {
     "data": {
      "text/html": [
       "<div>\n",
       "<style scoped>\n",
       "    .dataframe tbody tr th:only-of-type {\n",
       "        vertical-align: middle;\n",
       "    }\n",
       "\n",
       "    .dataframe tbody tr th {\n",
       "        vertical-align: top;\n",
       "    }\n",
       "\n",
       "    .dataframe thead th {\n",
       "        text-align: right;\n",
       "    }\n",
       "</style>\n",
       "<table border=\"1\" class=\"dataframe\">\n",
       "  <thead>\n",
       "    <tr style=\"text-align: right;\">\n",
       "      <th></th>\n",
       "      <th>budget_fiscal_year</th>\n",
       "      <th>department_name</th>\n",
       "      <th>fund_name</th>\n",
       "      <th>account_name</th>\n",
       "      <th>adopted_budget_amount</th>\n",
       "      <th>total_expenditures</th>\n",
       "      <th>budget_change_amount</th>\n",
       "      <th>budget_transfer_in_amount</th>\n",
       "      <th>budget_transfer_out_amount</th>\n",
       "      <th>total_budget</th>\n",
       "      <th>encumbrance_amount</th>\n",
       "      <th>pre_encumbrance_amount</th>\n",
       "      <th>budget_uncommitted_amount</th>\n",
       "      <th>account_group_name</th>\n",
       "      <th>fund</th>\n",
       "      <th>account</th>\n",
       "      <th>department</th>\n",
       "    </tr>\n",
       "  </thead>\n",
       "  <tbody>\n",
       "    <tr>\n",
       "      <th>50</th>\n",
       "      <td>2018</td>\n",
       "      <td>AIRPORTS</td>\n",
       "      <td>AIRPORT REVENUE FUND-ONTARIO</td>\n",
       "      <td>SALARIES GENERAL</td>\n",
       "      <td>0.0</td>\n",
       "      <td>5.909209e+06</td>\n",
       "      <td>0.0</td>\n",
       "      <td>0.0</td>\n",
       "      <td>0.0</td>\n",
       "      <td>0.0</td>\n",
       "      <td>0.0</td>\n",
       "      <td>0.0</td>\n",
       "      <td>-5.909209e+06</td>\n",
       "      <td>NaN</td>\n",
       "      <td>723</td>\n",
       "      <td>041010</td>\n",
       "      <td>4</td>\n",
       "    </tr>\n",
       "    <tr>\n",
       "      <th>51</th>\n",
       "      <td>2018</td>\n",
       "      <td>AIRPORTS</td>\n",
       "      <td>AIRPORT REVENUE</td>\n",
       "      <td>HIRING HALL-OVERTIME</td>\n",
       "      <td>0.0</td>\n",
       "      <td>8.864508e+04</td>\n",
       "      <td>0.0</td>\n",
       "      <td>0.0</td>\n",
       "      <td>0.0</td>\n",
       "      <td>0.0</td>\n",
       "      <td>0.0</td>\n",
       "      <td>0.0</td>\n",
       "      <td>-8.864508e+04</td>\n",
       "      <td>NaN</td>\n",
       "      <td>700</td>\n",
       "      <td>041190</td>\n",
       "      <td>4</td>\n",
       "    </tr>\n",
       "    <tr>\n",
       "      <th>52</th>\n",
       "      <td>2018</td>\n",
       "      <td>AIRPORTS</td>\n",
       "      <td>AIRPORT REVENUE</td>\n",
       "      <td>OTHER EXPENDITURES</td>\n",
       "      <td>0.0</td>\n",
       "      <td>1.943900e+09</td>\n",
       "      <td>0.0</td>\n",
       "      <td>0.0</td>\n",
       "      <td>0.0</td>\n",
       "      <td>0.0</td>\n",
       "      <td>0.0</td>\n",
       "      <td>0.0</td>\n",
       "      <td>-1.943900e+09</td>\n",
       "      <td>NaN</td>\n",
       "      <td>700</td>\n",
       "      <td>041000</td>\n",
       "      <td>4</td>\n",
       "    </tr>\n",
       "    <tr>\n",
       "      <th>53</th>\n",
       "      <td>2018</td>\n",
       "      <td>AIRPORTS</td>\n",
       "      <td>DEA FEDERAL FORFEIT PROP-LAWA/</td>\n",
       "      <td>OTHER EXPENDITURES</td>\n",
       "      <td>0.0</td>\n",
       "      <td>1.821408e+05</td>\n",
       "      <td>0.0</td>\n",
       "      <td>0.0</td>\n",
       "      <td>0.0</td>\n",
       "      <td>0.0</td>\n",
       "      <td>0.0</td>\n",
       "      <td>0.0</td>\n",
       "      <td>-1.821408e+05</td>\n",
       "      <td>NaN</td>\n",
       "      <td>74L</td>\n",
       "      <td>041000</td>\n",
       "      <td>4</td>\n",
       "    </tr>\n",
       "    <tr>\n",
       "      <th>54</th>\n",
       "      <td>2018</td>\n",
       "      <td>AIRPORTS</td>\n",
       "      <td>AIRPORT REVENUE FUND-ONTARIO</td>\n",
       "      <td>OTHER EXPENDITURES</td>\n",
       "      <td>0.0</td>\n",
       "      <td>8.205629e+06</td>\n",
       "      <td>0.0</td>\n",
       "      <td>0.0</td>\n",
       "      <td>0.0</td>\n",
       "      <td>0.0</td>\n",
       "      <td>0.0</td>\n",
       "      <td>0.0</td>\n",
       "      <td>-8.205629e+06</td>\n",
       "      <td>NaN</td>\n",
       "      <td>723</td>\n",
       "      <td>041000</td>\n",
       "      <td>4</td>\n",
       "    </tr>\n",
       "    <tr>\n",
       "      <th>55</th>\n",
       "      <td>2018</td>\n",
       "      <td>AIRPORTS</td>\n",
       "      <td>PASSENGER FACILITY CHARGE -LAX</td>\n",
       "      <td>OTHER EXPENDITURES</td>\n",
       "      <td>0.0</td>\n",
       "      <td>2.737955e+08</td>\n",
       "      <td>0.0</td>\n",
       "      <td>0.0</td>\n",
       "      <td>0.0</td>\n",
       "      <td>0.0</td>\n",
       "      <td>0.0</td>\n",
       "      <td>0.0</td>\n",
       "      <td>-2.737955e+08</td>\n",
       "      <td>NaN</td>\n",
       "      <td>71R</td>\n",
       "      <td>041000</td>\n",
       "      <td>4</td>\n",
       "    </tr>\n",
       "  </tbody>\n",
       "</table>\n",
       "</div>"
      ],
      "text/plain": [
       "    budget_fiscal_year department_name                       fund_name  \\\n",
       "50                2018        AIRPORTS    AIRPORT REVENUE FUND-ONTARIO   \n",
       "51                2018        AIRPORTS                 AIRPORT REVENUE   \n",
       "52                2018        AIRPORTS                 AIRPORT REVENUE   \n",
       "53                2018        AIRPORTS  DEA FEDERAL FORFEIT PROP-LAWA/   \n",
       "54                2018        AIRPORTS    AIRPORT REVENUE FUND-ONTARIO   \n",
       "55                2018        AIRPORTS  PASSENGER FACILITY CHARGE -LAX   \n",
       "\n",
       "            account_name  adopted_budget_amount  total_expenditures  \\\n",
       "50      SALARIES GENERAL                    0.0        5.909209e+06   \n",
       "51  HIRING HALL-OVERTIME                    0.0        8.864508e+04   \n",
       "52    OTHER EXPENDITURES                    0.0        1.943900e+09   \n",
       "53    OTHER EXPENDITURES                    0.0        1.821408e+05   \n",
       "54    OTHER EXPENDITURES                    0.0        8.205629e+06   \n",
       "55    OTHER EXPENDITURES                    0.0        2.737955e+08   \n",
       "\n",
       "    budget_change_amount  budget_transfer_in_amount  \\\n",
       "50                   0.0                        0.0   \n",
       "51                   0.0                        0.0   \n",
       "52                   0.0                        0.0   \n",
       "53                   0.0                        0.0   \n",
       "54                   0.0                        0.0   \n",
       "55                   0.0                        0.0   \n",
       "\n",
       "    budget_transfer_out_amount  total_budget  encumbrance_amount  \\\n",
       "50                         0.0           0.0                 0.0   \n",
       "51                         0.0           0.0                 0.0   \n",
       "52                         0.0           0.0                 0.0   \n",
       "53                         0.0           0.0                 0.0   \n",
       "54                         0.0           0.0                 0.0   \n",
       "55                         0.0           0.0                 0.0   \n",
       "\n",
       "    pre_encumbrance_amount  budget_uncommitted_amount account_group_name fund  \\\n",
       "50                     0.0              -5.909209e+06                NaN  723   \n",
       "51                     0.0              -8.864508e+04                NaN  700   \n",
       "52                     0.0              -1.943900e+09                NaN  700   \n",
       "53                     0.0              -1.821408e+05                NaN  74L   \n",
       "54                     0.0              -8.205629e+06                NaN  723   \n",
       "55                     0.0              -2.737955e+08                NaN  71R   \n",
       "\n",
       "   account  department  \n",
       "50  041010           4  \n",
       "51  041190           4  \n",
       "52  041000           4  \n",
       "53  041000           4  \n",
       "54  041000           4  \n",
       "55  041000           4  "
      ]
     },
     "execution_count": 26,
     "metadata": {},
     "output_type": "execute_result"
    }
   ],
   "source": [
    "df.loc[[50,51,52,53,54,55]]"
   ]
  },
  {
   "cell_type": "markdown",
   "metadata": {},
   "source": [
    "#### A Note on Transpose\n",
    "\n",
    "DataFrames contain a transpose attribute, `.T`. This doesn't change the underlying data, but just changes the orientation of the returned preview, switching the location or rows with columns."
   ]
  },
  {
   "cell_type": "code",
   "execution_count": 27,
   "metadata": {},
   "outputs": [
    {
     "data": {
      "text/html": [
       "<div>\n",
       "<style scoped>\n",
       "    .dataframe tbody tr th:only-of-type {\n",
       "        vertical-align: middle;\n",
       "    }\n",
       "\n",
       "    .dataframe tbody tr th {\n",
       "        vertical-align: top;\n",
       "    }\n",
       "\n",
       "    .dataframe thead th {\n",
       "        text-align: right;\n",
       "    }\n",
       "</style>\n",
       "<table border=\"1\" class=\"dataframe\">\n",
       "  <thead>\n",
       "    <tr style=\"text-align: right;\">\n",
       "      <th></th>\n",
       "      <th>0</th>\n",
       "      <th>1</th>\n",
       "      <th>2</th>\n",
       "      <th>3</th>\n",
       "      <th>4</th>\n",
       "      <th>5</th>\n",
       "      <th>6</th>\n",
       "      <th>7</th>\n",
       "      <th>8</th>\n",
       "      <th>9</th>\n",
       "      <th>...</th>\n",
       "      <th>3643</th>\n",
       "      <th>3644</th>\n",
       "      <th>3645</th>\n",
       "      <th>3646</th>\n",
       "      <th>3647</th>\n",
       "      <th>3648</th>\n",
       "      <th>3649</th>\n",
       "      <th>3650</th>\n",
       "      <th>3651</th>\n",
       "      <th>3652</th>\n",
       "    </tr>\n",
       "  </thead>\n",
       "  <tbody>\n",
       "    <tr>\n",
       "      <th>budget_fiscal_year</th>\n",
       "      <td>2018</td>\n",
       "      <td>2018</td>\n",
       "      <td>2018</td>\n",
       "      <td>2018</td>\n",
       "      <td>2018</td>\n",
       "      <td>2018</td>\n",
       "      <td>2018</td>\n",
       "      <td>2018</td>\n",
       "      <td>2018</td>\n",
       "      <td>2018</td>\n",
       "      <td>...</td>\n",
       "      <td>2018</td>\n",
       "      <td>2018</td>\n",
       "      <td>2018</td>\n",
       "      <td>2018</td>\n",
       "      <td>2018</td>\n",
       "      <td>2018</td>\n",
       "      <td>2018</td>\n",
       "      <td>2018</td>\n",
       "      <td>2018</td>\n",
       "      <td>2018</td>\n",
       "    </tr>\n",
       "    <tr>\n",
       "      <th>department_name</th>\n",
       "      <td>AGING</td>\n",
       "      <td>AGING</td>\n",
       "      <td>AGING</td>\n",
       "      <td>AGING</td>\n",
       "      <td>AGING</td>\n",
       "      <td>AGING</td>\n",
       "      <td>AGING</td>\n",
       "      <td>AGING</td>\n",
       "      <td>AGING</td>\n",
       "      <td>AGING</td>\n",
       "      <td>...</td>\n",
       "      <td>ZOO</td>\n",
       "      <td>ZOO</td>\n",
       "      <td>ZOO</td>\n",
       "      <td>ZOO</td>\n",
       "      <td>ZOO</td>\n",
       "      <td>ZOO</td>\n",
       "      <td>ZOO</td>\n",
       "      <td>ZOO</td>\n",
       "      <td>ZOO</td>\n",
       "      <td>ZOO</td>\n",
       "    </tr>\n",
       "    <tr>\n",
       "      <th>fund_name</th>\n",
       "      <td>GENERAL FUND (GENERAL BUDGET)</td>\n",
       "      <td>TITLE VII OLDER AMERICANS ACT</td>\n",
       "      <td>SENIOR HUMAN SERVICES PROGRAM</td>\n",
       "      <td>AREA PLAN FOR THE AGING TIT 7</td>\n",
       "      <td>GENERAL FUND (GENERAL BUDGET)</td>\n",
       "      <td>OMBUDSMAN INITIATIVE PROGRAM F</td>\n",
       "      <td>AREA PLAN FOR THE AGING TIT 7</td>\n",
       "      <td>AREA PLAN FOR THE AGING TIT 7</td>\n",
       "      <td>AREA PLAN FOR THE AGING TIT 7</td>\n",
       "      <td>OTHER PROGRAMS FOR THE AGING</td>\n",
       "      <td>...</td>\n",
       "      <td>GENERAL FUND (GENERAL BUDGET)</td>\n",
       "      <td>GENERAL FUND (GENERAL BUDGET)</td>\n",
       "      <td>ZOO ENTERPRISE TRUST FUND</td>\n",
       "      <td>GENERAL FUND (GENERAL BUDGET)</td>\n",
       "      <td>GENERAL FUND (GENERAL BUDGET)</td>\n",
       "      <td>ZOO ENTERPRISE TRUST FUND</td>\n",
       "      <td>ZOO ENTERPRISE TRUST FUND</td>\n",
       "      <td>ZOO ENTERPRISE TRUST FUND</td>\n",
       "      <td>GENERAL FUND (GENERAL BUDGET)</td>\n",
       "      <td>GENERAL FUND (GENERAL BUDGET)</td>\n",
       "    </tr>\n",
       "    <tr>\n",
       "      <th>account_name</th>\n",
       "      <td>CONTRACTUAL SERVICES</td>\n",
       "      <td>OMBUDSMAN VII A PROGRAM</td>\n",
       "      <td>EVIDENCE BASED PROGRAMS</td>\n",
       "      <td>HOME DELIVERED MEALS FOR SENIORS</td>\n",
       "      <td>OVERTIME GENERAL</td>\n",
       "      <td>STATE HEALTH FACILITIES CITATION PENALTIES</td>\n",
       "      <td>PREVENTIVE HEALTH III D</td>\n",
       "      <td>HOME DELIVERED MEALS III C2</td>\n",
       "      <td>CONGREGATE MEALS III C1</td>\n",
       "      <td>ENROLLEE WAGES</td>\n",
       "      <td>...</td>\n",
       "      <td>SALARIES GENERAL</td>\n",
       "      <td>FEED AND GRAIN</td>\n",
       "      <td>PUBLIC WORKS - ENGINEERING</td>\n",
       "      <td>PRINTING AND BINDING</td>\n",
       "      <td>OPERATING SUPPLIES</td>\n",
       "      <td>ZOO</td>\n",
       "      <td>ZOO PROGRAMS &amp; OPERATIONS</td>\n",
       "      <td>ZOO WASTEWATER FACILITY</td>\n",
       "      <td>OVERTIME GENERAL</td>\n",
       "      <td>VETERINARY SUPPLIES &amp; EXPENSE</td>\n",
       "    </tr>\n",
       "    <tr>\n",
       "      <th>adopted_budget_amount</th>\n",
       "      <td>2.22238e+06</td>\n",
       "      <td>0</td>\n",
       "      <td>0</td>\n",
       "      <td>0</td>\n",
       "      <td>3900</td>\n",
       "      <td>0</td>\n",
       "      <td>0</td>\n",
       "      <td>0</td>\n",
       "      <td>0</td>\n",
       "      <td>0</td>\n",
       "      <td>...</td>\n",
       "      <td>1.60662e+07</td>\n",
       "      <td>914648</td>\n",
       "      <td>0</td>\n",
       "      <td>70000</td>\n",
       "      <td>130000</td>\n",
       "      <td>2.20124e+07</td>\n",
       "      <td>0</td>\n",
       "      <td>0</td>\n",
       "      <td>135164</td>\n",
       "      <td>400000</td>\n",
       "    </tr>\n",
       "  </tbody>\n",
       "</table>\n",
       "<p>5 rows × 3653 columns</p>\n",
       "</div>"
      ],
      "text/plain": [
       "                                                0     \\\n",
       "budget_fiscal_year                              2018   \n",
       "department_name                                AGING   \n",
       "fund_name              GENERAL FUND (GENERAL BUDGET)   \n",
       "account_name                    CONTRACTUAL SERVICES   \n",
       "adopted_budget_amount                    2.22238e+06   \n",
       "\n",
       "                                                1     \\\n",
       "budget_fiscal_year                              2018   \n",
       "department_name                                AGING   \n",
       "fund_name              TITLE VII OLDER AMERICANS ACT   \n",
       "account_name                 OMBUDSMAN VII A PROGRAM   \n",
       "adopted_budget_amount                              0   \n",
       "\n",
       "                                                2     \\\n",
       "budget_fiscal_year                              2018   \n",
       "department_name                                AGING   \n",
       "fund_name              SENIOR HUMAN SERVICES PROGRAM   \n",
       "account_name                 EVIDENCE BASED PROGRAMS   \n",
       "adopted_budget_amount                              0   \n",
       "\n",
       "                                                   3     \\\n",
       "budget_fiscal_year                                 2018   \n",
       "department_name                                   AGING   \n",
       "fund_name                 AREA PLAN FOR THE AGING TIT 7   \n",
       "account_name           HOME DELIVERED MEALS FOR SENIORS   \n",
       "adopted_budget_amount                                 0   \n",
       "\n",
       "                                                4     \\\n",
       "budget_fiscal_year                              2018   \n",
       "department_name                                AGING   \n",
       "fund_name              GENERAL FUND (GENERAL BUDGET)   \n",
       "account_name                        OVERTIME GENERAL   \n",
       "adopted_budget_amount                           3900   \n",
       "\n",
       "                                                             5     \\\n",
       "budget_fiscal_year                                           2018   \n",
       "department_name                                             AGING   \n",
       "fund_name                          OMBUDSMAN INITIATIVE PROGRAM F   \n",
       "account_name           STATE HEALTH FACILITIES CITATION PENALTIES   \n",
       "adopted_budget_amount                                           0   \n",
       "\n",
       "                                                6     \\\n",
       "budget_fiscal_year                              2018   \n",
       "department_name                                AGING   \n",
       "fund_name              AREA PLAN FOR THE AGING TIT 7   \n",
       "account_name                 PREVENTIVE HEALTH III D   \n",
       "adopted_budget_amount                              0   \n",
       "\n",
       "                                                7     \\\n",
       "budget_fiscal_year                              2018   \n",
       "department_name                                AGING   \n",
       "fund_name              AREA PLAN FOR THE AGING TIT 7   \n",
       "account_name             HOME DELIVERED MEALS III C2   \n",
       "adopted_budget_amount                              0   \n",
       "\n",
       "                                                8     \\\n",
       "budget_fiscal_year                              2018   \n",
       "department_name                                AGING   \n",
       "fund_name              AREA PLAN FOR THE AGING TIT 7   \n",
       "account_name                 CONGREGATE MEALS III C1   \n",
       "adopted_budget_amount                              0   \n",
       "\n",
       "                                               9     \\\n",
       "budget_fiscal_year                             2018   \n",
       "department_name                               AGING   \n",
       "fund_name              OTHER PROGRAMS FOR THE AGING   \n",
       "account_name                         ENROLLEE WAGES   \n",
       "adopted_budget_amount                             0   \n",
       "\n",
       "                                   ...                \\\n",
       "budget_fiscal_year                 ...                 \n",
       "department_name                    ...                 \n",
       "fund_name                          ...                 \n",
       "account_name                       ...                 \n",
       "adopted_budget_amount              ...                 \n",
       "\n",
       "                                                3643  \\\n",
       "budget_fiscal_year                              2018   \n",
       "department_name                                  ZOO   \n",
       "fund_name              GENERAL FUND (GENERAL BUDGET)   \n",
       "account_name                        SALARIES GENERAL   \n",
       "adopted_budget_amount                    1.60662e+07   \n",
       "\n",
       "                                                3644  \\\n",
       "budget_fiscal_year                              2018   \n",
       "department_name                                  ZOO   \n",
       "fund_name              GENERAL FUND (GENERAL BUDGET)   \n",
       "account_name                          FEED AND GRAIN   \n",
       "adopted_budget_amount                         914648   \n",
       "\n",
       "                                             3645  \\\n",
       "budget_fiscal_year                           2018   \n",
       "department_name                               ZOO   \n",
       "fund_name               ZOO ENTERPRISE TRUST FUND   \n",
       "account_name           PUBLIC WORKS - ENGINEERING   \n",
       "adopted_budget_amount                           0   \n",
       "\n",
       "                                                3646  \\\n",
       "budget_fiscal_year                              2018   \n",
       "department_name                                  ZOO   \n",
       "fund_name              GENERAL FUND (GENERAL BUDGET)   \n",
       "account_name                    PRINTING AND BINDING   \n",
       "adopted_budget_amount                          70000   \n",
       "\n",
       "                                                3647  \\\n",
       "budget_fiscal_year                              2018   \n",
       "department_name                                  ZOO   \n",
       "fund_name              GENERAL FUND (GENERAL BUDGET)   \n",
       "account_name                      OPERATING SUPPLIES   \n",
       "adopted_budget_amount                         130000   \n",
       "\n",
       "                                            3648                       3649  \\\n",
       "budget_fiscal_year                          2018                       2018   \n",
       "department_name                              ZOO                        ZOO   \n",
       "fund_name              ZOO ENTERPRISE TRUST FUND  ZOO ENTERPRISE TRUST FUND   \n",
       "account_name                                 ZOO  ZOO PROGRAMS & OPERATIONS   \n",
       "adopted_budget_amount                2.20124e+07                          0   \n",
       "\n",
       "                                            3650  \\\n",
       "budget_fiscal_year                          2018   \n",
       "department_name                              ZOO   \n",
       "fund_name              ZOO ENTERPRISE TRUST FUND   \n",
       "account_name             ZOO WASTEWATER FACILITY   \n",
       "adopted_budget_amount                          0   \n",
       "\n",
       "                                                3651  \\\n",
       "budget_fiscal_year                              2018   \n",
       "department_name                                  ZOO   \n",
       "fund_name              GENERAL FUND (GENERAL BUDGET)   \n",
       "account_name                        OVERTIME GENERAL   \n",
       "adopted_budget_amount                         135164   \n",
       "\n",
       "                                                3652  \n",
       "budget_fiscal_year                              2018  \n",
       "department_name                                  ZOO  \n",
       "fund_name              GENERAL FUND (GENERAL BUDGET)  \n",
       "account_name           VETERINARY SUPPLIES & EXPENSE  \n",
       "adopted_budget_amount                         400000  \n",
       "\n",
       "[5 rows x 3653 columns]"
      ]
     },
     "execution_count": 27,
     "metadata": {},
     "output_type": "execute_result"
    }
   ],
   "source": [
    "df.T.head()"
   ]
  },
  {
   "cell_type": "markdown",
   "metadata": {},
   "source": [
    "We can apply this to any of our above DataFrame access methods it we prefer to our data in this transposed configuration."
   ]
  },
  {
   "cell_type": "code",
   "execution_count": 28,
   "metadata": {},
   "outputs": [
    {
     "data": {
      "text/html": [
       "<div>\n",
       "<style scoped>\n",
       "    .dataframe tbody tr th:only-of-type {\n",
       "        vertical-align: middle;\n",
       "    }\n",
       "\n",
       "    .dataframe tbody tr th {\n",
       "        vertical-align: top;\n",
       "    }\n",
       "\n",
       "    .dataframe thead th {\n",
       "        text-align: right;\n",
       "    }\n",
       "</style>\n",
       "<table border=\"1\" class=\"dataframe\">\n",
       "  <thead>\n",
       "    <tr style=\"text-align: right;\">\n",
       "      <th></th>\n",
       "      <th>0</th>\n",
       "      <th>10</th>\n",
       "      <th>20</th>\n",
       "      <th>30</th>\n",
       "      <th>40</th>\n",
       "    </tr>\n",
       "  </thead>\n",
       "  <tbody>\n",
       "    <tr>\n",
       "      <th>fund_name</th>\n",
       "      <td>GENERAL FUND (GENERAL BUDGET)</td>\n",
       "      <td>GENERAL FUND (GENERAL BUDGET)</td>\n",
       "      <td>AREA PLAN FOR THE AGING TIT 7</td>\n",
       "      <td>AREA PLAN FOR THE AGING TIT 7</td>\n",
       "      <td>GENERAL FUND (GENERAL BUDGET)</td>\n",
       "    </tr>\n",
       "    <tr>\n",
       "      <th>adopted_budget_amount</th>\n",
       "      <td>2.22238e+06</td>\n",
       "      <td>8650</td>\n",
       "      <td>0</td>\n",
       "      <td>0</td>\n",
       "      <td>222431</td>\n",
       "    </tr>\n",
       "  </tbody>\n",
       "</table>\n",
       "</div>"
      ],
      "text/plain": [
       "                                                  0   \\\n",
       "fund_name              GENERAL FUND (GENERAL BUDGET)   \n",
       "adopted_budget_amount                    2.22238e+06   \n",
       "\n",
       "                                                  10  \\\n",
       "fund_name              GENERAL FUND (GENERAL BUDGET)   \n",
       "adopted_budget_amount                           8650   \n",
       "\n",
       "                                                  20  \\\n",
       "fund_name              AREA PLAN FOR THE AGING TIT 7   \n",
       "adopted_budget_amount                              0   \n",
       "\n",
       "                                                  30  \\\n",
       "fund_name              AREA PLAN FOR THE AGING TIT 7   \n",
       "adopted_budget_amount                              0   \n",
       "\n",
       "                                                  40  \n",
       "fund_name              GENERAL FUND (GENERAL BUDGET)  \n",
       "adopted_budget_amount                         222431  "
      ]
     },
     "execution_count": 28,
     "metadata": {},
     "output_type": "execute_result"
    }
   ],
   "source": [
    "df.loc[[0,10,20,30,40], ['fund_name', 'adopted_budget_amount']].T"
   ]
  },
  {
   "cell_type": "markdown",
   "metadata": {},
   "source": [
    "### Values\n",
    "\n",
    "Generally, we'll be approaching our data in aggregate or filtering by some condition. Sometimes you will want to access an individual value.\n",
    "\n",
    "My preferred method is to again use `.loc`."
   ]
  },
  {
   "cell_type": "code",
   "execution_count": 29,
   "metadata": {},
   "outputs": [
    {
     "data": {
      "text/plain": [
       "'GENERAL FUND (GENERAL BUDGET)'"
      ]
     },
     "execution_count": 29,
     "metadata": {},
     "output_type": "execute_result"
    }
   ],
   "source": [
    "df.loc[0, 'fund_name']"
   ]
  },
  {
   "cell_type": "markdown",
   "metadata": {},
   "source": [
    "There is a more specific method of access, `.at`, but this _only_ allows you to access a single value, and so is less generalizable than `.loc`."
   ]
  },
  {
   "cell_type": "code",
   "execution_count": 30,
   "metadata": {},
   "outputs": [
    {
     "data": {
      "text/plain": [
       "'GENERAL FUND (GENERAL BUDGET)'"
      ]
     },
     "execution_count": 30,
     "metadata": {},
     "output_type": "execute_result"
    }
   ],
   "source": [
    "df.at[0, 'fund_name']"
   ]
  },
  {
   "cell_type": "markdown",
   "metadata": {},
   "source": [
    "You may also see the follow format in example code online. We won't go into the details of it now, but essentially we can think of this as selecting a single column AFTER selecting a single row."
   ]
  },
  {
   "cell_type": "code",
   "execution_count": 31,
   "metadata": {},
   "outputs": [
    {
     "data": {
      "text/plain": [
       "'GENERAL FUND (GENERAL BUDGET)'"
      ]
     },
     "execution_count": 31,
     "metadata": {},
     "output_type": "execute_result"
    }
   ],
   "source": [
    "df.loc[0]['fund_name']"
   ]
  },
  {
   "cell_type": "markdown",
   "metadata": {},
   "source": [
    "We can also apply this in the opposite order, selecting a single row AFTER selecting a single column."
   ]
  },
  {
   "cell_type": "code",
   "execution_count": 32,
   "metadata": {},
   "outputs": [
    {
     "data": {
      "text/plain": [
       "'GENERAL FUND (GENERAL BUDGET)'"
      ]
     },
     "execution_count": 32,
     "metadata": {},
     "output_type": "execute_result"
    }
   ],
   "source": [
    "df['fund_name'].loc[0]"
   ]
  },
  {
   "cell_type": "markdown",
   "metadata": {},
   "source": [
    "#### Pro-tip\n",
    "\n",
    "Use standard `.loc` notation regardless of whether you are trying to access a DataFrame, Series, or value. It is the most explicit and robust method for selection, and will make your code easy to read and understand."
   ]
  },
  {
   "cell_type": "markdown",
   "metadata": {},
   "source": [
    "## Meta-Data Exploration\n",
    "\n",
    "Now that we understand some of the basics of navigating our data in Pandas, we'll learn some best practices for learning about _what_ our data is.\n",
    "\n",
    "### Shape\n",
    "\n",
    "One of the most important things to always check is the `.shape` of our data. This will return the size of our data as a tuple of `(rows, columns)`."
   ]
  },
  {
   "cell_type": "code",
   "execution_count": 33,
   "metadata": {},
   "outputs": [
    {
     "data": {
      "text/plain": [
       "(3653, 17)"
      ]
     },
     "execution_count": 33,
     "metadata": {},
     "output_type": "execute_result"
    }
   ],
   "source": [
    "df.shape"
   ]
  },
  {
   "cell_type": "markdown",
   "metadata": {},
   "source": [
    "Here we have 3653 rows and 17 columns."
   ]
  },
  {
   "cell_type": "markdown",
   "metadata": {},
   "source": [
    "### Data Types\n",
    "\n",
    "We can see the data type of each column with the `.dtypes` attribute."
   ]
  },
  {
   "cell_type": "code",
   "execution_count": 34,
   "metadata": {},
   "outputs": [
    {
     "data": {
      "text/plain": [
       "budget_fiscal_year              int64\n",
       "department_name                object\n",
       "fund_name                      object\n",
       "account_name                   object\n",
       "adopted_budget_amount         float64\n",
       "total_expenditures            float64\n",
       "budget_change_amount          float64\n",
       "budget_transfer_in_amount     float64\n",
       "budget_transfer_out_amount    float64\n",
       "total_budget                  float64\n",
       "encumbrance_amount            float64\n",
       "pre_encumbrance_amount        float64\n",
       "budget_uncommitted_amount     float64\n",
       "account_group_name             object\n",
       "fund                           object\n",
       "account                        object\n",
       "department                      int64\n",
       "dtype: object"
      ]
     },
     "execution_count": 34,
     "metadata": {},
     "output_type": "execute_result"
    }
   ],
   "source": [
    "df.dtypes"
   ]
  },
  {
   "cell_type": "markdown",
   "metadata": {},
   "source": [
    "### Info\n",
    "\n",
    "Using the `.info` method will give us more detail. This includes:\n",
    "\n",
    "- A description of our index (here a `RangeIndex` with 3653 entries)\n",
    "- The total number of columns\n",
    "- The name, data type, and count of non-null values for each column (this will be truncated in DataFrames with MANY columns).\n",
    "- The data types present in our DataFrame and the count of columns of each type\n",
    "- The memory usage of our current DataFrame\n",
    "\n",
    "Looking at the `.info` of your data is always a great place to start your data exploration."
   ]
  },
  {
   "cell_type": "code",
   "execution_count": 35,
   "metadata": {},
   "outputs": [
    {
     "name": "stdout",
     "output_type": "stream",
     "text": [
      "<class 'pandas.core.frame.DataFrame'>\n",
      "RangeIndex: 3653 entries, 0 to 3652\n",
      "Data columns (total 17 columns):\n",
      "budget_fiscal_year            3653 non-null int64\n",
      "department_name               3653 non-null object\n",
      "fund_name                     3653 non-null object\n",
      "account_name                  3651 non-null object\n",
      "adopted_budget_amount         3653 non-null float64\n",
      "total_expenditures            2538 non-null float64\n",
      "budget_change_amount          3653 non-null float64\n",
      "budget_transfer_in_amount     3653 non-null float64\n",
      "budget_transfer_out_amount    3653 non-null float64\n",
      "total_budget                  3653 non-null float64\n",
      "encumbrance_amount            3653 non-null float64\n",
      "pre_encumbrance_amount        3653 non-null float64\n",
      "budget_uncommitted_amount     3653 non-null float64\n",
      "account_group_name            1375 non-null object\n",
      "fund                          3653 non-null object\n",
      "account                       3653 non-null object\n",
      "department                    3653 non-null int64\n",
      "dtypes: float64(9), int64(2), object(6)\n",
      "memory usage: 485.2+ KB\n"
     ]
    }
   ],
   "source": [
    "df.info()"
   ]
  },
  {
   "cell_type": "markdown",
   "metadata": {},
   "source": [
    "### Index\n",
    "\n",
    "Both our rows and columns have an associated index. For our rows, this is the `.index`."
   ]
  },
  {
   "cell_type": "code",
   "execution_count": 36,
   "metadata": {},
   "outputs": [
    {
     "data": {
      "text/plain": [
       "RangeIndex(start=0, stop=3653, step=1)"
      ]
     },
     "execution_count": 36,
     "metadata": {},
     "output_type": "execute_result"
    }
   ],
   "source": [
    "df.index"
   ]
  },
  {
   "cell_type": "markdown",
   "metadata": {},
   "source": [
    "Here we have a serial integer range as our index, starting at 0, stopping at 3653 (exclusive), and incrementing by 1 at each row.\n",
    "\n",
    "### Columns\n",
    "\n",
    "We access our column index with `.columns`."
   ]
  },
  {
   "cell_type": "code",
   "execution_count": 37,
   "metadata": {},
   "outputs": [
    {
     "data": {
      "text/plain": [
       "Index(['budget_fiscal_year', 'department_name', 'fund_name', 'account_name',\n",
       "       'adopted_budget_amount', 'total_expenditures', 'budget_change_amount',\n",
       "       'budget_transfer_in_amount', 'budget_transfer_out_amount',\n",
       "       'total_budget', 'encumbrance_amount', 'pre_encumbrance_amount',\n",
       "       'budget_uncommitted_amount', 'account_group_name', 'fund', 'account',\n",
       "       'department'],\n",
       "      dtype='object')"
      ]
     },
     "execution_count": 37,
     "metadata": {},
     "output_type": "execute_result"
    }
   ],
   "source": [
    "df.columns"
   ]
  },
  {
   "cell_type": "markdown",
   "metadata": {},
   "source": [
    "These are the names of each of the columns in our DataFrame. We can generally treat this object as a list (although sometimes we'll want to explicitly cast it as such for some operations).\n",
    "\n",
    "To force an index to a list, we can use `.tolist` or just call `list` on it."
   ]
  },
  {
   "cell_type": "code",
   "execution_count": 38,
   "metadata": {},
   "outputs": [
    {
     "data": {
      "text/plain": [
       "['budget_fiscal_year',\n",
       " 'department_name',\n",
       " 'fund_name',\n",
       " 'account_name',\n",
       " 'adopted_budget_amount',\n",
       " 'total_expenditures',\n",
       " 'budget_change_amount',\n",
       " 'budget_transfer_in_amount',\n",
       " 'budget_transfer_out_amount',\n",
       " 'total_budget',\n",
       " 'encumbrance_amount',\n",
       " 'pre_encumbrance_amount',\n",
       " 'budget_uncommitted_amount',\n",
       " 'account_group_name',\n",
       " 'fund',\n",
       " 'account',\n",
       " 'department']"
      ]
     },
     "execution_count": 38,
     "metadata": {},
     "output_type": "execute_result"
    }
   ],
   "source": [
    "df.columns.tolist()"
   ]
  },
  {
   "cell_type": "code",
   "execution_count": 39,
   "metadata": {},
   "outputs": [
    {
     "data": {
      "text/plain": [
       "['budget_fiscal_year',\n",
       " 'department_name',\n",
       " 'fund_name',\n",
       " 'account_name',\n",
       " 'adopted_budget_amount',\n",
       " 'total_expenditures',\n",
       " 'budget_change_amount',\n",
       " 'budget_transfer_in_amount',\n",
       " 'budget_transfer_out_amount',\n",
       " 'total_budget',\n",
       " 'encumbrance_amount',\n",
       " 'pre_encumbrance_amount',\n",
       " 'budget_uncommitted_amount',\n",
       " 'account_group_name',\n",
       " 'fund',\n",
       " 'account',\n",
       " 'department']"
      ]
     },
     "execution_count": 39,
     "metadata": {},
     "output_type": "execute_result"
    }
   ],
   "source": [
    "list(df.columns)"
   ]
  },
  {
   "cell_type": "markdown",
   "metadata": {},
   "source": [
    "## Methods and Attributes\n",
    "\n",
    "By now, you're probably wondering:\n",
    "\n",
    "> \"Why do some of these things have `()`, some `[]`, and some no punctuation after the words?\"\n",
    "\n",
    "Great question!\n",
    "\n",
    "If you've tried to explore Pandas independently, you may have given up in frustration, unable to troubleshoot the errors that you were getting trying to implement the solutions you found on StackOverflow. \n",
    "\n",
    "**You're not alone.**\n",
    "\n",
    "It will take time to familiarize yourself with the syntax for interacting with the Pandas application programming interface (API). In my experience, the biggest difficulty is learning that Pandas is _always trying to do the right thing_. Or rather, it's trying to do the thing it _thinks_ you might want to do.\n",
    "\n",
    "Pandas was developed to bring the ease of data exploration and manipulation found in Excel, SQL, and R DataFrames into the Python environment. As such, there is a _ton_ of desired functionality that has been implemented by the open source community. Hopefully the following rules can help you begin to organize Pandas syntax in your mind. [(The official Pandas docs are always a good place to inform yourself)](https://pandas.pydata.org/pandas-docs/stable/getting_started/basics.html).\n",
    "\n",
    "### 1. When Accessing a Static Attribute, No Punctuation Is Needed\n",
    "\n",
    "A DataFrame is a `Class` object. You may or may not have worked with classes before; that's okay! An important thing to understand about a class is that it can store already computed static values (or attributes) that don't actually transform or operate on the data in anyway at time of access.\n",
    "\n",
    "Here are some examples we've seen so far:\n",
    "\n",
    "| Syntax | Attribute accessed |\n",
    "| --- | --- |\n",
    "| `.shape` | A tuple of the shape of the data, rows by columns |\n",
    "| `.index` | The index of the data, as an Index object |\n",
    "| `.columns` | The columns of the data, as an Index object |\n",
    "| `.T` | The transpose of the data, with rows as columns and columns as rows |\n",
    "| `.some_specific_column_name` e.g., `.fund_name` | A column series |\n",
    "\n",
    "In each of these example, the returned attribute is just some aspect of the defined data that you're accessing. This will make a bit more sense after we consider...\n",
    "\n",
    "### 2. When Modifying Data or Performing Calculations, Use `()`\n",
    "\n",
    "Classes also have associated methods. There are the same as functions, but can be thought of to generally have pre-defined arguments that act upon the data in the class. Thus far, most of the methods that we've invoked have _modified a preview of our data_.\n",
    "\n",
    "Here are some examples we've seen so far:\n",
    "\n",
    "| Syntax | Method applied |\n",
    "| --- | --- |\n",
    "| `.head()` | Limit returned view to first 5 rows |\n",
    "| `.sample()` | Return a random sample row from our data |\n",
    "| `.tolist()` | Return data as a list object |\n",
    "| `.info()` | Return a summary of indices, columns, dtypes, nulls, and size |\n",
    "\n",
    "Some other methods we'll see shortly extend common operations you may have encountered in SQL or numpy:\n",
    "\n",
    "| Syntax | Method applied |\n",
    "| --- | --- |\n",
    "| `.groupby()` | Group by one or more columns |\n",
    "| `.count()` | Provide an aggregate count of rows |\n",
    "| `.mean()` | Calculate the mean of one or more columns |\n",
    "| `.join()` | Join a DataFrame with another DataFrame on some condition |\n",
    "\n",
    "Pandas methods should always be used, when possible, as they're designed to be highly optimized for calculations, sorting, and aggregation. We'll learn many of these today, but there are far too many to cover in any one lesson (I still find new, useful methods regularly as complete projects).\n",
    "\n",
    "**But what about those pesky square brackets?**\n",
    "\n",
    "### 3. When Filtering or Accessing Data, Use `[]`\n",
    "\n",
    "This can be a conceptual hurdle for some, but understanding square bracket notation really boils down to two main points:\n",
    "\n",
    "1. DataFrames are built on top of `numpy` arrays and extend much of the `numpy` notation.\n",
    "2. DataFrames can be thought of as a dictionary of `Series` and use dictionary indexing notation.\n",
    "\n",
    "Of course, neither of these concepts is helpful if you aren't familiar with keying into dictionaries and indexing in numpy.\n",
    "\n",
    "The most important things to keep in mind:\n",
    "\n",
    "1. Data is accessed by row(s) and then column(s)\n",
    "    - `df.loc[row]`\n",
    "    - `df.loc[row, column]`\n",
    "    - `df.loc[[row1, row2], [column1, column2]]`\n",
    "2. If no rows are passed, Pandas assumes you are trying to index into your columns\n",
    "    - `df[column]`\n",
    "    - `df[[column1, column2]]`\n",
    "    - `df.some_column_name` (not bracket notation, but the same concept)\n",
    "3. `:` can be used to select a range\n",
    "    - `df.loc[:, column]`\n",
    "    - `df.loc[0:5, column]`\n",
    "    - `df.loc[0:5, column1:column5]`\n",
    "4. Double brackets always return a DataFrame.\n",
    "    - `df[[column]]`\n",
    "    - `df[[column1, column2]]`\n",
    "    - `df.loc[[row1, row2], [column1, column2]]`\n",
    "\n",
    "**This is a lot of information, and you're not expected to remember all of this right now**. One of the nice things about coding in Jupyter is that many of our error messages are informative, and we can often quickly add the punctuation needed to revise our code and get it to run. **The only way to learn is to try and fail**.\n"
   ]
  },
  {
   "cell_type": "code",
   "execution_count": 40,
   "metadata": {},
   "outputs": [
    {
     "data": {
      "text/html": [
       "<div>\n",
       "<style scoped>\n",
       "    .dataframe tbody tr th:only-of-type {\n",
       "        vertical-align: middle;\n",
       "    }\n",
       "\n",
       "    .dataframe tbody tr th {\n",
       "        vertical-align: top;\n",
       "    }\n",
       "\n",
       "    .dataframe thead th {\n",
       "        text-align: right;\n",
       "    }\n",
       "</style>\n",
       "<table border=\"1\" class=\"dataframe\">\n",
       "  <thead>\n",
       "    <tr style=\"text-align: right;\">\n",
       "      <th></th>\n",
       "      <th>department_name</th>\n",
       "      <th>fund_name</th>\n",
       "      <th>account_name</th>\n",
       "    </tr>\n",
       "  </thead>\n",
       "  <tbody>\n",
       "    <tr>\n",
       "      <th>0</th>\n",
       "      <td>AGING</td>\n",
       "      <td>GENERAL FUND (GENERAL BUDGET)</td>\n",
       "      <td>CONTRACTUAL SERVICES</td>\n",
       "    </tr>\n",
       "    <tr>\n",
       "      <th>1</th>\n",
       "      <td>AGING</td>\n",
       "      <td>TITLE VII OLDER AMERICANS ACT</td>\n",
       "      <td>OMBUDSMAN VII A PROGRAM</td>\n",
       "    </tr>\n",
       "    <tr>\n",
       "      <th>2</th>\n",
       "      <td>AGING</td>\n",
       "      <td>SENIOR HUMAN SERVICES PROGRAM</td>\n",
       "      <td>EVIDENCE BASED PROGRAMS</td>\n",
       "    </tr>\n",
       "    <tr>\n",
       "      <th>3</th>\n",
       "      <td>AGING</td>\n",
       "      <td>AREA PLAN FOR THE AGING TIT 7</td>\n",
       "      <td>HOME DELIVERED MEALS FOR SENIORS</td>\n",
       "    </tr>\n",
       "    <tr>\n",
       "      <th>4</th>\n",
       "      <td>AGING</td>\n",
       "      <td>GENERAL FUND (GENERAL BUDGET)</td>\n",
       "      <td>OVERTIME GENERAL</td>\n",
       "    </tr>\n",
       "    <tr>\n",
       "      <th>5</th>\n",
       "      <td>AGING</td>\n",
       "      <td>OMBUDSMAN INITIATIVE PROGRAM F</td>\n",
       "      <td>STATE HEALTH FACILITIES CITATION PENALTIES</td>\n",
       "    </tr>\n",
       "  </tbody>\n",
       "</table>\n",
       "</div>"
      ],
      "text/plain": [
       "  department_name                       fund_name  \\\n",
       "0           AGING   GENERAL FUND (GENERAL BUDGET)   \n",
       "1           AGING   TITLE VII OLDER AMERICANS ACT   \n",
       "2           AGING   SENIOR HUMAN SERVICES PROGRAM   \n",
       "3           AGING   AREA PLAN FOR THE AGING TIT 7   \n",
       "4           AGING   GENERAL FUND (GENERAL BUDGET)   \n",
       "5           AGING  OMBUDSMAN INITIATIVE PROGRAM F   \n",
       "\n",
       "                                 account_name  \n",
       "0                        CONTRACTUAL SERVICES  \n",
       "1                     OMBUDSMAN VII A PROGRAM  \n",
       "2                     EVIDENCE BASED PROGRAMS  \n",
       "3            HOME DELIVERED MEALS FOR SENIORS  \n",
       "4                            OVERTIME GENERAL  \n",
       "5  STATE HEALTH FACILITIES CITATION PENALTIES  "
      ]
     },
     "execution_count": 40,
     "metadata": {},
     "output_type": "execute_result"
    }
   ],
   "source": [
    "df.loc[0:5, 'department_name':'account_name']"
   ]
  },
  {
   "cell_type": "markdown",
   "metadata": {},
   "source": [
    "## Categorical Data"
   ]
  },
  {
   "cell_type": "markdown",
   "metadata": {},
   "source": [
    "As we've already seen, Pandas allows you to add a number of different kinds of data into the same DataFrame. It has a suite of methods specifically built out for dealing with categorical data.\n",
    "\n",
    "By default, Pandas will load any column that contains letters as an `object` type.\n",
    "\n",
    "You can use the `select_dtypes` method to return a view of your DataFrame with only the specified type present."
   ]
  },
  {
   "cell_type": "code",
   "execution_count": 41,
   "metadata": {},
   "outputs": [
    {
     "data": {
      "text/html": [
       "<div>\n",
       "<style scoped>\n",
       "    .dataframe tbody tr th:only-of-type {\n",
       "        vertical-align: middle;\n",
       "    }\n",
       "\n",
       "    .dataframe tbody tr th {\n",
       "        vertical-align: top;\n",
       "    }\n",
       "\n",
       "    .dataframe thead th {\n",
       "        text-align: right;\n",
       "    }\n",
       "</style>\n",
       "<table border=\"1\" class=\"dataframe\">\n",
       "  <thead>\n",
       "    <tr style=\"text-align: right;\">\n",
       "      <th></th>\n",
       "      <th>department_name</th>\n",
       "      <th>fund_name</th>\n",
       "      <th>account_name</th>\n",
       "      <th>account_group_name</th>\n",
       "      <th>fund</th>\n",
       "      <th>account</th>\n",
       "    </tr>\n",
       "  </thead>\n",
       "  <tbody>\n",
       "    <tr>\n",
       "      <th>0</th>\n",
       "      <td>AGING</td>\n",
       "      <td>GENERAL FUND (GENERAL BUDGET)</td>\n",
       "      <td>CONTRACTUAL SERVICES</td>\n",
       "      <td>EXPENSES</td>\n",
       "      <td>100</td>\n",
       "      <td>003040</td>\n",
       "    </tr>\n",
       "    <tr>\n",
       "      <th>1</th>\n",
       "      <td>AGING</td>\n",
       "      <td>TITLE VII OLDER AMERICANS ACT</td>\n",
       "      <td>OMBUDSMAN VII A PROGRAM</td>\n",
       "      <td>NaN</td>\n",
       "      <td>564</td>\n",
       "      <td>02PB01</td>\n",
       "    </tr>\n",
       "    <tr>\n",
       "      <th>2</th>\n",
       "      <td>AGING</td>\n",
       "      <td>SENIOR HUMAN SERVICES PROGRAM</td>\n",
       "      <td>EVIDENCE BASED PROGRAMS</td>\n",
       "      <td>NaN</td>\n",
       "      <td>42J</td>\n",
       "      <td>02R340</td>\n",
       "    </tr>\n",
       "    <tr>\n",
       "      <th>3</th>\n",
       "      <td>AGING</td>\n",
       "      <td>AREA PLAN FOR THE AGING TIT 7</td>\n",
       "      <td>HOME DELIVERED MEALS FOR SENIORS</td>\n",
       "      <td>NaN</td>\n",
       "      <td>395</td>\n",
       "      <td>02PQ04</td>\n",
       "    </tr>\n",
       "    <tr>\n",
       "      <th>4</th>\n",
       "      <td>AGING</td>\n",
       "      <td>GENERAL FUND (GENERAL BUDGET)</td>\n",
       "      <td>OVERTIME GENERAL</td>\n",
       "      <td>SALARIES AND BENEFITS</td>\n",
       "      <td>100</td>\n",
       "      <td>001090</td>\n",
       "    </tr>\n",
       "  </tbody>\n",
       "</table>\n",
       "</div>"
      ],
      "text/plain": [
       "  department_name                      fund_name  \\\n",
       "0           AGING  GENERAL FUND (GENERAL BUDGET)   \n",
       "1           AGING  TITLE VII OLDER AMERICANS ACT   \n",
       "2           AGING  SENIOR HUMAN SERVICES PROGRAM   \n",
       "3           AGING  AREA PLAN FOR THE AGING TIT 7   \n",
       "4           AGING  GENERAL FUND (GENERAL BUDGET)   \n",
       "\n",
       "                       account_name     account_group_name fund account  \n",
       "0              CONTRACTUAL SERVICES               EXPENSES  100  003040  \n",
       "1           OMBUDSMAN VII A PROGRAM                    NaN  564  02PB01  \n",
       "2           EVIDENCE BASED PROGRAMS                    NaN  42J  02R340  \n",
       "3  HOME DELIVERED MEALS FOR SENIORS                    NaN  395  02PQ04  \n",
       "4                  OVERTIME GENERAL  SALARIES AND BENEFITS  100  001090  "
      ]
     },
     "execution_count": 41,
     "metadata": {},
     "output_type": "execute_result"
    }
   ],
   "source": [
    "df.select_dtypes('object').head()"
   ]
  },
  {
   "cell_type": "markdown",
   "metadata": {},
   "source": [
    "I like to save the the columns object out so that I can use this to easily operate on all my categorical columns.\n",
    "\n",
    "Not that when we use a list of column names, the list itself contains a set of square brackets, so we can pass it back to our DataFrame to return a DataFrame."
   ]
  },
  {
   "cell_type": "code",
   "execution_count": 42,
   "metadata": {},
   "outputs": [
    {
     "data": {
      "text/html": [
       "<div>\n",
       "<style scoped>\n",
       "    .dataframe tbody tr th:only-of-type {\n",
       "        vertical-align: middle;\n",
       "    }\n",
       "\n",
       "    .dataframe tbody tr th {\n",
       "        vertical-align: top;\n",
       "    }\n",
       "\n",
       "    .dataframe thead th {\n",
       "        text-align: right;\n",
       "    }\n",
       "</style>\n",
       "<table border=\"1\" class=\"dataframe\">\n",
       "  <thead>\n",
       "    <tr style=\"text-align: right;\">\n",
       "      <th></th>\n",
       "      <th>department_name</th>\n",
       "      <th>fund_name</th>\n",
       "      <th>account_name</th>\n",
       "      <th>account_group_name</th>\n",
       "      <th>fund</th>\n",
       "      <th>account</th>\n",
       "    </tr>\n",
       "  </thead>\n",
       "  <tbody>\n",
       "    <tr>\n",
       "      <th>0</th>\n",
       "      <td>AGING</td>\n",
       "      <td>GENERAL FUND (GENERAL BUDGET)</td>\n",
       "      <td>CONTRACTUAL SERVICES</td>\n",
       "      <td>EXPENSES</td>\n",
       "      <td>100</td>\n",
       "      <td>003040</td>\n",
       "    </tr>\n",
       "    <tr>\n",
       "      <th>1</th>\n",
       "      <td>AGING</td>\n",
       "      <td>TITLE VII OLDER AMERICANS ACT</td>\n",
       "      <td>OMBUDSMAN VII A PROGRAM</td>\n",
       "      <td>NaN</td>\n",
       "      <td>564</td>\n",
       "      <td>02PB01</td>\n",
       "    </tr>\n",
       "    <tr>\n",
       "      <th>2</th>\n",
       "      <td>AGING</td>\n",
       "      <td>SENIOR HUMAN SERVICES PROGRAM</td>\n",
       "      <td>EVIDENCE BASED PROGRAMS</td>\n",
       "      <td>NaN</td>\n",
       "      <td>42J</td>\n",
       "      <td>02R340</td>\n",
       "    </tr>\n",
       "    <tr>\n",
       "      <th>3</th>\n",
       "      <td>AGING</td>\n",
       "      <td>AREA PLAN FOR THE AGING TIT 7</td>\n",
       "      <td>HOME DELIVERED MEALS FOR SENIORS</td>\n",
       "      <td>NaN</td>\n",
       "      <td>395</td>\n",
       "      <td>02PQ04</td>\n",
       "    </tr>\n",
       "    <tr>\n",
       "      <th>4</th>\n",
       "      <td>AGING</td>\n",
       "      <td>GENERAL FUND (GENERAL BUDGET)</td>\n",
       "      <td>OVERTIME GENERAL</td>\n",
       "      <td>SALARIES AND BENEFITS</td>\n",
       "      <td>100</td>\n",
       "      <td>001090</td>\n",
       "    </tr>\n",
       "  </tbody>\n",
       "</table>\n",
       "</div>"
      ],
      "text/plain": [
       "  department_name                      fund_name  \\\n",
       "0           AGING  GENERAL FUND (GENERAL BUDGET)   \n",
       "1           AGING  TITLE VII OLDER AMERICANS ACT   \n",
       "2           AGING  SENIOR HUMAN SERVICES PROGRAM   \n",
       "3           AGING  AREA PLAN FOR THE AGING TIT 7   \n",
       "4           AGING  GENERAL FUND (GENERAL BUDGET)   \n",
       "\n",
       "                       account_name     account_group_name fund account  \n",
       "0              CONTRACTUAL SERVICES               EXPENSES  100  003040  \n",
       "1           OMBUDSMAN VII A PROGRAM                    NaN  564  02PB01  \n",
       "2           EVIDENCE BASED PROGRAMS                    NaN  42J  02R340  \n",
       "3  HOME DELIVERED MEALS FOR SENIORS                    NaN  395  02PQ04  \n",
       "4                  OVERTIME GENERAL  SALARIES AND BENEFITS  100  001090  "
      ]
     },
     "execution_count": 42,
     "metadata": {},
     "output_type": "execute_result"
    }
   ],
   "source": [
    "cat_cols = df.select_dtypes('object').columns\n",
    "df[cat_cols].head()"
   ]
  },
  {
   "cell_type": "markdown",
   "metadata": {},
   "source": [
    "### Summary Statistics"
   ]
  },
  {
   "cell_type": "markdown",
   "metadata": {},
   "source": [
    "There are limited summary statistics to perform on categorical values. Namely we look at total unique values, total count for each value, and the distribution of our total counts.\n",
    "\n",
    "The method `.nunique` will gives us the number of unique values in each column."
   ]
  },
  {
   "cell_type": "code",
   "execution_count": 43,
   "metadata": {},
   "outputs": [
    {
     "data": {
      "text/plain": [
       "department_name         54\n",
       "fund_name              481\n",
       "account_name          2057\n",
       "account_group_name       4\n",
       "fund                   481\n",
       "account               2347\n",
       "dtype: int64"
      ]
     },
     "execution_count": 43,
     "metadata": {},
     "output_type": "execute_result"
    }
   ],
   "source": [
    "df[cat_cols].nunique()"
   ]
  },
  {
   "cell_type": "markdown",
   "metadata": {},
   "source": [
    "We can then call `.unique` on a specific column to get a set of the values contained."
   ]
  },
  {
   "cell_type": "code",
   "execution_count": 44,
   "metadata": {},
   "outputs": [
    {
     "data": {
      "text/plain": [
       "array(['EXPENSES', nan, 'SALARIES AND BENEFITS', 'SPECIAL', 'EQUIPMENT'],\n",
       "      dtype=object)"
      ]
     },
     "execution_count": 44,
     "metadata": {},
     "output_type": "execute_result"
    }
   ],
   "source": [
    "df['account_group_name'].unique()"
   ]
  },
  {
   "cell_type": "markdown",
   "metadata": {},
   "source": [
    "Note that by default, `.nunique` will ignore null values, while `.unique` will return these.\n",
    "\n",
    "More often, we will use `.value_counts` to return a count of each unique value in a column."
   ]
  },
  {
   "cell_type": "code",
   "execution_count": 45,
   "metadata": {},
   "outputs": [
    {
     "data": {
      "text/plain": [
       "NON-DEPARTMENTAL - APPROPRIATIONS TO SPECIAL PURPOSE FUND       680\n",
       "HOUSING AND COMMUNITY INVESTMENT DEPARTMENT                     288\n",
       "TRANSPORTATION                                                  267\n",
       "CULTURAL AFFAIRS                                                229\n",
       "ECONOMIC AND WORKFORCE DEVELOPMENT DEPARTMENT                   215\n",
       "CITY CLERK                                                      212\n",
       "CITY ADMINISTRATIVE OFFICER                                     156\n",
       "RECREATION AND PARKS - SPECIAL ACCOUNTS                         124\n",
       "WATER AND POWER                                                 120\n",
       "NON-DEPARTMENTAL - GENERAL CITY PURPOSES                         99\n",
       "RECREATION AND PARKS                                             92\n",
       "MAYOR                                                            88\n",
       "POLICE                                                           82\n",
       "NON-DEPARTMENTAL - GENERAL                                       75\n",
       "NON-DEPARTMENTAL - CAPITAL IMPROVEMENT EXPENSE PROGRAM           71\n",
       "GENERAL SERVICES                                                 67\n",
       "BUILDING AND SAFETY                                              59\n",
       "CITY ATTORNEY                                                    56\n",
       "AGING                                                            41\n",
       "FIRE                                                             40\n",
       "CITY PLANNING                                                    38\n",
       "NON-DEPARTMENTAL - UNAPPROPRIATED BALANCE                        33\n",
       "OFFICE OF FINANCE                                                32\n",
       "NON-DEPARTMENTAL - CAPITAL FINANCE ADMINISTRATION                31\n",
       "PENSION                                                          31\n",
       "ANIMAL SERVICES                                                  30\n",
       "INFORMATION TECHNOLOGY AGENCY                                    29\n",
       "NON-DEPARTMENTAL - HUMAN RESOURCES BENEFITS                      25\n",
       "ZOO                                                              25\n",
       "COUNCIL                                                          25\n",
       "EL PUEBLO DE LOS ANGELES HISTORICAL MONUMENT AUTHORITY           19\n",
       "NEIGHBORHOOD EMPOWERMENT                                         18\n",
       "LOS ANGELES DEPARTMENT OF CONVENTION AND TOURISM DEVELOPMENT     18\n",
       "PERSONNEL                                                        17\n",
       "HARBOR                                                           17\n",
       "PUBLIC WORKS - SANITATION                                        16\n",
       "AIRPORTS                                                         16\n",
       "PUBLIC WORKS - ENGINEERING                                       15\n",
       "LIBRARY                                                          14\n",
       "PUBLIC WORKS - STREET SERVICES                                   14\n",
       "PUBLIC WORKS - STREET LIGHTING                                   14\n",
       "CITY EMPLOYEES RETIREMENT SYSTEM                                 12\n",
       "PUBLIC WORKS - CONTRACT ADMINISTRATION                           11\n",
       "CONTROLLER                                                       10\n",
       "CITY ETHICS COMMISSION                                           10\n",
       "PUBLIC WORKS - BOARD OF PUBLIC WORKS                              9\n",
       "NON-DEPARTMENTAL - WATER AND ELECTRICITY                          9\n",
       "CANNABIS REGULATION                                               9\n",
       "NON-DEPARTMENTAL - LIABILITY CLAIMS                               9\n",
       "EMERGENCY MANAGEMENT                                              8\n",
       "DISABILITY                                                        8\n",
       "EMERGENCY OPERATIONS BOARD                                        8\n",
       "PUBLIC ACCOUNTABILITY                                             6\n",
       "EMPLOYEE RELATIONS BOARD                                          6\n",
       "Name: department_name, dtype: int64"
      ]
     },
     "execution_count": 45,
     "metadata": {},
     "output_type": "execute_result"
    }
   ],
   "source": [
    "df['department_name'].value_counts()"
   ]
  },
  {
   "cell_type": "markdown",
   "metadata": {},
   "source": [
    "By default, these will be return in descending order.\n",
    "\n",
    "Note that `.value_counts` also ignores missing values. We can override this behavior (in many Pandas methods) by setting `dropna=False`."
   ]
  },
  {
   "cell_type": "code",
   "execution_count": 46,
   "metadata": {},
   "outputs": [
    {
     "data": {
      "text/plain": [
       "NaN                      2278\n",
       "SPECIAL                   931\n",
       "EXPENSES                  287\n",
       "SALARIES AND BENEFITS     143\n",
       "EQUIPMENT                  14\n",
       "Name: account_group_name, dtype: int64"
      ]
     },
     "execution_count": 46,
     "metadata": {},
     "output_type": "execute_result"
    }
   ],
   "source": [
    "df['account_group_name'].value_counts(dropna=False)"
   ]
  },
  {
   "cell_type": "markdown",
   "metadata": {},
   "source": [
    "The high number of missing values suggests that this is an optional field."
   ]
  },
  {
   "cell_type": "markdown",
   "metadata": {},
   "source": [
    "### String Operations\n",
    "\n",
    "Pandas has great functionality for applying string methods to text data.\n",
    "\n",
    "Let's look at our categorical data again."
   ]
  },
  {
   "cell_type": "code",
   "execution_count": 47,
   "metadata": {},
   "outputs": [
    {
     "data": {
      "text/html": [
       "<div>\n",
       "<style scoped>\n",
       "    .dataframe tbody tr th:only-of-type {\n",
       "        vertical-align: middle;\n",
       "    }\n",
       "\n",
       "    .dataframe tbody tr th {\n",
       "        vertical-align: top;\n",
       "    }\n",
       "\n",
       "    .dataframe thead th {\n",
       "        text-align: right;\n",
       "    }\n",
       "</style>\n",
       "<table border=\"1\" class=\"dataframe\">\n",
       "  <thead>\n",
       "    <tr style=\"text-align: right;\">\n",
       "      <th></th>\n",
       "      <th>department_name</th>\n",
       "      <th>fund_name</th>\n",
       "      <th>account_name</th>\n",
       "      <th>account_group_name</th>\n",
       "      <th>fund</th>\n",
       "      <th>account</th>\n",
       "    </tr>\n",
       "  </thead>\n",
       "  <tbody>\n",
       "    <tr>\n",
       "      <th>0</th>\n",
       "      <td>AGING</td>\n",
       "      <td>GENERAL FUND (GENERAL BUDGET)</td>\n",
       "      <td>CONTRACTUAL SERVICES</td>\n",
       "      <td>EXPENSES</td>\n",
       "      <td>100</td>\n",
       "      <td>003040</td>\n",
       "    </tr>\n",
       "    <tr>\n",
       "      <th>1</th>\n",
       "      <td>AGING</td>\n",
       "      <td>TITLE VII OLDER AMERICANS ACT</td>\n",
       "      <td>OMBUDSMAN VII A PROGRAM</td>\n",
       "      <td>NaN</td>\n",
       "      <td>564</td>\n",
       "      <td>02PB01</td>\n",
       "    </tr>\n",
       "    <tr>\n",
       "      <th>2</th>\n",
       "      <td>AGING</td>\n",
       "      <td>SENIOR HUMAN SERVICES PROGRAM</td>\n",
       "      <td>EVIDENCE BASED PROGRAMS</td>\n",
       "      <td>NaN</td>\n",
       "      <td>42J</td>\n",
       "      <td>02R340</td>\n",
       "    </tr>\n",
       "    <tr>\n",
       "      <th>3</th>\n",
       "      <td>AGING</td>\n",
       "      <td>AREA PLAN FOR THE AGING TIT 7</td>\n",
       "      <td>HOME DELIVERED MEALS FOR SENIORS</td>\n",
       "      <td>NaN</td>\n",
       "      <td>395</td>\n",
       "      <td>02PQ04</td>\n",
       "    </tr>\n",
       "    <tr>\n",
       "      <th>4</th>\n",
       "      <td>AGING</td>\n",
       "      <td>GENERAL FUND (GENERAL BUDGET)</td>\n",
       "      <td>OVERTIME GENERAL</td>\n",
       "      <td>SALARIES AND BENEFITS</td>\n",
       "      <td>100</td>\n",
       "      <td>001090</td>\n",
       "    </tr>\n",
       "  </tbody>\n",
       "</table>\n",
       "</div>"
      ],
      "text/plain": [
       "  department_name                      fund_name  \\\n",
       "0           AGING  GENERAL FUND (GENERAL BUDGET)   \n",
       "1           AGING  TITLE VII OLDER AMERICANS ACT   \n",
       "2           AGING  SENIOR HUMAN SERVICES PROGRAM   \n",
       "3           AGING  AREA PLAN FOR THE AGING TIT 7   \n",
       "4           AGING  GENERAL FUND (GENERAL BUDGET)   \n",
       "\n",
       "                       account_name     account_group_name fund account  \n",
       "0              CONTRACTUAL SERVICES               EXPENSES  100  003040  \n",
       "1           OMBUDSMAN VII A PROGRAM                    NaN  564  02PB01  \n",
       "2           EVIDENCE BASED PROGRAMS                    NaN  42J  02R340  \n",
       "3  HOME DELIVERED MEALS FOR SENIORS                    NaN  395  02PQ04  \n",
       "4                  OVERTIME GENERAL  SALARIES AND BENEFITS  100  001090  "
      ]
     },
     "execution_count": 47,
     "metadata": {},
     "output_type": "execute_result"
    }
   ],
   "source": [
    "df[cat_cols].head()"
   ]
  },
  {
   "cell_type": "markdown",
   "metadata": {},
   "source": [
    "I don't love that the department names are in all caps. Changing this is as simple as accessing the Series and then invoking `.str.capitalize`. You'll find easy application of your favorite string methods here, alongside a number of Pandas-specific string methods.\n",
    "\n",
    "This will return a copy of the Series with the changes applied, but nothing will have changed in the original data.\n",
    "\n",
    "You can chain methods easily in Pandas. Because the returned object is a Series, we can use `.value_counts` to see unique values and counts with this new formatting."
   ]
  },
  {
   "cell_type": "code",
   "execution_count": 48,
   "metadata": {},
   "outputs": [
    {
     "data": {
      "text/plain": [
       "Non-departmental - appropriations to special purpose fund       680\n",
       "Housing and community investment department                     288\n",
       "Transportation                                                  267\n",
       "Cultural affairs                                                229\n",
       "Economic and workforce development department                   215\n",
       "City clerk                                                      212\n",
       "City administrative officer                                     156\n",
       "Recreation and parks - special accounts                         124\n",
       "Water and power                                                 120\n",
       "Non-departmental - general city purposes                         99\n",
       "Recreation and parks                                             92\n",
       "Mayor                                                            88\n",
       "Police                                                           82\n",
       "Non-departmental - general                                       75\n",
       "Non-departmental - capital improvement expense program           71\n",
       "General services                                                 67\n",
       "Building and safety                                              59\n",
       "City attorney                                                    56\n",
       "Aging                                                            41\n",
       "Fire                                                             40\n",
       "City planning                                                    38\n",
       "Non-departmental - unappropriated balance                        33\n",
       "Office of finance                                                32\n",
       "Non-departmental - capital finance administration                31\n",
       "Pension                                                          31\n",
       "Animal services                                                  30\n",
       "Information technology agency                                    29\n",
       "Council                                                          25\n",
       "Non-departmental - human resources benefits                      25\n",
       "Zoo                                                              25\n",
       "El pueblo de los angeles historical monument authority           19\n",
       "Los angeles department of convention and tourism development     18\n",
       "Neighborhood empowerment                                         18\n",
       "Harbor                                                           17\n",
       "Personnel                                                        17\n",
       "Public works - sanitation                                        16\n",
       "Airports                                                         16\n",
       "Public works - engineering                                       15\n",
       "Public works - street lighting                                   14\n",
       "Library                                                          14\n",
       "Public works - street services                                   14\n",
       "City employees retirement system                                 12\n",
       "Public works - contract administration                           11\n",
       "City ethics commission                                           10\n",
       "Controller                                                       10\n",
       "Non-departmental - liability claims                               9\n",
       "Public works - board of public works                              9\n",
       "Non-departmental - water and electricity                          9\n",
       "Cannabis regulation                                               9\n",
       "Emergency operations board                                        8\n",
       "Emergency management                                              8\n",
       "Disability                                                        8\n",
       "Employee relations board                                          6\n",
       "Public accountability                                             6\n",
       "Name: department_name, dtype: int64"
      ]
     },
     "execution_count": 48,
     "metadata": {},
     "output_type": "execute_result"
    }
   ],
   "source": [
    "df['department_name'].str.capitalize().value_counts()"
   ]
  },
  {
   "cell_type": "markdown",
   "metadata": {},
   "source": [
    "Let's go ahead and save a similar formatting change for the `account_group_name` field.\n",
    "\n",
    "Just do this by assigning right back into the Series in the DataFrame."
   ]
  },
  {
   "cell_type": "code",
   "execution_count": 49,
   "metadata": {},
   "outputs": [],
   "source": [
    "df['account_group_name'] = df['account_group_name'].str.capitalize()"
   ]
  },
  {
   "cell_type": "markdown",
   "metadata": {},
   "source": [
    "## Numeric Data\n",
    "\n",
    "There's even greater functionality for numeric data. A great place to start is to look at summary statistics.\n",
    "\n",
    "### Summary Statistics\n",
    "\n",
    "Pandas `.describe` method will automatically return most of the desired summary stats for all numeric fields."
   ]
  },
  {
   "cell_type": "code",
   "execution_count": 50,
   "metadata": {},
   "outputs": [
    {
     "data": {
      "text/html": [
       "<div>\n",
       "<style scoped>\n",
       "    .dataframe tbody tr th:only-of-type {\n",
       "        vertical-align: middle;\n",
       "    }\n",
       "\n",
       "    .dataframe tbody tr th {\n",
       "        vertical-align: top;\n",
       "    }\n",
       "\n",
       "    .dataframe thead th {\n",
       "        text-align: right;\n",
       "    }\n",
       "</style>\n",
       "<table border=\"1\" class=\"dataframe\">\n",
       "  <thead>\n",
       "    <tr style=\"text-align: right;\">\n",
       "      <th></th>\n",
       "      <th>budget_fiscal_year</th>\n",
       "      <th>adopted_budget_amount</th>\n",
       "      <th>total_expenditures</th>\n",
       "      <th>budget_change_amount</th>\n",
       "      <th>budget_transfer_in_amount</th>\n",
       "      <th>budget_transfer_out_amount</th>\n",
       "      <th>total_budget</th>\n",
       "      <th>encumbrance_amount</th>\n",
       "      <th>pre_encumbrance_amount</th>\n",
       "      <th>budget_uncommitted_amount</th>\n",
       "      <th>department</th>\n",
       "    </tr>\n",
       "  </thead>\n",
       "  <tbody>\n",
       "    <tr>\n",
       "      <th>count</th>\n",
       "      <td>3653.0</td>\n",
       "      <td>3.653000e+03</td>\n",
       "      <td>2.538000e+03</td>\n",
       "      <td>3.653000e+03</td>\n",
       "      <td>3.653000e+03</td>\n",
       "      <td>3.653000e+03</td>\n",
       "      <td>3.653000e+03</td>\n",
       "      <td>3.653000e+03</td>\n",
       "      <td>3.653000e+03</td>\n",
       "      <td>3.653000e+03</td>\n",
       "      <td>3653.000000</td>\n",
       "    </tr>\n",
       "    <tr>\n",
       "      <th>mean</th>\n",
       "      <td>2018.0</td>\n",
       "      <td>3.887015e+06</td>\n",
       "      <td>1.213486e+07</td>\n",
       "      <td>1.075858e+06</td>\n",
       "      <td>1.136714e+05</td>\n",
       "      <td>1.136714e+05</td>\n",
       "      <td>4.962873e+06</td>\n",
       "      <td>9.763127e+04</td>\n",
       "      <td>6.138717e+03</td>\n",
       "      <td>-3.572344e+06</td>\n",
       "      <td>48.454969</td>\n",
       "    </tr>\n",
       "    <tr>\n",
       "      <th>std</th>\n",
       "      <td>0.0</td>\n",
       "      <td>3.781352e+07</td>\n",
       "      <td>1.383864e+08</td>\n",
       "      <td>2.627173e+07</td>\n",
       "      <td>1.327327e+06</td>\n",
       "      <td>1.878178e+06</td>\n",
       "      <td>4.583206e+07</td>\n",
       "      <td>7.039609e+05</td>\n",
       "      <td>1.000766e+05</td>\n",
       "      <td>1.072887e+08</td>\n",
       "      <td>26.521788</td>\n",
       "    </tr>\n",
       "    <tr>\n",
       "      <th>min</th>\n",
       "      <td>2018.0</td>\n",
       "      <td>0.000000e+00</td>\n",
       "      <td>0.000000e+00</td>\n",
       "      <td>-5.718038e+07</td>\n",
       "      <td>0.000000e+00</td>\n",
       "      <td>0.000000e+00</td>\n",
       "      <td>0.000000e+00</td>\n",
       "      <td>0.000000e+00</td>\n",
       "      <td>0.000000e+00</td>\n",
       "      <td>-5.256445e+09</td>\n",
       "      <td>2.000000</td>\n",
       "    </tr>\n",
       "    <tr>\n",
       "      <th>25%</th>\n",
       "      <td>2018.0</td>\n",
       "      <td>0.000000e+00</td>\n",
       "      <td>3.423884e+04</td>\n",
       "      <td>0.000000e+00</td>\n",
       "      <td>0.000000e+00</td>\n",
       "      <td>0.000000e+00</td>\n",
       "      <td>6.000000e+03</td>\n",
       "      <td>0.000000e+00</td>\n",
       "      <td>0.000000e+00</td>\n",
       "      <td>0.000000e+00</td>\n",
       "      <td>30.000000</td>\n",
       "    </tr>\n",
       "    <tr>\n",
       "      <th>50%</th>\n",
       "      <td>2018.0</td>\n",
       "      <td>0.000000e+00</td>\n",
       "      <td>2.000962e+05</td>\n",
       "      <td>1.065000e+03</td>\n",
       "      <td>0.000000e+00</td>\n",
       "      <td>0.000000e+00</td>\n",
       "      <td>1.020551e+05</td>\n",
       "      <td>0.000000e+00</td>\n",
       "      <td>0.000000e+00</td>\n",
       "      <td>4.355400e+02</td>\n",
       "      <td>50.000000</td>\n",
       "    </tr>\n",
       "    <tr>\n",
       "      <th>75%</th>\n",
       "      <td>2018.0</td>\n",
       "      <td>3.000000e+05</td>\n",
       "      <td>1.564424e+06</td>\n",
       "      <td>1.056430e+05</td>\n",
       "      <td>0.000000e+00</td>\n",
       "      <td>0.000000e+00</td>\n",
       "      <td>8.000000e+05</td>\n",
       "      <td>0.000000e+00</td>\n",
       "      <td>0.000000e+00</td>\n",
       "      <td>8.000000e+04</td>\n",
       "      <td>62.000000</td>\n",
       "    </tr>\n",
       "    <tr>\n",
       "      <th>max</th>\n",
       "      <td>2018.0</td>\n",
       "      <td>1.114645e+09</td>\n",
       "      <td>5.256445e+09</td>\n",
       "      <td>1.449055e+09</td>\n",
       "      <td>3.590700e+07</td>\n",
       "      <td>8.172030e+07</td>\n",
       "      <td>1.449055e+09</td>\n",
       "      <td>1.602654e+07</td>\n",
       "      <td>4.069569e+06</td>\n",
       "      <td>4.289099e+08</td>\n",
       "      <td>98.000000</td>\n",
       "    </tr>\n",
       "  </tbody>\n",
       "</table>\n",
       "</div>"
      ],
      "text/plain": [
       "       budget_fiscal_year  adopted_budget_amount  total_expenditures  \\\n",
       "count              3653.0           3.653000e+03        2.538000e+03   \n",
       "mean               2018.0           3.887015e+06        1.213486e+07   \n",
       "std                   0.0           3.781352e+07        1.383864e+08   \n",
       "min                2018.0           0.000000e+00        0.000000e+00   \n",
       "25%                2018.0           0.000000e+00        3.423884e+04   \n",
       "50%                2018.0           0.000000e+00        2.000962e+05   \n",
       "75%                2018.0           3.000000e+05        1.564424e+06   \n",
       "max                2018.0           1.114645e+09        5.256445e+09   \n",
       "\n",
       "       budget_change_amount  budget_transfer_in_amount  \\\n",
       "count          3.653000e+03               3.653000e+03   \n",
       "mean           1.075858e+06               1.136714e+05   \n",
       "std            2.627173e+07               1.327327e+06   \n",
       "min           -5.718038e+07               0.000000e+00   \n",
       "25%            0.000000e+00               0.000000e+00   \n",
       "50%            1.065000e+03               0.000000e+00   \n",
       "75%            1.056430e+05               0.000000e+00   \n",
       "max            1.449055e+09               3.590700e+07   \n",
       "\n",
       "       budget_transfer_out_amount  total_budget  encumbrance_amount  \\\n",
       "count                3.653000e+03  3.653000e+03        3.653000e+03   \n",
       "mean                 1.136714e+05  4.962873e+06        9.763127e+04   \n",
       "std                  1.878178e+06  4.583206e+07        7.039609e+05   \n",
       "min                  0.000000e+00  0.000000e+00        0.000000e+00   \n",
       "25%                  0.000000e+00  6.000000e+03        0.000000e+00   \n",
       "50%                  0.000000e+00  1.020551e+05        0.000000e+00   \n",
       "75%                  0.000000e+00  8.000000e+05        0.000000e+00   \n",
       "max                  8.172030e+07  1.449055e+09        1.602654e+07   \n",
       "\n",
       "       pre_encumbrance_amount  budget_uncommitted_amount   department  \n",
       "count            3.653000e+03               3.653000e+03  3653.000000  \n",
       "mean             6.138717e+03              -3.572344e+06    48.454969  \n",
       "std              1.000766e+05               1.072887e+08    26.521788  \n",
       "min              0.000000e+00              -5.256445e+09     2.000000  \n",
       "25%              0.000000e+00               0.000000e+00    30.000000  \n",
       "50%              0.000000e+00               4.355400e+02    50.000000  \n",
       "75%              0.000000e+00               8.000000e+04    62.000000  \n",
       "max              4.069569e+06               4.289099e+08    98.000000  "
      ]
     },
     "execution_count": 50,
     "metadata": {},
     "output_type": "execute_result"
    }
   ],
   "source": [
    "df.describe()"
   ]
  },
  {
   "cell_type": "markdown",
   "metadata": {},
   "source": [
    "I find it's often easier to interpret these values once they're transposed."
   ]
  },
  {
   "cell_type": "code",
   "execution_count": 51,
   "metadata": {},
   "outputs": [
    {
     "data": {
      "text/html": [
       "<div>\n",
       "<style scoped>\n",
       "    .dataframe tbody tr th:only-of-type {\n",
       "        vertical-align: middle;\n",
       "    }\n",
       "\n",
       "    .dataframe tbody tr th {\n",
       "        vertical-align: top;\n",
       "    }\n",
       "\n",
       "    .dataframe thead th {\n",
       "        text-align: right;\n",
       "    }\n",
       "</style>\n",
       "<table border=\"1\" class=\"dataframe\">\n",
       "  <thead>\n",
       "    <tr style=\"text-align: right;\">\n",
       "      <th></th>\n",
       "      <th>count</th>\n",
       "      <th>mean</th>\n",
       "      <th>std</th>\n",
       "      <th>min</th>\n",
       "      <th>25%</th>\n",
       "      <th>50%</th>\n",
       "      <th>75%</th>\n",
       "      <th>max</th>\n",
       "    </tr>\n",
       "  </thead>\n",
       "  <tbody>\n",
       "    <tr>\n",
       "      <th>budget_fiscal_year</th>\n",
       "      <td>3653.0</td>\n",
       "      <td>2.018000e+03</td>\n",
       "      <td>0.000000e+00</td>\n",
       "      <td>2.018000e+03</td>\n",
       "      <td>2018.00</td>\n",
       "      <td>2018.00</td>\n",
       "      <td>2018.000</td>\n",
       "      <td>2.018000e+03</td>\n",
       "    </tr>\n",
       "    <tr>\n",
       "      <th>adopted_budget_amount</th>\n",
       "      <td>3653.0</td>\n",
       "      <td>3.887015e+06</td>\n",
       "      <td>3.781352e+07</td>\n",
       "      <td>0.000000e+00</td>\n",
       "      <td>0.00</td>\n",
       "      <td>0.00</td>\n",
       "      <td>300000.000</td>\n",
       "      <td>1.114645e+09</td>\n",
       "    </tr>\n",
       "    <tr>\n",
       "      <th>total_expenditures</th>\n",
       "      <td>2538.0</td>\n",
       "      <td>1.213486e+07</td>\n",
       "      <td>1.383864e+08</td>\n",
       "      <td>0.000000e+00</td>\n",
       "      <td>34238.84</td>\n",
       "      <td>200096.24</td>\n",
       "      <td>1564423.615</td>\n",
       "      <td>5.256445e+09</td>\n",
       "    </tr>\n",
       "    <tr>\n",
       "      <th>budget_change_amount</th>\n",
       "      <td>3653.0</td>\n",
       "      <td>1.075858e+06</td>\n",
       "      <td>2.627173e+07</td>\n",
       "      <td>-5.718038e+07</td>\n",
       "      <td>0.00</td>\n",
       "      <td>1065.00</td>\n",
       "      <td>105643.000</td>\n",
       "      <td>1.449055e+09</td>\n",
       "    </tr>\n",
       "    <tr>\n",
       "      <th>budget_transfer_in_amount</th>\n",
       "      <td>3653.0</td>\n",
       "      <td>1.136714e+05</td>\n",
       "      <td>1.327327e+06</td>\n",
       "      <td>0.000000e+00</td>\n",
       "      <td>0.00</td>\n",
       "      <td>0.00</td>\n",
       "      <td>0.000</td>\n",
       "      <td>3.590700e+07</td>\n",
       "    </tr>\n",
       "    <tr>\n",
       "      <th>budget_transfer_out_amount</th>\n",
       "      <td>3653.0</td>\n",
       "      <td>1.136714e+05</td>\n",
       "      <td>1.878178e+06</td>\n",
       "      <td>0.000000e+00</td>\n",
       "      <td>0.00</td>\n",
       "      <td>0.00</td>\n",
       "      <td>0.000</td>\n",
       "      <td>8.172030e+07</td>\n",
       "    </tr>\n",
       "    <tr>\n",
       "      <th>total_budget</th>\n",
       "      <td>3653.0</td>\n",
       "      <td>4.962873e+06</td>\n",
       "      <td>4.583206e+07</td>\n",
       "      <td>0.000000e+00</td>\n",
       "      <td>6000.00</td>\n",
       "      <td>102055.13</td>\n",
       "      <td>800000.000</td>\n",
       "      <td>1.449055e+09</td>\n",
       "    </tr>\n",
       "    <tr>\n",
       "      <th>encumbrance_amount</th>\n",
       "      <td>3653.0</td>\n",
       "      <td>9.763127e+04</td>\n",
       "      <td>7.039609e+05</td>\n",
       "      <td>0.000000e+00</td>\n",
       "      <td>0.00</td>\n",
       "      <td>0.00</td>\n",
       "      <td>0.000</td>\n",
       "      <td>1.602654e+07</td>\n",
       "    </tr>\n",
       "    <tr>\n",
       "      <th>pre_encumbrance_amount</th>\n",
       "      <td>3653.0</td>\n",
       "      <td>6.138717e+03</td>\n",
       "      <td>1.000766e+05</td>\n",
       "      <td>0.000000e+00</td>\n",
       "      <td>0.00</td>\n",
       "      <td>0.00</td>\n",
       "      <td>0.000</td>\n",
       "      <td>4.069569e+06</td>\n",
       "    </tr>\n",
       "    <tr>\n",
       "      <th>budget_uncommitted_amount</th>\n",
       "      <td>3653.0</td>\n",
       "      <td>-3.572344e+06</td>\n",
       "      <td>1.072887e+08</td>\n",
       "      <td>-5.256445e+09</td>\n",
       "      <td>0.00</td>\n",
       "      <td>435.54</td>\n",
       "      <td>80000.000</td>\n",
       "      <td>4.289099e+08</td>\n",
       "    </tr>\n",
       "    <tr>\n",
       "      <th>department</th>\n",
       "      <td>3653.0</td>\n",
       "      <td>4.845497e+01</td>\n",
       "      <td>2.652179e+01</td>\n",
       "      <td>2.000000e+00</td>\n",
       "      <td>30.00</td>\n",
       "      <td>50.00</td>\n",
       "      <td>62.000</td>\n",
       "      <td>9.800000e+01</td>\n",
       "    </tr>\n",
       "  </tbody>\n",
       "</table>\n",
       "</div>"
      ],
      "text/plain": [
       "                             count          mean           std           min  \\\n",
       "budget_fiscal_year          3653.0  2.018000e+03  0.000000e+00  2.018000e+03   \n",
       "adopted_budget_amount       3653.0  3.887015e+06  3.781352e+07  0.000000e+00   \n",
       "total_expenditures          2538.0  1.213486e+07  1.383864e+08  0.000000e+00   \n",
       "budget_change_amount        3653.0  1.075858e+06  2.627173e+07 -5.718038e+07   \n",
       "budget_transfer_in_amount   3653.0  1.136714e+05  1.327327e+06  0.000000e+00   \n",
       "budget_transfer_out_amount  3653.0  1.136714e+05  1.878178e+06  0.000000e+00   \n",
       "total_budget                3653.0  4.962873e+06  4.583206e+07  0.000000e+00   \n",
       "encumbrance_amount          3653.0  9.763127e+04  7.039609e+05  0.000000e+00   \n",
       "pre_encumbrance_amount      3653.0  6.138717e+03  1.000766e+05  0.000000e+00   \n",
       "budget_uncommitted_amount   3653.0 -3.572344e+06  1.072887e+08 -5.256445e+09   \n",
       "department                  3653.0  4.845497e+01  2.652179e+01  2.000000e+00   \n",
       "\n",
       "                                 25%        50%          75%           max  \n",
       "budget_fiscal_year           2018.00    2018.00     2018.000  2.018000e+03  \n",
       "adopted_budget_amount           0.00       0.00   300000.000  1.114645e+09  \n",
       "total_expenditures          34238.84  200096.24  1564423.615  5.256445e+09  \n",
       "budget_change_amount            0.00    1065.00   105643.000  1.449055e+09  \n",
       "budget_transfer_in_amount       0.00       0.00        0.000  3.590700e+07  \n",
       "budget_transfer_out_amount      0.00       0.00        0.000  8.172030e+07  \n",
       "total_budget                 6000.00  102055.13   800000.000  1.449055e+09  \n",
       "encumbrance_amount              0.00       0.00        0.000  1.602654e+07  \n",
       "pre_encumbrance_amount          0.00       0.00        0.000  4.069569e+06  \n",
       "budget_uncommitted_amount       0.00     435.54    80000.000  4.289099e+08  \n",
       "department                     30.00      50.00       62.000  9.800000e+01  "
      ]
     },
     "execution_count": 51,
     "metadata": {},
     "output_type": "execute_result"
    }
   ],
   "source": [
    "df.describe().T"
   ]
  },
  {
   "cell_type": "markdown",
   "metadata": {},
   "source": [
    "Note that two of our numeric fields actually represent categorical data, `budget_fiscal_year` and `department`.\n",
    "\n",
    "There are a number of ways to deal with this. I prefer to just go ahead and cast them as `object` type. This will omit them from our numeric operations (and also allow us to easily group them with our other categorical columns).\n",
    "\n",
    "Use `.astype` to change each column to an object and overwrite the original column."
   ]
  },
  {
   "cell_type": "code",
   "execution_count": 52,
   "metadata": {},
   "outputs": [],
   "source": [
    "df['department'] = df['department'].astype('object')"
   ]
  },
  {
   "cell_type": "code",
   "execution_count": 53,
   "metadata": {},
   "outputs": [],
   "source": [
    "df['budget_fiscal_year'] = df['budget_fiscal_year'].astype('object')"
   ]
  },
  {
   "cell_type": "markdown",
   "metadata": {},
   "source": [
    "Now when we look at our `.describe`, these values won't appear."
   ]
  },
  {
   "cell_type": "code",
   "execution_count": 54,
   "metadata": {},
   "outputs": [
    {
     "data": {
      "text/html": [
       "<div>\n",
       "<style scoped>\n",
       "    .dataframe tbody tr th:only-of-type {\n",
       "        vertical-align: middle;\n",
       "    }\n",
       "\n",
       "    .dataframe tbody tr th {\n",
       "        vertical-align: top;\n",
       "    }\n",
       "\n",
       "    .dataframe thead th {\n",
       "        text-align: right;\n",
       "    }\n",
       "</style>\n",
       "<table border=\"1\" class=\"dataframe\">\n",
       "  <thead>\n",
       "    <tr style=\"text-align: right;\">\n",
       "      <th></th>\n",
       "      <th>count</th>\n",
       "      <th>mean</th>\n",
       "      <th>std</th>\n",
       "      <th>min</th>\n",
       "      <th>25%</th>\n",
       "      <th>50%</th>\n",
       "      <th>75%</th>\n",
       "      <th>max</th>\n",
       "    </tr>\n",
       "  </thead>\n",
       "  <tbody>\n",
       "    <tr>\n",
       "      <th>adopted_budget_amount</th>\n",
       "      <td>3653.0</td>\n",
       "      <td>3.887015e+06</td>\n",
       "      <td>3.781352e+07</td>\n",
       "      <td>0.000000e+00</td>\n",
       "      <td>0.00</td>\n",
       "      <td>0.00</td>\n",
       "      <td>300000.000</td>\n",
       "      <td>1.114645e+09</td>\n",
       "    </tr>\n",
       "    <tr>\n",
       "      <th>total_expenditures</th>\n",
       "      <td>2538.0</td>\n",
       "      <td>1.213486e+07</td>\n",
       "      <td>1.383864e+08</td>\n",
       "      <td>0.000000e+00</td>\n",
       "      <td>34238.84</td>\n",
       "      <td>200096.24</td>\n",
       "      <td>1564423.615</td>\n",
       "      <td>5.256445e+09</td>\n",
       "    </tr>\n",
       "    <tr>\n",
       "      <th>budget_change_amount</th>\n",
       "      <td>3653.0</td>\n",
       "      <td>1.075858e+06</td>\n",
       "      <td>2.627173e+07</td>\n",
       "      <td>-5.718038e+07</td>\n",
       "      <td>0.00</td>\n",
       "      <td>1065.00</td>\n",
       "      <td>105643.000</td>\n",
       "      <td>1.449055e+09</td>\n",
       "    </tr>\n",
       "    <tr>\n",
       "      <th>budget_transfer_in_amount</th>\n",
       "      <td>3653.0</td>\n",
       "      <td>1.136714e+05</td>\n",
       "      <td>1.327327e+06</td>\n",
       "      <td>0.000000e+00</td>\n",
       "      <td>0.00</td>\n",
       "      <td>0.00</td>\n",
       "      <td>0.000</td>\n",
       "      <td>3.590700e+07</td>\n",
       "    </tr>\n",
       "    <tr>\n",
       "      <th>budget_transfer_out_amount</th>\n",
       "      <td>3653.0</td>\n",
       "      <td>1.136714e+05</td>\n",
       "      <td>1.878178e+06</td>\n",
       "      <td>0.000000e+00</td>\n",
       "      <td>0.00</td>\n",
       "      <td>0.00</td>\n",
       "      <td>0.000</td>\n",
       "      <td>8.172030e+07</td>\n",
       "    </tr>\n",
       "    <tr>\n",
       "      <th>total_budget</th>\n",
       "      <td>3653.0</td>\n",
       "      <td>4.962873e+06</td>\n",
       "      <td>4.583206e+07</td>\n",
       "      <td>0.000000e+00</td>\n",
       "      <td>6000.00</td>\n",
       "      <td>102055.13</td>\n",
       "      <td>800000.000</td>\n",
       "      <td>1.449055e+09</td>\n",
       "    </tr>\n",
       "    <tr>\n",
       "      <th>encumbrance_amount</th>\n",
       "      <td>3653.0</td>\n",
       "      <td>9.763127e+04</td>\n",
       "      <td>7.039609e+05</td>\n",
       "      <td>0.000000e+00</td>\n",
       "      <td>0.00</td>\n",
       "      <td>0.00</td>\n",
       "      <td>0.000</td>\n",
       "      <td>1.602654e+07</td>\n",
       "    </tr>\n",
       "    <tr>\n",
       "      <th>pre_encumbrance_amount</th>\n",
       "      <td>3653.0</td>\n",
       "      <td>6.138717e+03</td>\n",
       "      <td>1.000766e+05</td>\n",
       "      <td>0.000000e+00</td>\n",
       "      <td>0.00</td>\n",
       "      <td>0.00</td>\n",
       "      <td>0.000</td>\n",
       "      <td>4.069569e+06</td>\n",
       "    </tr>\n",
       "    <tr>\n",
       "      <th>budget_uncommitted_amount</th>\n",
       "      <td>3653.0</td>\n",
       "      <td>-3.572344e+06</td>\n",
       "      <td>1.072887e+08</td>\n",
       "      <td>-5.256445e+09</td>\n",
       "      <td>0.00</td>\n",
       "      <td>435.54</td>\n",
       "      <td>80000.000</td>\n",
       "      <td>4.289099e+08</td>\n",
       "    </tr>\n",
       "  </tbody>\n",
       "</table>\n",
       "</div>"
      ],
      "text/plain": [
       "                             count          mean           std           min  \\\n",
       "adopted_budget_amount       3653.0  3.887015e+06  3.781352e+07  0.000000e+00   \n",
       "total_expenditures          2538.0  1.213486e+07  1.383864e+08  0.000000e+00   \n",
       "budget_change_amount        3653.0  1.075858e+06  2.627173e+07 -5.718038e+07   \n",
       "budget_transfer_in_amount   3653.0  1.136714e+05  1.327327e+06  0.000000e+00   \n",
       "budget_transfer_out_amount  3653.0  1.136714e+05  1.878178e+06  0.000000e+00   \n",
       "total_budget                3653.0  4.962873e+06  4.583206e+07  0.000000e+00   \n",
       "encumbrance_amount          3653.0  9.763127e+04  7.039609e+05  0.000000e+00   \n",
       "pre_encumbrance_amount      3653.0  6.138717e+03  1.000766e+05  0.000000e+00   \n",
       "budget_uncommitted_amount   3653.0 -3.572344e+06  1.072887e+08 -5.256445e+09   \n",
       "\n",
       "                                 25%        50%          75%           max  \n",
       "adopted_budget_amount           0.00       0.00   300000.000  1.114645e+09  \n",
       "total_expenditures          34238.84  200096.24  1564423.615  5.256445e+09  \n",
       "budget_change_amount            0.00    1065.00   105643.000  1.449055e+09  \n",
       "budget_transfer_in_amount       0.00       0.00        0.000  3.590700e+07  \n",
       "budget_transfer_out_amount      0.00       0.00        0.000  8.172030e+07  \n",
       "total_budget                 6000.00  102055.13   800000.000  1.449055e+09  \n",
       "encumbrance_amount              0.00       0.00        0.000  1.602654e+07  \n",
       "pre_encumbrance_amount          0.00       0.00        0.000  4.069569e+06  \n",
       "budget_uncommitted_amount       0.00     435.54    80000.000  4.289099e+08  "
      ]
     },
     "execution_count": 54,
     "metadata": {},
     "output_type": "execute_result"
    }
   ],
   "source": [
    "df.describe().T"
   ]
  },
  {
   "cell_type": "markdown",
   "metadata": {},
   "source": [
    "If you're not familiar, the `e+06` is scientific notation, and just means that the decimal should be moved 6 places to the right.\n",
    "\n",
    "Here's a table for what each of our calculated values represents:\n",
    "\n",
    "| statistic | meaning |\n",
    "| --- | --- |\n",
    "| count | Number of non-null elements |\n",
    "| mean | Average of non-null elements |\n",
    "| std | Standard deviation |\n",
    "| min | The smallest value in the column |\n",
    "| 25% | Value greater than 25% of data (lower quartile, Q1) |\n",
    "| 50% | The middle value (50th percentile, Q2) |\n",
    "| 75% | Value greater than 75% of data (upper quartile, Q3) |\n",
    "| max | The largest value in the column |\n",
    "\n",
    "We note that many of our columns are full of mostly zeros (5 of our columns have a median of 0, and 4 have the value 0 at the 75 percentile).\n",
    "\n",
    "All of our columns have min values of 0 or less.\n",
    "\n",
    "The only column with missing values is `total_expenditures`. Because we're looking at 2018 data, it's possible that these values just haven't been calculated and finalized yet, but we should keep this in mind moving forward as we look at other years."
   ]
  },
  {
   "cell_type": "markdown",
   "metadata": {},
   "source": [
    "#### Select Numeric Columns\n",
    "\n",
    "To be explicit moving forward, let's get a quick list of numeric columns, we'll again use `.select_dtypes` with the keyword `exclude='object'`. We'll just directly access our `.columns` from here."
   ]
  },
  {
   "cell_type": "code",
   "execution_count": 55,
   "metadata": {},
   "outputs": [
    {
     "data": {
      "text/plain": [
       "Index(['adopted_budget_amount', 'total_expenditures', 'budget_change_amount',\n",
       "       'budget_transfer_in_amount', 'budget_transfer_out_amount',\n",
       "       'total_budget', 'encumbrance_amount', 'pre_encumbrance_amount',\n",
       "       'budget_uncommitted_amount'],\n",
       "      dtype='object')"
      ]
     },
     "execution_count": 55,
     "metadata": {},
     "output_type": "execute_result"
    }
   ],
   "source": [
    "num_cols = df.select_dtypes(exclude='object').columns\n",
    "num_cols"
   ]
  },
  {
   "cell_type": "markdown",
   "metadata": {},
   "source": [
    "Here's a convenient table of the description provided alongside the data for each of these fields:\n",
    "\n",
    "| Column name | Description |\n",
    "| --- | --- |\n",
    "| adopted_budget_amount | Original budget amount adopted by Mayor and Council |\n",
    "| total_expenditures | Total Budget Fiscal Year amount expended from account to date |\n",
    "| budget_change_amount | Amendment to the adopted budget amount |\n",
    "| budget_transfer_in_amount | Increase in appropriation to account by transfer in of funds |\n",
    "| budget_transfer_out_amount | Decrease in appropriation to account by transfer out of funds |\n",
    "| total_budget | Appropriation account amount net of changes and transfers to/from the original budgeted amount |\n",
    "| encumbrance_amount | Obligation or commitment to pay for a good or service |\n",
    "| pre_encumbrance_amount | Anticipated obligation or commitment to pay for a good or service |\n",
    "| budget_uncommitted_amount | Total unused appropriation after expenditures and encumbrances |"
   ]
  },
  {
   "cell_type": "markdown",
   "metadata": {},
   "source": [
    "### Aggregate Statistics\n",
    "\n",
    "We can also calculate these same statistics on each column, or the entire DataFrame. We'll run through these operations quickly as a demonstration.\n",
    "\n",
    "#### `.count`\n",
    "\n",
    "`.count` will work on both numeric and categorical values. Note that nulls are ignored."
   ]
  },
  {
   "cell_type": "code",
   "execution_count": 56,
   "metadata": {},
   "outputs": [
    {
     "data": {
      "text/plain": [
       "budget_fiscal_year            3653\n",
       "department_name               3653\n",
       "fund_name                     3653\n",
       "account_name                  3651\n",
       "adopted_budget_amount         3653\n",
       "total_expenditures            2538\n",
       "budget_change_amount          3653\n",
       "budget_transfer_in_amount     3653\n",
       "budget_transfer_out_amount    3653\n",
       "total_budget                  3653\n",
       "encumbrance_amount            3653\n",
       "pre_encumbrance_amount        3653\n",
       "budget_uncommitted_amount     3653\n",
       "account_group_name            1375\n",
       "fund                          3653\n",
       "account                       3653\n",
       "department                    3653\n",
       "dtype: int64"
      ]
     },
     "execution_count": 56,
     "metadata": {},
     "output_type": "execute_result"
    }
   ],
   "source": [
    "df.count()"
   ]
  },
  {
   "cell_type": "markdown",
   "metadata": {},
   "source": [
    "#### `.mean`\n",
    "\n",
    "`.mean` will only evaluated numeric values, ignoring nulls."
   ]
  },
  {
   "cell_type": "code",
   "execution_count": 57,
   "metadata": {},
   "outputs": [
    {
     "data": {
      "text/plain": [
       "adopted_budget_amount         3.887015e+06\n",
       "total_expenditures            1.213486e+07\n",
       "budget_change_amount          1.075858e+06\n",
       "budget_transfer_in_amount     1.136714e+05\n",
       "budget_transfer_out_amount    1.136714e+05\n",
       "total_budget                  4.962873e+06\n",
       "encumbrance_amount            9.763127e+04\n",
       "pre_encumbrance_amount        6.138717e+03\n",
       "budget_uncommitted_amount    -3.572344e+06\n",
       "dtype: float64"
      ]
     },
     "execution_count": 57,
     "metadata": {},
     "output_type": "execute_result"
    }
   ],
   "source": [
    "df[num_cols].mean()"
   ]
  },
  {
   "cell_type": "markdown",
   "metadata": {},
   "source": [
    "By default, means are calculated for each column. However, we can changed this to be calculated over rows by passing an `axis=1` keyword argument."
   ]
  },
  {
   "cell_type": "code",
   "execution_count": 58,
   "metadata": {},
   "outputs": [
    {
     "data": {
      "text/plain": [
       "0    693405.111111\n",
       "1     29292.000000\n",
       "2    101149.000000\n",
       "3    847948.333333\n",
       "4      5733.333333\n",
       "dtype: float64"
      ]
     },
     "execution_count": 58,
     "metadata": {},
     "output_type": "execute_result"
    }
   ],
   "source": [
    "df[num_cols].mean(axis=1).head()"
   ]
  },
  {
   "cell_type": "markdown",
   "metadata": {},
   "source": [
    "In this investigation, these numbers aren't extremely informative. As a reminder, let's look at our numeric columns again."
   ]
  },
  {
   "cell_type": "code",
   "execution_count": 59,
   "metadata": {},
   "outputs": [
    {
     "data": {
      "text/plain": [
       "Index(['adopted_budget_amount', 'total_expenditures', 'budget_change_amount',\n",
       "       'budget_transfer_in_amount', 'budget_transfer_out_amount',\n",
       "       'total_budget', 'encumbrance_amount', 'pre_encumbrance_amount',\n",
       "       'budget_uncommitted_amount'],\n",
       "      dtype='object')"
      ]
     },
     "execution_count": 59,
     "metadata": {},
     "output_type": "execute_result"
    }
   ],
   "source": [
    "num_cols"
   ]
  },
  {
   "cell_type": "markdown",
   "metadata": {},
   "source": [
    "So the row-wise means we are returning are just being calculated on these various numbers. Again, this is for demonstration, and not really informative."
   ]
  },
  {
   "cell_type": "markdown",
   "metadata": {},
   "source": [
    "#### `.std`\n",
    "\n",
    "Standard deviation will only be calculated on numeric columns."
   ]
  },
  {
   "cell_type": "code",
   "execution_count": 60,
   "metadata": {},
   "outputs": [
    {
     "data": {
      "text/plain": [
       "adopted_budget_amount         3.781352e+07\n",
       "total_expenditures            1.383864e+08\n",
       "budget_change_amount          2.627173e+07\n",
       "budget_transfer_in_amount     1.327327e+06\n",
       "budget_transfer_out_amount    1.878178e+06\n",
       "total_budget                  4.583206e+07\n",
       "encumbrance_amount            7.039609e+05\n",
       "pre_encumbrance_amount        1.000766e+05\n",
       "budget_uncommitted_amount     1.072887e+08\n",
       "dtype: float64"
      ]
     },
     "execution_count": 60,
     "metadata": {},
     "output_type": "execute_result"
    }
   ],
   "source": [
    "df[num_cols].std()"
   ]
  },
  {
   "cell_type": "markdown",
   "metadata": {},
   "source": [
    "#### Quantiles\n",
    "\n",
    "The `.quantile` method will allow you to specify any value between 0 and 1."
   ]
  },
  {
   "cell_type": "code",
   "execution_count": 61,
   "metadata": {},
   "outputs": [
    {
     "data": {
      "text/plain": [
       "adopted_budget_amount             0.0\n",
       "total_expenditures            42000.0\n",
       "budget_change_amount              0.0\n",
       "budget_transfer_in_amount         0.0\n",
       "budget_transfer_out_amount        0.0\n",
       "total_budget                  13409.6\n",
       "encumbrance_amount                0.0\n",
       "pre_encumbrance_amount            0.0\n",
       "budget_uncommitted_amount         0.0\n",
       "Name: 0.3, dtype: float64"
      ]
     },
     "execution_count": 61,
     "metadata": {},
     "output_type": "execute_result"
    }
   ],
   "source": [
    "df[num_cols].quantile(.3)"
   ]
  },
  {
   "cell_type": "markdown",
   "metadata": {},
   "source": [
    "We also have the built-in `.median` function for the 50 percentile."
   ]
  },
  {
   "cell_type": "code",
   "execution_count": 62,
   "metadata": {},
   "outputs": [
    {
     "data": {
      "text/plain": [
       "adopted_budget_amount              0.00\n",
       "total_expenditures            200096.24\n",
       "budget_change_amount            1065.00\n",
       "budget_transfer_in_amount          0.00\n",
       "budget_transfer_out_amount         0.00\n",
       "total_budget                  102055.13\n",
       "encumbrance_amount                 0.00\n",
       "pre_encumbrance_amount             0.00\n",
       "budget_uncommitted_amount        435.54\n",
       "dtype: float64"
      ]
     },
     "execution_count": 62,
     "metadata": {},
     "output_type": "execute_result"
    }
   ],
   "source": [
    "df[num_cols].median()"
   ]
  },
  {
   "cell_type": "markdown",
   "metadata": {},
   "source": [
    "#### `.min` and `.max`\n",
    "\n",
    "These will work on both numeric and categorical columns, returning minimum and maximum values for each column. For categorical columns, these are alphabetically sorted."
   ]
  },
  {
   "cell_type": "code",
   "execution_count": 63,
   "metadata": {},
   "outputs": [
    {
     "data": {
      "text/plain": [
       "budget_fiscal_year                                                  2018\n",
       "department_name                                                    AGING\n",
       "fund_name                     100 RESILIENT CITIES INITIATIVE GRANT FUND\n",
       "adopted_budget_amount                                                  0\n",
       "total_expenditures                                                     0\n",
       "budget_change_amount                                        -5.71804e+07\n",
       "budget_transfer_in_amount                                              0\n",
       "budget_transfer_out_amount                                             0\n",
       "total_budget                                                           0\n",
       "encumbrance_amount                                                     0\n",
       "pre_encumbrance_amount                                                 0\n",
       "budget_uncommitted_amount                                   -5.25645e+09\n",
       "fund                                                                 100\n",
       "account                                                           000021\n",
       "department                                                             2\n",
       "dtype: object"
      ]
     },
     "execution_count": 63,
     "metadata": {},
     "output_type": "execute_result"
    }
   ],
   "source": [
    "df.min()"
   ]
  },
  {
   "cell_type": "code",
   "execution_count": 64,
   "metadata": {},
   "outputs": [
    {
     "data": {
      "text/plain": [
       "budget_fiscal_year                                 2018\n",
       "department_name                                     ZOO\n",
       "fund_name                     ZOO ENTERPRISE TRUST FUND\n",
       "adopted_budget_amount                       1.11464e+09\n",
       "total_expenditures                          5.25645e+09\n",
       "budget_change_amount                        1.44906e+09\n",
       "budget_transfer_in_amount                    3.5907e+07\n",
       "budget_transfer_out_amount                  8.17203e+07\n",
       "total_budget                                1.44906e+09\n",
       "encumbrance_amount                          1.60265e+07\n",
       "pre_encumbrance_amount                      4.06957e+06\n",
       "budget_uncommitted_amount                    4.2891e+08\n",
       "fund                                                W88\n",
       "account                                          988210\n",
       "department                                           98\n",
       "dtype: object"
      ]
     },
     "execution_count": 64,
     "metadata": {},
     "output_type": "execute_result"
    }
   ],
   "source": [
    "df.max()"
   ]
  },
  {
   "cell_type": "markdown",
   "metadata": {},
   "source": [
    "Note that all of these methods can be applied on a Series as well."
   ]
  },
  {
   "cell_type": "code",
   "execution_count": 65,
   "metadata": {},
   "outputs": [
    {
     "data": {
      "text/plain": [
       "1449055000.0"
      ]
     },
     "execution_count": 65,
     "metadata": {},
     "output_type": "execute_result"
    }
   ],
   "source": [
    "df.total_budget.max()"
   ]
  },
  {
   "cell_type": "markdown",
   "metadata": {},
   "source": [
    "# END OF LESSON 1\n",
    "\n",
    "I think? This already seems like a ton of content for just an hour. **BUT** we haven't gotten to masking or math operations. A lot of the above is just me being overly verbose so that attendees have things to refer back to later.\n",
    "\n",
    "This is definitely more bottom-up than top-down. Maybe there's an additional notebook example that we run through just before this that provides some top-down high level analytics with all the code provided? This could be useful to show people the power of Pandas, and then zoom back and explain the basics? And then the lab could be focused on duplicating some of the things completed in the top-down demo?\n",
    "\n",
    "A few cells above I realize don't really have any comments directly above them, but these will make sense in the nature of the lecture, and I think they read well here in the solutions notebook."
   ]
  },
  {
   "cell_type": "code",
   "execution_count": null,
   "metadata": {},
   "outputs": [],
   "source": []
  },
  {
   "cell_type": "markdown",
   "metadata": {},
   "source": [
    "### Basic Math Operations\n",
    "\n",
    "Pandas is set up to do vectorized math operations by default.\n",
    "\n",
    "I'm no financial expert, but let's see how balanced this budget is.\n",
    "\n",
    "Based on our provided data dictionary, we can see that the `total_budget` should result from the following:\n",
    "\n",
    "`adopted_budget_amount` + `budget_change_amount` + `budget_transfer_in_amount` - `budget_transfer_out_amount`\n",
    "\n",
    "Let's break this down into a few intermediate operations.\n",
    "\n",
    "First, we'll add the `budget_change_amount` to our `adopted_budget_amount`. We'll save this as new column, `changed_budget`."
   ]
  },
  {
   "cell_type": "code",
   "execution_count": 193,
   "metadata": {},
   "outputs": [
    {
     "data": {
      "text/plain": [
       "0        2231382.00\n",
       "1          87876.00\n",
       "2         303447.00\n",
       "3        2543845.00\n",
       "4           3900.00\n",
       "5         256193.00\n",
       "6         220546.00\n",
       "7        2758622.00\n",
       "8        4428880.00\n",
       "9        1450864.00\n",
       "10          8450.00\n",
       "11        291679.00\n",
       "12        544000.00\n",
       "13          6652.00\n",
       "14        164614.00\n",
       "15          2571.00\n",
       "16       2096835.00\n",
       "17         10218.00\n",
       "18        527631.00\n",
       "19         32049.00\n",
       "20       2538774.00\n",
       "21         17788.00\n",
       "22         31473.00\n",
       "23        402384.00\n",
       "24         15720.00\n",
       "25        129399.00\n",
       "26        537683.00\n",
       "27         52522.00\n",
       "28       3713657.00\n",
       "29         57079.00\n",
       "           ...     \n",
       "3623           0.00\n",
       "3624           0.00\n",
       "3625           0.00\n",
       "3626           0.00\n",
       "3627           0.00\n",
       "3628           0.00\n",
       "3629      821999.00\n",
       "3630     1281682.00\n",
       "3631      226339.00\n",
       "3632      399794.00\n",
       "3633      500000.00\n",
       "3634       40000.00\n",
       "3635       20158.71\n",
       "3636       12500.00\n",
       "3637       60000.00\n",
       "3638      150000.00\n",
       "3639     1598896.00\n",
       "3640       21311.00\n",
       "3641        5001.00\n",
       "3642     1992087.00\n",
       "3643    16031753.29\n",
       "3644      914648.00\n",
       "3645       90000.00\n",
       "3646       70000.00\n",
       "3647      130000.00\n",
       "3648    20916785.29\n",
       "3649           0.00\n",
       "3650      246529.75\n",
       "3651      135164.00\n",
       "3652      400000.00\n",
       "Length: 3653, dtype: float64"
      ]
     },
     "execution_count": 193,
     "metadata": {},
     "output_type": "execute_result"
    }
   ],
   "source": [
    "df['budget_change_amount'] + df['adopted_budget_amount']"
   ]
  },
  {
   "cell_type": "markdown",
   "metadata": {},
   "source": [
    "| Column name | Description |\n",
    "| --- | --- |\n",
    "| adopted_budget_amount | Original budget amount adopted by Mayor and Council |\n",
    "| total_expenditures | Total Budget Fiscal Year amount expended from account to date |\n",
    "| budget_change_amount | Amendment to the adopted budget amount |\n",
    "| budget_transfer_in_amount | Increase in appropriation to account by transfer in of funds |\n",
    "| budget_transfer_out_amount | Decrease in appropriation to account by transfer out of funds |\n",
    "| total_budget | Appropriation account amount net of changes and transfers to/from the original budgeted amount |\n",
    "| encumbrance_amount | Obligation or commitment to pay for a good or service |\n",
    "| pre_encumbrance_amount | Anticipated obligation or commitment to pay for a good or service |\n",
    "| budget_uncommitted_amount | Total unused appropriation after expenditures and encumbrances |"
   ]
  },
  {
   "cell_type": "code",
   "execution_count": 192,
   "metadata": {},
   "outputs": [
    {
     "data": {
      "text/plain": [
       "0.989871338625787"
      ]
     },
     "execution_count": 192,
     "metadata": {},
     "output_type": "execute_result"
    }
   ],
   "source": [
    "((df['adopted_budget_amount'] \n",
    "  + df['budget_change_amount']\n",
    "  - df['budget_transfer_out_amount'] \n",
    "  + df['budget_transfer_in_amount']\n",
    " ) == df['total_budget']).mean()"
   ]
  },
  {
   "cell_type": "code",
   "execution_count": 187,
   "metadata": {},
   "outputs": [],
   "source": [
    "df_no_nulls = df.dropna()"
   ]
  },
  {
   "cell_type": "code",
   "execution_count": 188,
   "metadata": {},
   "outputs": [
    {
     "data": {
      "text/plain": [
       "0.9175257731958762"
      ]
     },
     "execution_count": 188,
     "metadata": {},
     "output_type": "execute_result"
    }
   ],
   "source": [
    "((df_no_nulls['total_expenditures'] + df_no_nulls['encumbrance_amount'] + df_no_nulls['budget_uncommitted_amount'] + df_no_nulls['pre_encumbrance_amount']) == df_no_nulls['total_budget']).mean()"
   ]
  },
  {
   "cell_type": "code",
   "execution_count": 189,
   "metadata": {},
   "outputs": [
    {
     "data": {
      "text/plain": [
       "0.7824742268041237"
      ]
     },
     "execution_count": 189,
     "metadata": {},
     "output_type": "execute_result"
    }
   ],
   "source": [
    "((df_no_nulls['adopted_budget_amount'] - df_no_nulls['total_budget'] - df_no_nulls['budget_transfer_out_amount'] + df_no_nulls['budget_transfer_in_amount']).abs() == df_no_nulls.budget_change_amount).mean()\n"
   ]
  },
  {
   "cell_type": "code",
   "execution_count": 173,
   "metadata": {},
   "outputs": [
    {
     "data": {
      "text/plain": [
       "0          9000.00\n",
       "1         87876.00\n",
       "2        303447.00\n",
       "3       2543845.00\n",
       "4             0.00\n",
       "5        256193.00\n",
       "6        220546.00\n",
       "7       2758622.00\n",
       "8       4428880.00\n",
       "9       1450864.00\n",
       "10         -200.00\n",
       "11      -171434.00\n",
       "12       544000.00\n",
       "13         6652.00\n",
       "14       164614.00\n",
       "15         2571.00\n",
       "16      -264700.00\n",
       "17         1093.00\n",
       "18       527631.00\n",
       "19        32049.00\n",
       "20      2538774.00\n",
       "21        11987.00\n",
       "22        31473.00\n",
       "23       402384.00\n",
       "24        15720.00\n",
       "25       129399.00\n",
       "26       537683.00\n",
       "27        52522.00\n",
       "28      -142554.00\n",
       "29        57079.00\n",
       "           ...    \n",
       "3623          0.00\n",
       "3624          0.00\n",
       "3625          0.00\n",
       "3626          0.00\n",
       "3627          0.00\n",
       "3628          0.00\n",
       "3629          0.00\n",
       "3630          0.00\n",
       "3631      -9521.00\n",
       "3632    -591606.00\n",
       "3633     500000.00\n",
       "3634          0.00\n",
       "3635      20158.71\n",
       "3636      12500.00\n",
       "3637          0.00\n",
       "3638          0.00\n",
       "3639          0.00\n",
       "3640      21311.00\n",
       "3641          0.00\n",
       "3642          0.00\n",
       "3643     -34463.71\n",
       "3644          0.00\n",
       "3645      90000.00\n",
       "3646          0.00\n",
       "3647          0.00\n",
       "3648   -1095590.71\n",
       "3649          0.00\n",
       "3650     246529.75\n",
       "3651          0.00\n",
       "3652          0.00\n",
       "Name: budget_change_amount, Length: 3653, dtype: float64"
      ]
     },
     "execution_count": 173,
     "metadata": {},
     "output_type": "execute_result"
    }
   ],
   "source": [
    "df.budget_change_amount"
   ]
  },
  {
   "cell_type": "code",
   "execution_count": 174,
   "metadata": {},
   "outputs": [
    {
     "data": {
      "text/html": [
       "<div>\n",
       "<style scoped>\n",
       "    .dataframe tbody tr th:only-of-type {\n",
       "        vertical-align: middle;\n",
       "    }\n",
       "\n",
       "    .dataframe tbody tr th {\n",
       "        vertical-align: top;\n",
       "    }\n",
       "\n",
       "    .dataframe thead th {\n",
       "        text-align: right;\n",
       "    }\n",
       "</style>\n",
       "<table border=\"1\" class=\"dataframe\">\n",
       "  <thead>\n",
       "    <tr style=\"text-align: right;\">\n",
       "      <th></th>\n",
       "      <th>budget_fiscal_year</th>\n",
       "      <th>department_name</th>\n",
       "      <th>fund_name</th>\n",
       "      <th>account_name</th>\n",
       "      <th>adopted_budget_amount</th>\n",
       "      <th>total_expenditures</th>\n",
       "      <th>budget_change_amount</th>\n",
       "      <th>budget_transfer_in_amount</th>\n",
       "      <th>budget_transfer_out_amount</th>\n",
       "      <th>total_budget</th>\n",
       "      <th>encumbrance_amount</th>\n",
       "      <th>pre_encumbrance_amount</th>\n",
       "      <th>budget_uncommitted_amount</th>\n",
       "      <th>account_group_name</th>\n",
       "      <th>fund</th>\n",
       "      <th>account</th>\n",
       "      <th>department</th>\n",
       "    </tr>\n",
       "  </thead>\n",
       "  <tbody>\n",
       "    <tr>\n",
       "      <th>0</th>\n",
       "      <td>2018</td>\n",
       "      <td>AGING</td>\n",
       "      <td>GENERAL FUND (GENERAL BUDGET)</td>\n",
       "      <td>CONTRACTUAL SERVICES</td>\n",
       "      <td>2222382.0</td>\n",
       "      <td>1608157.04</td>\n",
       "      <td>9000.0</td>\n",
       "      <td>0.0</td>\n",
       "      <td>453500.0</td>\n",
       "      <td>1777882.0</td>\n",
       "      <td>93331.0</td>\n",
       "      <td>0.0</td>\n",
       "      <td>76393.96</td>\n",
       "      <td>Expenses</td>\n",
       "      <td>100</td>\n",
       "      <td>003040</td>\n",
       "      <td>2</td>\n",
       "    </tr>\n",
       "    <tr>\n",
       "      <th>1</th>\n",
       "      <td>2018</td>\n",
       "      <td>AGING</td>\n",
       "      <td>TITLE VII OLDER AMERICANS ACT</td>\n",
       "      <td>OMBUDSMAN VII A PROGRAM</td>\n",
       "      <td>0.0</td>\n",
       "      <td>87876.00</td>\n",
       "      <td>87876.0</td>\n",
       "      <td>0.0</td>\n",
       "      <td>0.0</td>\n",
       "      <td>87876.0</td>\n",
       "      <td>0.0</td>\n",
       "      <td>0.0</td>\n",
       "      <td>0.00</td>\n",
       "      <td>NaN</td>\n",
       "      <td>564</td>\n",
       "      <td>02PB01</td>\n",
       "      <td>2</td>\n",
       "    </tr>\n",
       "    <tr>\n",
       "      <th>2</th>\n",
       "      <td>2018</td>\n",
       "      <td>AGING</td>\n",
       "      <td>SENIOR HUMAN SERVICES PROGRAM</td>\n",
       "      <td>EVIDENCE BASED PROGRAMS</td>\n",
       "      <td>0.0</td>\n",
       "      <td>292338.00</td>\n",
       "      <td>303447.0</td>\n",
       "      <td>0.0</td>\n",
       "      <td>0.0</td>\n",
       "      <td>303447.0</td>\n",
       "      <td>11109.0</td>\n",
       "      <td>0.0</td>\n",
       "      <td>0.00</td>\n",
       "      <td>NaN</td>\n",
       "      <td>42J</td>\n",
       "      <td>02R340</td>\n",
       "      <td>2</td>\n",
       "    </tr>\n",
       "    <tr>\n",
       "      <th>3</th>\n",
       "      <td>2018</td>\n",
       "      <td>AGING</td>\n",
       "      <td>AREA PLAN FOR THE AGING TIT 7</td>\n",
       "      <td>HOME DELIVERED MEALS FOR SENIORS</td>\n",
       "      <td>0.0</td>\n",
       "      <td>2419162.00</td>\n",
       "      <td>2543845.0</td>\n",
       "      <td>0.0</td>\n",
       "      <td>0.0</td>\n",
       "      <td>2543845.0</td>\n",
       "      <td>36122.0</td>\n",
       "      <td>0.0</td>\n",
       "      <td>88561.00</td>\n",
       "      <td>NaN</td>\n",
       "      <td>395</td>\n",
       "      <td>02PQ04</td>\n",
       "      <td>2</td>\n",
       "    </tr>\n",
       "    <tr>\n",
       "      <th>4</th>\n",
       "      <td>2018</td>\n",
       "      <td>AGING</td>\n",
       "      <td>GENERAL FUND (GENERAL BUDGET)</td>\n",
       "      <td>OVERTIME GENERAL</td>\n",
       "      <td>3900.0</td>\n",
       "      <td>15943.36</td>\n",
       "      <td>0.0</td>\n",
       "      <td>13300.0</td>\n",
       "      <td>0.0</td>\n",
       "      <td>17200.0</td>\n",
       "      <td>0.0</td>\n",
       "      <td>0.0</td>\n",
       "      <td>1256.64</td>\n",
       "      <td>Salaries and benefits</td>\n",
       "      <td>100</td>\n",
       "      <td>001090</td>\n",
       "      <td>2</td>\n",
       "    </tr>\n",
       "  </tbody>\n",
       "</table>\n",
       "</div>"
      ],
      "text/plain": [
       "  budget_fiscal_year department_name                      fund_name  \\\n",
       "0               2018           AGING  GENERAL FUND (GENERAL BUDGET)   \n",
       "1               2018           AGING  TITLE VII OLDER AMERICANS ACT   \n",
       "2               2018           AGING  SENIOR HUMAN SERVICES PROGRAM   \n",
       "3               2018           AGING  AREA PLAN FOR THE AGING TIT 7   \n",
       "4               2018           AGING  GENERAL FUND (GENERAL BUDGET)   \n",
       "\n",
       "                       account_name  adopted_budget_amount  \\\n",
       "0              CONTRACTUAL SERVICES              2222382.0   \n",
       "1           OMBUDSMAN VII A PROGRAM                    0.0   \n",
       "2           EVIDENCE BASED PROGRAMS                    0.0   \n",
       "3  HOME DELIVERED MEALS FOR SENIORS                    0.0   \n",
       "4                  OVERTIME GENERAL                 3900.0   \n",
       "\n",
       "   total_expenditures  budget_change_amount  budget_transfer_in_amount  \\\n",
       "0          1608157.04                9000.0                        0.0   \n",
       "1            87876.00               87876.0                        0.0   \n",
       "2           292338.00              303447.0                        0.0   \n",
       "3          2419162.00             2543845.0                        0.0   \n",
       "4            15943.36                   0.0                    13300.0   \n",
       "\n",
       "   budget_transfer_out_amount  total_budget  encumbrance_amount  \\\n",
       "0                    453500.0     1777882.0             93331.0   \n",
       "1                         0.0       87876.0                 0.0   \n",
       "2                         0.0      303447.0             11109.0   \n",
       "3                         0.0     2543845.0             36122.0   \n",
       "4                         0.0       17200.0                 0.0   \n",
       "\n",
       "   pre_encumbrance_amount  budget_uncommitted_amount     account_group_name  \\\n",
       "0                     0.0                   76393.96               Expenses   \n",
       "1                     0.0                       0.00                    NaN   \n",
       "2                     0.0                       0.00                    NaN   \n",
       "3                     0.0                   88561.00                    NaN   \n",
       "4                     0.0                    1256.64  Salaries and benefits   \n",
       "\n",
       "  fund account department  \n",
       "0  100  003040          2  \n",
       "1  564  02PB01          2  \n",
       "2  42J  02R340          2  \n",
       "3  395  02PQ04          2  \n",
       "4  100  001090          2  "
      ]
     },
     "execution_count": 174,
     "metadata": {},
     "output_type": "execute_result"
    }
   ],
   "source": [
    "df.head()"
   ]
  },
  {
   "cell_type": "code",
   "execution_count": 160,
   "metadata": {},
   "outputs": [
    {
     "data": {
      "text/plain": [
       "0        -114050.08\n",
       "1              0.00\n",
       "2          22218.00\n",
       "3         249366.00\n",
       "4          15813.28\n",
       "5              0.00\n",
       "6           4880.00\n",
       "7          35272.00\n",
       "8          70182.00\n",
       "9          11975.20\n",
       "10          6204.42\n",
       "11         32223.36\n",
       "12        186718.00\n",
       "13           746.00\n",
       "14        271790.00\n",
       "15             0.00\n",
       "16        928787.68\n",
       "17          8436.00\n",
       "18          5298.00\n",
       "19         22444.00\n",
       "20        237484.00\n",
       "21         39496.74\n",
       "22             0.00\n",
       "23         79544.00\n",
       "24             0.00\n",
       "25        112848.32\n",
       "26         10526.00\n",
       "27           178.00\n",
       "28        881136.20\n",
       "29          7857.60\n",
       "           ...     \n",
       "3623   -73121120.00\n",
       "3624   -44724700.00\n",
       "3625            NaN\n",
       "3626   -73130000.00\n",
       "3627     -460000.00\n",
       "3628            NaN\n",
       "3629      127867.54\n",
       "3630           0.00\n",
       "3631       61382.12\n",
       "3632      464628.56\n",
       "3633           0.00\n",
       "3634       44148.24\n",
       "3635           6.72\n",
       "3636           0.00\n",
       "3637       30000.00\n",
       "3638        3501.36\n",
       "3639            NaN\n",
       "3640           0.00\n",
       "3641          10.00\n",
       "3642      434560.74\n",
       "3643      151008.72\n",
       "3644      226525.88\n",
       "3645      142749.24\n",
       "3646       39739.88\n",
       "3647       52479.80\n",
       "3648      616313.60\n",
       "3649            NaN\n",
       "3650        7875.50\n",
       "3651       47278.40\n",
       "3652      180147.98\n",
       "Length: 3653, dtype: float64"
      ]
     },
     "execution_count": 160,
     "metadata": {},
     "output_type": "execute_result"
    }
   ],
   "source": [
    "(df['total_budget'] \n",
    " - df['total_expenditures'] \n",
    " + df['budget_transfer_in_amount'] \n",
    " - df['budget_transfer_out_amount'] \n",
    " + df['encumbrance_amount'] \n",
    " + df['budget_uncommitted_amount']\n",
    "#  + df['adopted_budget_amount']\n",
    ")"
   ]
  },
  {
   "cell_type": "code",
   "execution_count": 161,
   "metadata": {},
   "outputs": [],
   "source": [
    "foo = df.loc[0]"
   ]
  },
  {
   "cell_type": "code",
   "execution_count": 165,
   "metadata": {},
   "outputs": [
    {
     "data": {
      "text/plain": [
       "-283775.04000000004"
      ]
     },
     "execution_count": 165,
     "metadata": {},
     "output_type": "execute_result"
    }
   ],
   "source": [
    "foo['total_budget'] - foo['total_expenditures'] - foo['budget_transfer_out_amount']"
   ]
  },
  {
   "cell_type": "code",
   "execution_count": null,
   "metadata": {},
   "outputs": [],
   "source": []
  },
  {
   "cell_type": "code",
   "execution_count": 170,
   "metadata": {},
   "outputs": [
    {
     "data": {
      "text/plain": [
       "9000.0"
      ]
     },
     "execution_count": 170,
     "metadata": {},
     "output_type": "execute_result"
    }
   ],
   "source": [
    "abs(foo['adopted_budget_amount'] - foo['total_budget'] - foo['budget_transfer_out_amount'])"
   ]
  },
  {
   "cell_type": "code",
   "execution_count": 167,
   "metadata": {},
   "outputs": [
    {
     "data": {
      "text/plain": [
       "budget_fiscal_year                                     2018\n",
       "department_name                                       AGING\n",
       "fund_name                     GENERAL FUND (GENERAL BUDGET)\n",
       "account_name                           CONTRACTUAL SERVICES\n",
       "adopted_budget_amount                           2.22238e+06\n",
       "total_expenditures                              1.60816e+06\n",
       "budget_change_amount                                   9000\n",
       "budget_transfer_in_amount                                 0\n",
       "budget_transfer_out_amount                           453500\n",
       "total_budget                                    1.77788e+06\n",
       "encumbrance_amount                                    93331\n",
       "pre_encumbrance_amount                                    0\n",
       "budget_uncommitted_amount                             76394\n",
       "account_group_name                                 Expenses\n",
       "fund                                                    100\n",
       "account                                              003040\n",
       "department                                                2\n",
       "Name: 0, dtype: object"
      ]
     },
     "execution_count": 167,
     "metadata": {},
     "output_type": "execute_result"
    }
   ],
   "source": [
    "foo"
   ]
  },
  {
   "cell_type": "markdown",
   "metadata": {},
   "source": [
    "Missing data\n",
    "Finding missing values\n",
    "Imputing missing data"
   ]
  },
  {
   "cell_type": "code",
   "execution_count": 14,
   "metadata": {},
   "outputs": [
    {
     "data": {
      "text/html": [
       "<div>\n",
       "<style scoped>\n",
       "    .dataframe tbody tr th:only-of-type {\n",
       "        vertical-align: middle;\n",
       "    }\n",
       "\n",
       "    .dataframe tbody tr th {\n",
       "        vertical-align: top;\n",
       "    }\n",
       "\n",
       "    .dataframe thead th {\n",
       "        text-align: right;\n",
       "    }\n",
       "</style>\n",
       "<table border=\"1\" class=\"dataframe\">\n",
       "  <thead>\n",
       "    <tr style=\"text-align: right;\">\n",
       "      <th></th>\n",
       "      <th></th>\n",
       "      <th>account_name</th>\n",
       "    </tr>\n",
       "    <tr>\n",
       "      <th>department_name</th>\n",
       "      <th>department</th>\n",
       "      <th></th>\n",
       "    </tr>\n",
       "  </thead>\n",
       "  <tbody>\n",
       "    <tr>\n",
       "      <th>AGING</th>\n",
       "      <th>2</th>\n",
       "      <td>41</td>\n",
       "    </tr>\n",
       "    <tr>\n",
       "      <th>AIRPORTS</th>\n",
       "      <th>4</th>\n",
       "      <td>16</td>\n",
       "    </tr>\n",
       "    <tr>\n",
       "      <th>ANIMAL SERVICES</th>\n",
       "      <th>6</th>\n",
       "      <td>30</td>\n",
       "    </tr>\n",
       "    <tr>\n",
       "      <th>BUILDING AND SAFETY</th>\n",
       "      <th>8</th>\n",
       "      <td>58</td>\n",
       "    </tr>\n",
       "    <tr>\n",
       "      <th>CANNABIS REGULATION</th>\n",
       "      <th>13</th>\n",
       "      <td>9</td>\n",
       "    </tr>\n",
       "    <tr>\n",
       "      <th>CITY ADMINISTRATIVE OFFICER</th>\n",
       "      <th>10</th>\n",
       "      <td>155</td>\n",
       "    </tr>\n",
       "    <tr>\n",
       "      <th>CITY ATTORNEY</th>\n",
       "      <th>12</th>\n",
       "      <td>56</td>\n",
       "    </tr>\n",
       "    <tr>\n",
       "      <th>CITY CLERK</th>\n",
       "      <th>14</th>\n",
       "      <td>212</td>\n",
       "    </tr>\n",
       "    <tr>\n",
       "      <th>CITY EMPLOYEES RETIREMENT SYSTEM</th>\n",
       "      <th>16</th>\n",
       "      <td>12</td>\n",
       "    </tr>\n",
       "    <tr>\n",
       "      <th>CITY ETHICS COMMISSION</th>\n",
       "      <th>17</th>\n",
       "      <td>10</td>\n",
       "    </tr>\n",
       "    <tr>\n",
       "      <th>CITY PLANNING</th>\n",
       "      <th>68</th>\n",
       "      <td>38</td>\n",
       "    </tr>\n",
       "    <tr>\n",
       "      <th>CONTROLLER</th>\n",
       "      <th>26</th>\n",
       "      <td>10</td>\n",
       "    </tr>\n",
       "    <tr>\n",
       "      <th>COUNCIL</th>\n",
       "      <th>28</th>\n",
       "      <td>25</td>\n",
       "    </tr>\n",
       "    <tr>\n",
       "      <th>CULTURAL AFFAIRS</th>\n",
       "      <th>30</th>\n",
       "      <td>229</td>\n",
       "    </tr>\n",
       "    <tr>\n",
       "      <th>DISABILITY</th>\n",
       "      <th>65</th>\n",
       "      <td>8</td>\n",
       "    </tr>\n",
       "    <tr>\n",
       "      <th>ECONOMIC AND WORKFORCE DEVELOPMENT DEPARTMENT</th>\n",
       "      <th>22</th>\n",
       "      <td>215</td>\n",
       "    </tr>\n",
       "    <tr>\n",
       "      <th>EL PUEBLO DE LOS ANGELES HISTORICAL MONUMENT AUTHORITY</th>\n",
       "      <th>33</th>\n",
       "      <td>19</td>\n",
       "    </tr>\n",
       "    <tr>\n",
       "      <th>EMERGENCY MANAGEMENT</th>\n",
       "      <th>35</th>\n",
       "      <td>8</td>\n",
       "    </tr>\n",
       "    <tr>\n",
       "      <th>EMERGENCY OPERATIONS BOARD</th>\n",
       "      <th>34</th>\n",
       "      <td>8</td>\n",
       "    </tr>\n",
       "    <tr>\n",
       "      <th>EMPLOYEE RELATIONS BOARD</th>\n",
       "      <th>36</th>\n",
       "      <td>6</td>\n",
       "    </tr>\n",
       "    <tr>\n",
       "      <th>FIRE</th>\n",
       "      <th>38</th>\n",
       "      <td>40</td>\n",
       "    </tr>\n",
       "    <tr>\n",
       "      <th>GENERAL SERVICES</th>\n",
       "      <th>40</th>\n",
       "      <td>67</td>\n",
       "    </tr>\n",
       "    <tr>\n",
       "      <th>HARBOR</th>\n",
       "      <th>42</th>\n",
       "      <td>17</td>\n",
       "    </tr>\n",
       "    <tr>\n",
       "      <th>HOUSING AND COMMUNITY INVESTMENT DEPARTMENT</th>\n",
       "      <th>43</th>\n",
       "      <td>288</td>\n",
       "    </tr>\n",
       "    <tr>\n",
       "      <th>INFORMATION TECHNOLOGY AGENCY</th>\n",
       "      <th>32</th>\n",
       "      <td>29</td>\n",
       "    </tr>\n",
       "    <tr>\n",
       "      <th>LIBRARY</th>\n",
       "      <th>44</th>\n",
       "      <td>14</td>\n",
       "    </tr>\n",
       "    <tr>\n",
       "      <th>LOS ANGELES DEPARTMENT OF CONVENTION AND TOURISM DEVELOPMENT</th>\n",
       "      <th>48</th>\n",
       "      <td>18</td>\n",
       "    </tr>\n",
       "    <tr>\n",
       "      <th>MAYOR</th>\n",
       "      <th>46</th>\n",
       "      <td>88</td>\n",
       "    </tr>\n",
       "    <tr>\n",
       "      <th>NEIGHBORHOOD EMPOWERMENT</th>\n",
       "      <th>47</th>\n",
       "      <td>18</td>\n",
       "    </tr>\n",
       "    <tr>\n",
       "      <th>NON-DEPARTMENTAL - APPROPRIATIONS TO SPECIAL PURPOSE FUND</th>\n",
       "      <th>50</th>\n",
       "      <td>680</td>\n",
       "    </tr>\n",
       "    <tr>\n",
       "      <th>NON-DEPARTMENTAL - CAPITAL FINANCE ADMINISTRATION</th>\n",
       "      <th>53</th>\n",
       "      <td>31</td>\n",
       "    </tr>\n",
       "    <tr>\n",
       "      <th>NON-DEPARTMENTAL - CAPITAL IMPROVEMENT EXPENSE PROGRAM</th>\n",
       "      <th>54</th>\n",
       "      <td>71</td>\n",
       "    </tr>\n",
       "    <tr>\n",
       "      <th>NON-DEPARTMENTAL - GENERAL</th>\n",
       "      <th>62</th>\n",
       "      <td>75</td>\n",
       "    </tr>\n",
       "    <tr>\n",
       "      <th>NON-DEPARTMENTAL - GENERAL CITY PURPOSES</th>\n",
       "      <th>56</th>\n",
       "      <td>99</td>\n",
       "    </tr>\n",
       "    <tr>\n",
       "      <th>NON-DEPARTMENTAL - HUMAN RESOURCES BENEFITS</th>\n",
       "      <th>61</th>\n",
       "      <td>25</td>\n",
       "    </tr>\n",
       "    <tr>\n",
       "      <th>NON-DEPARTMENTAL - LIABILITY CLAIMS</th>\n",
       "      <th>59</th>\n",
       "      <td>9</td>\n",
       "    </tr>\n",
       "    <tr>\n",
       "      <th>NON-DEPARTMENTAL - UNAPPROPRIATED BALANCE</th>\n",
       "      <th>58</th>\n",
       "      <td>33</td>\n",
       "    </tr>\n",
       "    <tr>\n",
       "      <th>NON-DEPARTMENTAL - WATER AND ELECTRICITY</th>\n",
       "      <th>60</th>\n",
       "      <td>9</td>\n",
       "    </tr>\n",
       "    <tr>\n",
       "      <th>OFFICE OF FINANCE</th>\n",
       "      <th>39</th>\n",
       "      <td>32</td>\n",
       "    </tr>\n",
       "    <tr>\n",
       "      <th>PENSION</th>\n",
       "      <th>64</th>\n",
       "      <td>31</td>\n",
       "    </tr>\n",
       "    <tr>\n",
       "      <th>PERSONNEL</th>\n",
       "      <th>66</th>\n",
       "      <td>17</td>\n",
       "    </tr>\n",
       "    <tr>\n",
       "      <th>POLICE</th>\n",
       "      <th>70</th>\n",
       "      <td>82</td>\n",
       "    </tr>\n",
       "    <tr>\n",
       "      <th>PUBLIC ACCOUNTABILITY</th>\n",
       "      <th>11</th>\n",
       "      <td>6</td>\n",
       "    </tr>\n",
       "    <tr>\n",
       "      <th>PUBLIC WORKS - BOARD OF PUBLIC WORKS</th>\n",
       "      <th>74</th>\n",
       "      <td>9</td>\n",
       "    </tr>\n",
       "    <tr>\n",
       "      <th>PUBLIC WORKS - CONTRACT ADMINISTRATION</th>\n",
       "      <th>76</th>\n",
       "      <td>11</td>\n",
       "    </tr>\n",
       "    <tr>\n",
       "      <th>PUBLIC WORKS - ENGINEERING</th>\n",
       "      <th>78</th>\n",
       "      <td>15</td>\n",
       "    </tr>\n",
       "    <tr>\n",
       "      <th>PUBLIC WORKS - SANITATION</th>\n",
       "      <th>82</th>\n",
       "      <td>16</td>\n",
       "    </tr>\n",
       "    <tr>\n",
       "      <th>PUBLIC WORKS - STREET LIGHTING</th>\n",
       "      <th>84</th>\n",
       "      <td>14</td>\n",
       "    </tr>\n",
       "    <tr>\n",
       "      <th>PUBLIC WORKS - STREET SERVICES</th>\n",
       "      <th>86</th>\n",
       "      <td>14</td>\n",
       "    </tr>\n",
       "    <tr>\n",
       "      <th>RECREATION AND PARKS</th>\n",
       "      <th>88</th>\n",
       "      <td>92</td>\n",
       "    </tr>\n",
       "    <tr>\n",
       "      <th>RECREATION AND PARKS - SPECIAL ACCOUNTS</th>\n",
       "      <th>89</th>\n",
       "      <td>124</td>\n",
       "    </tr>\n",
       "    <tr>\n",
       "      <th>TRANSPORTATION</th>\n",
       "      <th>94</th>\n",
       "      <td>267</td>\n",
       "    </tr>\n",
       "    <tr>\n",
       "      <th>WATER AND POWER</th>\n",
       "      <th>98</th>\n",
       "      <td>120</td>\n",
       "    </tr>\n",
       "    <tr>\n",
       "      <th>ZOO</th>\n",
       "      <th>87</th>\n",
       "      <td>25</td>\n",
       "    </tr>\n",
       "  </tbody>\n",
       "</table>\n",
       "</div>"
      ],
      "text/plain": [
       "                                                               account_name\n",
       "department_name                                    department              \n",
       "AGING                                              2                     41\n",
       "AIRPORTS                                           4                     16\n",
       "ANIMAL SERVICES                                    6                     30\n",
       "BUILDING AND SAFETY                                8                     58\n",
       "CANNABIS REGULATION                                13                     9\n",
       "CITY ADMINISTRATIVE OFFICER                        10                   155\n",
       "CITY ATTORNEY                                      12                    56\n",
       "CITY CLERK                                         14                   212\n",
       "CITY EMPLOYEES RETIREMENT SYSTEM                   16                    12\n",
       "CITY ETHICS COMMISSION                             17                    10\n",
       "CITY PLANNING                                      68                    38\n",
       "CONTROLLER                                         26                    10\n",
       "COUNCIL                                            28                    25\n",
       "CULTURAL AFFAIRS                                   30                   229\n",
       "DISABILITY                                         65                     8\n",
       "ECONOMIC AND WORKFORCE DEVELOPMENT DEPARTMENT      22                   215\n",
       "EL PUEBLO DE LOS ANGELES HISTORICAL MONUMENT AU... 33                    19\n",
       "EMERGENCY MANAGEMENT                               35                     8\n",
       "EMERGENCY OPERATIONS BOARD                         34                     8\n",
       "EMPLOYEE RELATIONS BOARD                           36                     6\n",
       "FIRE                                               38                    40\n",
       "GENERAL SERVICES                                   40                    67\n",
       "HARBOR                                             42                    17\n",
       "HOUSING AND COMMUNITY INVESTMENT DEPARTMENT        43                   288\n",
       "INFORMATION TECHNOLOGY AGENCY                      32                    29\n",
       "LIBRARY                                            44                    14\n",
       "LOS ANGELES DEPARTMENT OF CONVENTION AND TOURIS... 48                    18\n",
       "MAYOR                                              46                    88\n",
       "NEIGHBORHOOD EMPOWERMENT                           47                    18\n",
       "NON-DEPARTMENTAL - APPROPRIATIONS TO SPECIAL PU... 50                   680\n",
       "NON-DEPARTMENTAL - CAPITAL FINANCE ADMINISTRATION  53                    31\n",
       "NON-DEPARTMENTAL - CAPITAL IMPROVEMENT EXPENSE ... 54                    71\n",
       "NON-DEPARTMENTAL - GENERAL                         62                    75\n",
       "NON-DEPARTMENTAL - GENERAL CITY PURPOSES           56                    99\n",
       "NON-DEPARTMENTAL - HUMAN RESOURCES BENEFITS        61                    25\n",
       "NON-DEPARTMENTAL - LIABILITY CLAIMS                59                     9\n",
       "NON-DEPARTMENTAL - UNAPPROPRIATED BALANCE          58                    33\n",
       "NON-DEPARTMENTAL - WATER AND ELECTRICITY           60                     9\n",
       "OFFICE OF FINANCE                                  39                    32\n",
       "PENSION                                            64                    31\n",
       "PERSONNEL                                          66                    17\n",
       "POLICE                                             70                    82\n",
       "PUBLIC ACCOUNTABILITY                              11                     6\n",
       "PUBLIC WORKS - BOARD OF PUBLIC WORKS               74                     9\n",
       "PUBLIC WORKS - CONTRACT ADMINISTRATION             76                    11\n",
       "PUBLIC WORKS - ENGINEERING                         78                    15\n",
       "PUBLIC WORKS - SANITATION                          82                    16\n",
       "PUBLIC WORKS - STREET LIGHTING                     84                    14\n",
       "PUBLIC WORKS - STREET SERVICES                     86                    14\n",
       "RECREATION AND PARKS                               88                    92\n",
       "RECREATION AND PARKS - SPECIAL ACCOUNTS            89                   124\n",
       "TRANSPORTATION                                     94                   267\n",
       "WATER AND POWER                                    98                   120\n",
       "ZOO                                                87                    25"
      ]
     },
     "execution_count": 14,
     "metadata": {},
     "output_type": "execute_result"
    }
   ],
   "source": [
    "df.groupby(['department_name', 'department'])[['account_name']].count()"
   ]
  },
  {
   "cell_type": "code",
   "execution_count": null,
   "metadata": {},
   "outputs": [],
   "source": []
  }
 ],
 "metadata": {
  "kernelspec": {
   "display_name": "Python 3",
   "language": "python",
   "name": "python3"
  },
  "language_info": {
   "codemirror_mode": {
    "name": "ipython",
    "version": 3
   },
   "file_extension": ".py",
   "mimetype": "text/x-python",
   "name": "python",
   "nbconvert_exporter": "python",
   "pygments_lexer": "ipython3",
   "version": "3.6.8"
  }
 },
 "nbformat": 4,
 "nbformat_minor": 2
}
