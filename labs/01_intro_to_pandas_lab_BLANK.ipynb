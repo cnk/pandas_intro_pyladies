{
 "cells": [
  {
   "cell_type": "markdown",
   "metadata": {},
   "source": [
    "# Introduction to Pandas Lab\n",
    "\n",
    "*Author: [Douglas Strodtman](http://linkedin.com/in/dstrodtman/)*"
   ]
  },
  {
   "cell_type": "markdown",
   "metadata": {},
   "source": [
    "## Lab Overview\n",
    "\n",
    "This lab builds upon the previous lesson. Some of the skills that you'll be demonstrating include:\n",
    "\n",
    "1. Module import\n",
    "1. Data import\n",
    "1. Previewing Data\n",
    "1. Differences between DataFrames and Series\n",
    "1. Selecting rows and columns\n",
    "1. Basic metadata exploration\n",
    "1. Differences between methods and attributes\n",
    "1. Basic methods for categorical data\n",
    "1. Basic methods for numeric data\n",
    "1. Sorting\n",
    "\n",
    "Our primary objective in this lab will be to explore the 2017 budget and expenditures data and confirm whether or not the fields align with the expected values based on the data dictionary (available [here](https://controllerdata.lacity.org/Budget/City-Budget-and-Expenditures/uyzw-yi8n) under \"Columns in this Dataset\")."
   ]
  },
  {
   "cell_type": "markdown",
   "metadata": {},
   "source": [
    "## Module Import\n",
    "\n",
    "Use the below cell to import pandas.\n",
    "\n",
    "(Other modules you might choose to import for data exploration and cleaning include [re](https://docs.python.org/3/library/re.html) and [numpy](https://www.numpy.org/), but these aren't essential to complete this lab.)"
   ]
  },
  {
   "cell_type": "code",
   "execution_count": null,
   "metadata": {},
   "outputs": [],
   "source": []
  },
  {
   "cell_type": "markdown",
   "metadata": {},
   "source": [
    "## Data Import\n",
    "\n",
    "We'll be working with just the 2017 data here. You can run command line operations using the `!` in Jupyter. The following cell will list the names of all files in our `data` directory:"
   ]
  },
  {
   "cell_type": "code",
   "execution_count": null,
   "metadata": {},
   "outputs": [],
   "source": [
    "!ls ../data"
   ]
  },
  {
   "cell_type": "markdown",
   "metadata": {},
   "source": [
    "As this will be the main DataFrame in this notebook, it should be safe to use the variable name `df`."
   ]
  },
  {
   "cell_type": "code",
   "execution_count": null,
   "metadata": {},
   "outputs": [],
   "source": []
  },
  {
   "cell_type": "markdown",
   "metadata": {},
   "source": [
    "## Preview Data\n",
    "\n",
    "Let's start by looking at the first 3 rows of our data to confirm it loaded correctly."
   ]
  },
  {
   "cell_type": "code",
   "execution_count": null,
   "metadata": {},
   "outputs": [],
   "source": []
  },
  {
   "cell_type": "markdown",
   "metadata": {},
   "source": [
    "It's always a good idea to also check the last 3 rows in case there were any parsing errors."
   ]
  },
  {
   "cell_type": "code",
   "execution_count": null,
   "metadata": {},
   "outputs": [],
   "source": []
  },
  {
   "cell_type": "markdown",
   "metadata": {},
   "source": [
    "The data looks as we expect it. It appears that the data was saved out sorted alphabetically by department name."
   ]
  },
  {
   "cell_type": "markdown",
   "metadata": {},
   "source": [
    "## Meta-Data Exploration\n",
    "\n",
    "Let's get an idea of the contents of the 2017 data by exploring some of the meta-data. First, we should get an idea of the number of rows and columns."
   ]
  },
  {
   "cell_type": "code",
   "execution_count": null,
   "metadata": {},
   "outputs": [],
   "source": []
  },
  {
   "cell_type": "markdown",
   "metadata": {},
   "source": [
    "It's also a good idea to check that our data loaded in the expected format by looking at the data types of each column. If you recall, there's a method that provides the names of each column, the number of non-null values, and the type."
   ]
  },
  {
   "cell_type": "code",
   "execution_count": null,
   "metadata": {},
   "outputs": [],
   "source": []
  },
  {
   "cell_type": "markdown",
   "metadata": {},
   "source": [
    "It's always a good idea to record observations along the way. Is there anything unexpected in the above data?"
   ]
  },
  {
   "cell_type": "markdown",
   "metadata": {},
   "source": [
    "Both `total_expenditures` and `account_group_name` have a high number of nulls. The 2 nulls in `account_name` are confounding, especially as there are no nulls in `account`."
   ]
  },
  {
   "cell_type": "markdown",
   "metadata": {},
   "source": [
    "#### Optional \n",
    "Because we're only working with the 2017 data, let's go ahead and drop the `budget_fiscal_year` column. We can also drop the `department` column, as this numeric is redundant with the `department_name`.\n",
    "\n",
    "The docs for `.drop` are [here](https://pandas.pydata.org/pandas-docs/stable/reference/api/pandas.DataFrame.drop.html). \n",
    "\n",
    "**Note**: Leaving these columns in won't negatively impact your ability to complete this lab, but will just retain data you don't really need."
   ]
  },
  {
   "cell_type": "code",
   "execution_count": null,
   "metadata": {},
   "outputs": [],
   "source": []
  },
  {
   "cell_type": "markdown",
   "metadata": {},
   "source": [
    "## Categorical Data"
   ]
  },
  {
   "cell_type": "markdown",
   "metadata": {},
   "source": [
    "Save out a list of all the columns that contain strings."
   ]
  },
  {
   "cell_type": "code",
   "execution_count": null,
   "metadata": {},
   "outputs": [],
   "source": []
  },
  {
   "cell_type": "markdown",
   "metadata": {},
   "source": [
    "Now use that list to return the number of unique values in each column."
   ]
  },
  {
   "cell_type": "code",
   "execution_count": null,
   "metadata": {},
   "outputs": [],
   "source": []
  },
  {
   "cell_type": "markdown",
   "metadata": {},
   "source": [
    "Return the names of the 10 funds that have the most line items in 2017, along with the count."
   ]
  },
  {
   "cell_type": "code",
   "execution_count": null,
   "metadata": {},
   "outputs": [],
   "source": []
  },
  {
   "cell_type": "markdown",
   "metadata": {},
   "source": [
    "Let's save out a list of the name of the funds that appear more than 100 times in our 2017 data. (In this case, you should be able to just use the `.index[:6]` to select the first 6 rows from the previous output)."
   ]
  },
  {
   "cell_type": "code",
   "execution_count": null,
   "metadata": {},
   "outputs": [],
   "source": []
  },
  {
   "cell_type": "code",
   "execution_count": null,
   "metadata": {},
   "outputs": [],
   "source": []
  },
  {
   "cell_type": "markdown",
   "metadata": {},
   "source": [
    "To simplify the rest of our operations, let's limit ourselves to only these 6 funds.\n",
    "\n",
    "We can use `.isin` to create a boolean list that we can pass back to `.loc` to only return those rows that are true. This is often called **masking**.\n",
    "\n",
    "Create a mask by completing the following code:"
   ]
  },
  {
   "cell_type": "code",
   "execution_count": null,
   "metadata": {},
   "outputs": [],
   "source": [
    "mask = df['fund_name'].isin(#your_most_common_funds_list_here)"
   ]
  },
  {
   "cell_type": "markdown",
   "metadata": {},
   "source": [
    "We'll save this as a new DataFrame called `top_funds`.\n",
    "\n",
    "**Note**: We should use `.copy()` here at the end of our assignment to make sure that we've saved out a _new_ DataFrame. While discussions of mutability in Pandas are beyond the scope of this lesson, if you've ever run into warnings like the following:\n",
    "\n",
    "```\n",
    "SettingWithCopyWarning: \n",
    "A value is trying to be set on a copy of a slice from a DataFrame.\n",
    "Try using .loc[row_indexer,col_indexer] = value instead```\n",
    "\n",
    "you can often avoid these by making sure that you're saving out new DataFrame objects with the `.copy()` method."
   ]
  },
  {
   "cell_type": "code",
   "execution_count": null,
   "metadata": {},
   "outputs": [],
   "source": [
    "top_funds = df.loc[mask, :].copy()"
   ]
  },
  {
   "cell_type": "markdown",
   "metadata": {},
   "source": [
    "And then look at the shape:"
   ]
  },
  {
   "cell_type": "code",
   "execution_count": null,
   "metadata": {},
   "outputs": [],
   "source": []
  },
  {
   "cell_type": "markdown",
   "metadata": {},
   "source": [
    "## Numeric Data\n",
    "\n",
    "Let's look at the summary statistics for the numeric columns of our newly created DataFrame."
   ]
  },
  {
   "cell_type": "code",
   "execution_count": null,
   "metadata": {},
   "outputs": [],
   "source": []
  },
  {
   "cell_type": "markdown",
   "metadata": {},
   "source": [
    "Do you notice anything particularly noteworthy at this time? Do these values seem reasonable? **There aren't necessarily correct answers to these questions, but you should always record any observations you make as you explore your data.**"
   ]
  },
  {
   "cell_type": "markdown",
   "metadata": {},
   "source": [
    "Many of our fields have a large number of 0 values, but `pre_encumbrance_amount` is actually all zeroes for this portion of our data."
   ]
  },
  {
   "cell_type": "markdown",
   "metadata": {},
   "source": [
    "#### Select Numeric Columns\n",
    "\n",
    "To be explicit moving forward, let's get a quick list of numeric columns, we'll again use `.select_dtypes` with the keyword `exclude='object'`. We'll just directly access our `.columns` from here."
   ]
  },
  {
   "cell_type": "code",
   "execution_count": null,
   "metadata": {},
   "outputs": [],
   "source": []
  },
  {
   "cell_type": "markdown",
   "metadata": {},
   "source": [
    "Here's a convenient table of the description provided alongside the data for each of these fields:\n",
    "\n",
    "| Column name | Description |\n",
    "| --- | --- |\n",
    "| adopted_budget_amount | Original budget amount adopted by Mayor and Council |\n",
    "| total_expenditures | Total Budget Fiscal Year amount expended from account to date |\n",
    "| budget_change_amount | Amendment to the adopted budget amount |\n",
    "| budget_transfer_in_amount | Increase in appropriation to account by transfer in of funds |\n",
    "| budget_transfer_out_amount | Decrease in appropriation to account by transfer out of funds |\n",
    "| total_budget | Appropriation account amount net of changes and transfers to/from the original budgeted amount |\n",
    "| encumbrance_amount | Obligation or commitment to pay for a good or service |\n",
    "| pre_encumbrance_amount | Anticipated obligation or commitment to pay for a good or service |\n",
    "| budget_uncommitted_amount | Total unused appropriation after expenditures and encumbrances |\n",
    "\n",
    "Let's see if we can identify and seeming discrepancies in the budget."
   ]
  },
  {
   "cell_type": "markdown",
   "metadata": {},
   "source": [
    "#### Total Budget\n",
    "\n",
    "The total budget should be our approved budget plus the changes and transfers in minus the transfers out.\n",
    "\n",
    "Create a new column called `calc_total_budget` with the results of this math."
   ]
  },
  {
   "cell_type": "code",
   "execution_count": null,
   "metadata": {},
   "outputs": [],
   "source": []
  },
  {
   "cell_type": "markdown",
   "metadata": {},
   "source": [
    "You can use the `==` to check equality between two Series. If we enclose this in parenthesis, we can chain pandas methods. Calling `mean` here will give us the percentage of items that have the same reported total budget as the one we calculated."
   ]
  },
  {
   "cell_type": "code",
   "execution_count": null,
   "metadata": {},
   "outputs": [],
   "source": []
  },
  {
   "cell_type": "markdown",
   "metadata": {},
   "source": [
    "This operation suggests that almost 3% of our line items are incorrectly balanced. Let's look into this further.\n",
    "\n",
    "First, we'll set up a new mask (here called `wrong`) to find those rows where these two values aren't identical."
   ]
  },
  {
   "cell_type": "code",
   "execution_count": null,
   "metadata": {},
   "outputs": [],
   "source": []
  },
  {
   "cell_type": "markdown",
   "metadata": {},
   "source": [
    "Because the result of math operations between Series will be a new Series (with the same index), we can pass this mask to the difference between these two columns."
   ]
  },
  {
   "cell_type": "code",
   "execution_count": null,
   "metadata": {},
   "outputs": [],
   "source": []
  },
  {
   "cell_type": "markdown",
   "metadata": {},
   "source": [
    "Look at how _small_ those numbers are. This is one of the imperfect aspects of doing math with computers. **These numbers are all actually zero**; these tiny numbers just represent precision errors the somehow propagated or compounded during our operations."
   ]
  },
  {
   "cell_type": "markdown",
   "metadata": {},
   "source": [
    "#### Budget Uncommitted Amount\n",
    "\n",
    "Now that we've confirmed that our `total_budget` is correct, let's see if we can also confirm our `budget_uncommited_amount`.\n",
    "\n",
    "Is this case, it looks like the calculation will be:\n",
    "\n",
    "`total_budget` - `total_expenditures` - `encumbrance_amount`\n",
    "\n",
    "Let's save this as `calc_uncommitted`."
   ]
  },
  {
   "cell_type": "code",
   "execution_count": null,
   "metadata": {},
   "outputs": [],
   "source": []
  },
  {
   "cell_type": "markdown",
   "metadata": {},
   "source": [
    "You may notice that a number of these values are `NaN`s. Because we had many missing values for `total_expenditures`, these rows cannot be correctly calculated. For now, we'll ignore these. Note that Pandas will (by default) ignore nulls when calculating any aggregate statistics.\n",
    "\n",
    "Given the floating point error that we saw in our last series of calculations, let's check for mismatches differently. We'll build up this check one step at a time.\n",
    "\n",
    "First, let's get the difference of our calculation and the provided value for the `budget_uncommitted_amount`."
   ]
  },
  {
   "cell_type": "code",
   "execution_count": null,
   "metadata": {},
   "outputs": [],
   "source": []
  },
  {
   "cell_type": "markdown",
   "metadata": {},
   "source": [
    "From this preview, we'll see both `NaN`s and some very small non-zero values. \n",
    "\n",
    "Let's get rid of the sign of these non-zero values by enclosing our previous command in parentheses and calling `.abs()` to return the absolute value."
   ]
  },
  {
   "cell_type": "code",
   "execution_count": null,
   "metadata": {},
   "outputs": [],
   "source": []
  },
  {
   "cell_type": "markdown",
   "metadata": {},
   "source": [
    "Because we've eliminated the sign of these differences, we can now use a simple predicate to check if they are meaningful; in this case, a true difference would be greater than 1 cent.\n",
    "\n",
    "We can do this by just adding `> .01` to the end of our previous call."
   ]
  },
  {
   "cell_type": "code",
   "execution_count": null,
   "metadata": {},
   "outputs": [],
   "source": []
  },
  {
   "cell_type": "markdown",
   "metadata": {},
   "source": [
    "This returns a boolean Series. We can use this to mask our DataFrame, but we can also simple enclose it in parentheses and call `.sum()` to get the total number of non-zero differences."
   ]
  },
  {
   "cell_type": "code",
   "execution_count": null,
   "metadata": {},
   "outputs": [],
   "source": []
  },
  {
   "cell_type": "markdown",
   "metadata": {},
   "source": [
    "We see that we have two differences of more than a cent.\n",
    "\n",
    "While we could have saved our mask out to an intermediate variable, here we'll show passing it directly back to our DataFrame to manually review the contents of these two rows."
   ]
  },
  {
   "cell_type": "code",
   "execution_count": null,
   "metadata": {},
   "outputs": [],
   "source": []
  },
  {
   "cell_type": "markdown",
   "metadata": {},
   "source": [
    "While one of these reported values is only off by a couple hundred dollars, the other is almost \\$50k off. We'll keep this in mind as we complete our final calculation."
   ]
  },
  {
   "cell_type": "markdown",
   "metadata": {},
   "source": [
    "#### Expected Expenditures\n",
    "\n",
    "The fact that so many of our line items have not reported their expenditures more than a year later is concerning. While we cannot know these values for sure, assuming that the rest of our reported values are correct we can calculated the expected amounts.\n",
    "\n",
    "Rework our most recent calculation to create our new column `expected_expenditures`."
   ]
  },
  {
   "cell_type": "code",
   "execution_count": null,
   "metadata": {},
   "outputs": [],
   "source": []
  },
  {
   "cell_type": "markdown",
   "metadata": {},
   "source": [
    "Let's check if any of these are less than 0 to make sure we don't have any negative amounts."
   ]
  },
  {
   "cell_type": "code",
   "execution_count": null,
   "metadata": {},
   "outputs": [],
   "source": []
  },
  {
   "cell_type": "markdown",
   "metadata": {},
   "source": [
    "And then we'll also check if any of these are less than 1 (again, this is in part to avoid reporting on floating point errors)."
   ]
  },
  {
   "cell_type": "code",
   "execution_count": null,
   "metadata": {},
   "outputs": [],
   "source": []
  },
  {
   "cell_type": "markdown",
   "metadata": {},
   "source": [
    "We see a large number of entries here. Let's compare this to the number of nulls in our provided expenditures column."
   ]
  },
  {
   "cell_type": "code",
   "execution_count": null,
   "metadata": {},
   "outputs": [],
   "source": []
  },
  {
   "cell_type": "markdown",
   "metadata": {},
   "source": [
    "We see that these counts are almost identical.\n",
    "\n",
    "Do you feel it's safe to conclude that these accounts had now expenditures in 2017? What further investigations might you be able to conduct on the data to bolster your claims or conclusions?"
   ]
  },
  {
   "cell_type": "markdown",
   "metadata": {},
   "source": [
    "## Conclusion\n",
    "\n",
    "Solution code has been provided for all the cells above. We will continue our investigations of this data during the following 2 lessons and labs."
   ]
  }
 ],
 "metadata": {
  "kernelspec": {
   "display_name": "Python 3",
   "language": "python",
   "name": "python3"
  },
  "language_info": {
   "codemirror_mode": {
    "name": "ipython",
    "version": 3
   },
   "file_extension": ".py",
   "mimetype": "text/x-python",
   "name": "python",
   "nbconvert_exporter": "python",
   "pygments_lexer": "ipython3",
   "version": "3.6.8"
  }
 },
 "nbformat": 4,
 "nbformat_minor": 2
}
