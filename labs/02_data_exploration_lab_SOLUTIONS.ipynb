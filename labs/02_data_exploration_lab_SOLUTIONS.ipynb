{
 "cells": [
  {
   "cell_type": "markdown",
   "metadata": {},
   "source": [
    "# Data Exploration Lab\n",
    "*Author: [Douglas Strodtman](http://linkedin.com/in/dstrodtman/)*\n",
    "\n"
   ]
  },
  {
   "cell_type": "markdown",
   "metadata": {},
   "source": [
    "This lab is much less structured that the previous lab, but solution code has been provided.\n",
    "\n",
    "Your objective will be to continue working with the data from the previous lesson to answer the following questions:\n",
    "\n",
    "## Key Objectives\n",
    "\n",
    "- Which department had the most line item entries each year?\n",
    "- Which department had the highest total expenditures each year?\n",
    "- Which fund had the highest budget allocation each year?\n",
    "- What percentage of money from the general fund was allocated to different departments each year?\n",
    "- Which departments saw the largest budget increase and decrease from 2017 to 2018?\n",
    "\n",
    "To answer these questions, you'll demonstrate the following skills:\n",
    "\n",
    "## Skills Covered\n",
    "1. Module import\n",
    "1. Data import\n",
    "1. Masking\n",
    "1. Sorting\n",
    "1. Summary Statistics\n",
    "1. `groupby` and Aggregation\n",
    "1. Pivot Tables\n",
    "\n"
   ]
  },
  {
   "cell_type": "markdown",
   "metadata": {},
   "source": [
    "## Module Import\n",
    "Start off by importing pandas."
   ]
  },
  {
   "cell_type": "code",
   "execution_count": 2,
   "metadata": {},
   "outputs": [],
   "source": [
    "import pandas as pd"
   ]
  },
  {
   "cell_type": "markdown",
   "metadata": {},
   "source": [
    "## Data Import\n",
    "Load the data we cleaned in the last lesson."
   ]
  },
  {
   "cell_type": "code",
   "execution_count": 3,
   "metadata": {},
   "outputs": [],
   "source": [
    "df = pd.read_csv('../data/clean1718.csv')"
   ]
  },
  {
   "cell_type": "markdown",
   "metadata": {},
   "source": [
    "Always check that your data loaded as expected."
   ]
  },
  {
   "cell_type": "code",
   "execution_count": 4,
   "metadata": {},
   "outputs": [
    {
     "data": {
      "text/html": [
       "<div>\n",
       "<style scoped>\n",
       "    .dataframe tbody tr th:only-of-type {\n",
       "        vertical-align: middle;\n",
       "    }\n",
       "\n",
       "    .dataframe tbody tr th {\n",
       "        vertical-align: top;\n",
       "    }\n",
       "\n",
       "    .dataframe thead th {\n",
       "        text-align: right;\n",
       "    }\n",
       "</style>\n",
       "<table border=\"1\" class=\"dataframe\">\n",
       "  <thead>\n",
       "    <tr style=\"text-align: right;\">\n",
       "      <th></th>\n",
       "      <th>budget_fiscal_year</th>\n",
       "      <th>department_name</th>\n",
       "      <th>fund_name</th>\n",
       "      <th>account_name</th>\n",
       "      <th>adopted_budget_amount</th>\n",
       "      <th>total_expenditures</th>\n",
       "      <th>budget_change_amount</th>\n",
       "      <th>budget_transfer_in_amount</th>\n",
       "      <th>budget_transfer_out_amount</th>\n",
       "      <th>total_budget</th>\n",
       "      <th>encumbrance_amount</th>\n",
       "      <th>pre_encumbrance_amount</th>\n",
       "      <th>budget_uncommitted_amount</th>\n",
       "      <th>account_group_name</th>\n",
       "      <th>fund</th>\n",
       "      <th>account</th>\n",
       "      <th>department</th>\n",
       "    </tr>\n",
       "  </thead>\n",
       "  <tbody>\n",
       "    <tr>\n",
       "      <th>0</th>\n",
       "      <td>2018</td>\n",
       "      <td>AGING</td>\n",
       "      <td>GENERAL FUND (GENERAL BUDGET)</td>\n",
       "      <td>CONTRACTUAL SERVICES</td>\n",
       "      <td>2222382.0</td>\n",
       "      <td>1608157.04</td>\n",
       "      <td>9000.0</td>\n",
       "      <td>0.0</td>\n",
       "      <td>453500.0</td>\n",
       "      <td>1777882.0</td>\n",
       "      <td>93331.0</td>\n",
       "      <td>0.0</td>\n",
       "      <td>76393.96</td>\n",
       "      <td>EXPENSES</td>\n",
       "      <td>100</td>\n",
       "      <td>003040</td>\n",
       "      <td>2</td>\n",
       "    </tr>\n",
       "    <tr>\n",
       "      <th>1</th>\n",
       "      <td>2018</td>\n",
       "      <td>AGING</td>\n",
       "      <td>TITLE VII OLDER AMERICANS ACT</td>\n",
       "      <td>OMBUDSMAN VII A PROGRAM</td>\n",
       "      <td>0.0</td>\n",
       "      <td>87876.00</td>\n",
       "      <td>87876.0</td>\n",
       "      <td>0.0</td>\n",
       "      <td>0.0</td>\n",
       "      <td>87876.0</td>\n",
       "      <td>0.0</td>\n",
       "      <td>0.0</td>\n",
       "      <td>0.00</td>\n",
       "      <td>UNSPECIFIED</td>\n",
       "      <td>564</td>\n",
       "      <td>02PB01</td>\n",
       "      <td>2</td>\n",
       "    </tr>\n",
       "    <tr>\n",
       "      <th>2</th>\n",
       "      <td>2018</td>\n",
       "      <td>AGING</td>\n",
       "      <td>SENIOR HUMAN SERVICES PROGRAM</td>\n",
       "      <td>EVIDENCE BASED PROGRAMS</td>\n",
       "      <td>0.0</td>\n",
       "      <td>292338.00</td>\n",
       "      <td>303447.0</td>\n",
       "      <td>0.0</td>\n",
       "      <td>0.0</td>\n",
       "      <td>303447.0</td>\n",
       "      <td>11109.0</td>\n",
       "      <td>0.0</td>\n",
       "      <td>0.00</td>\n",
       "      <td>UNSPECIFIED</td>\n",
       "      <td>42J</td>\n",
       "      <td>02R340</td>\n",
       "      <td>2</td>\n",
       "    </tr>\n",
       "    <tr>\n",
       "      <th>3</th>\n",
       "      <td>2018</td>\n",
       "      <td>AGING</td>\n",
       "      <td>AREA PLAN FOR THE AGING TIT 7</td>\n",
       "      <td>HOME DELIVERED MEALS FOR SENIORS</td>\n",
       "      <td>0.0</td>\n",
       "      <td>2419162.00</td>\n",
       "      <td>2543845.0</td>\n",
       "      <td>0.0</td>\n",
       "      <td>0.0</td>\n",
       "      <td>2543845.0</td>\n",
       "      <td>36122.0</td>\n",
       "      <td>0.0</td>\n",
       "      <td>88561.00</td>\n",
       "      <td>UNSPECIFIED</td>\n",
       "      <td>395</td>\n",
       "      <td>02PQ04</td>\n",
       "      <td>2</td>\n",
       "    </tr>\n",
       "    <tr>\n",
       "      <th>4</th>\n",
       "      <td>2018</td>\n",
       "      <td>AGING</td>\n",
       "      <td>GENERAL FUND (GENERAL BUDGET)</td>\n",
       "      <td>OVERTIME GENERAL</td>\n",
       "      <td>3900.0</td>\n",
       "      <td>15943.36</td>\n",
       "      <td>0.0</td>\n",
       "      <td>13300.0</td>\n",
       "      <td>0.0</td>\n",
       "      <td>17200.0</td>\n",
       "      <td>0.0</td>\n",
       "      <td>0.0</td>\n",
       "      <td>1256.64</td>\n",
       "      <td>SALARIES AND BENEFITS</td>\n",
       "      <td>100</td>\n",
       "      <td>001090</td>\n",
       "      <td>2</td>\n",
       "    </tr>\n",
       "  </tbody>\n",
       "</table>\n",
       "</div>"
      ],
      "text/plain": [
       "   budget_fiscal_year department_name                      fund_name  \\\n",
       "0                2018           AGING  GENERAL FUND (GENERAL BUDGET)   \n",
       "1                2018           AGING  TITLE VII OLDER AMERICANS ACT   \n",
       "2                2018           AGING  SENIOR HUMAN SERVICES PROGRAM   \n",
       "3                2018           AGING  AREA PLAN FOR THE AGING TIT 7   \n",
       "4                2018           AGING  GENERAL FUND (GENERAL BUDGET)   \n",
       "\n",
       "                       account_name  adopted_budget_amount  \\\n",
       "0              CONTRACTUAL SERVICES              2222382.0   \n",
       "1           OMBUDSMAN VII A PROGRAM                    0.0   \n",
       "2           EVIDENCE BASED PROGRAMS                    0.0   \n",
       "3  HOME DELIVERED MEALS FOR SENIORS                    0.0   \n",
       "4                  OVERTIME GENERAL                 3900.0   \n",
       "\n",
       "   total_expenditures  budget_change_amount  budget_transfer_in_amount  \\\n",
       "0          1608157.04                9000.0                        0.0   \n",
       "1            87876.00               87876.0                        0.0   \n",
       "2           292338.00              303447.0                        0.0   \n",
       "3          2419162.00             2543845.0                        0.0   \n",
       "4            15943.36                   0.0                    13300.0   \n",
       "\n",
       "   budget_transfer_out_amount  total_budget  encumbrance_amount  \\\n",
       "0                    453500.0     1777882.0             93331.0   \n",
       "1                         0.0       87876.0                 0.0   \n",
       "2                         0.0      303447.0             11109.0   \n",
       "3                         0.0     2543845.0             36122.0   \n",
       "4                         0.0       17200.0                 0.0   \n",
       "\n",
       "   pre_encumbrance_amount  budget_uncommitted_amount     account_group_name  \\\n",
       "0                     0.0                   76393.96               EXPENSES   \n",
       "1                     0.0                       0.00            UNSPECIFIED   \n",
       "2                     0.0                       0.00            UNSPECIFIED   \n",
       "3                     0.0                   88561.00            UNSPECIFIED   \n",
       "4                     0.0                    1256.64  SALARIES AND BENEFITS   \n",
       "\n",
       "  fund account  department  \n",
       "0  100  003040           2  \n",
       "1  564  02PB01           2  \n",
       "2  42J  02R340           2  \n",
       "3  395  02PQ04           2  \n",
       "4  100  001090           2  "
      ]
     },
     "execution_count": 4,
     "metadata": {},
     "output_type": "execute_result"
    }
   ],
   "source": [
    "df.head()"
   ]
  },
  {
   "cell_type": "markdown",
   "metadata": {},
   "source": [
    "Great! Everything is loaded successfully. Let's get right into our questions."
   ]
  },
  {
   "cell_type": "markdown",
   "metadata": {},
   "source": [
    "## Which department had the most line item entries each year?\n",
    "\n",
    "Let's do a pivot table."
   ]
  },
  {
   "cell_type": "code",
   "execution_count": 10,
   "metadata": {},
   "outputs": [],
   "source": [
    "dept_by_year = df.pivot_table(values='fund_name', index='department_name', columns='budget_fiscal_year', aggfunc='count')"
   ]
  },
  {
   "cell_type": "code",
   "execution_count": 15,
   "metadata": {},
   "outputs": [
    {
     "data": {
      "text/html": [
       "<div>\n",
       "<style scoped>\n",
       "    .dataframe tbody tr th:only-of-type {\n",
       "        vertical-align: middle;\n",
       "    }\n",
       "\n",
       "    .dataframe tbody tr th {\n",
       "        vertical-align: top;\n",
       "    }\n",
       "\n",
       "    .dataframe thead th {\n",
       "        text-align: right;\n",
       "    }\n",
       "</style>\n",
       "<table border=\"1\" class=\"dataframe\">\n",
       "  <thead>\n",
       "    <tr style=\"text-align: right;\">\n",
       "      <th>budget_fiscal_year</th>\n",
       "      <th>2017</th>\n",
       "      <th>2018</th>\n",
       "    </tr>\n",
       "    <tr>\n",
       "      <th>department_name</th>\n",
       "      <th></th>\n",
       "      <th></th>\n",
       "    </tr>\n",
       "  </thead>\n",
       "  <tbody>\n",
       "    <tr>\n",
       "      <th>NON-DEPARTMENTAL - APPROPRIATIONS TO SPECIAL PURPOSE FUND</th>\n",
       "      <td>634.0</td>\n",
       "      <td>680.0</td>\n",
       "    </tr>\n",
       "    <tr>\n",
       "      <th>HOUSING AND COMMUNITY INVESTMENT DEPARTMENT</th>\n",
       "      <td>279.0</td>\n",
       "      <td>288.0</td>\n",
       "    </tr>\n",
       "    <tr>\n",
       "      <th>RECREATION AND PARKS</th>\n",
       "      <td>269.0</td>\n",
       "      <td>92.0</td>\n",
       "    </tr>\n",
       "    <tr>\n",
       "      <th>TRANSPORTATION</th>\n",
       "      <td>225.0</td>\n",
       "      <td>267.0</td>\n",
       "    </tr>\n",
       "    <tr>\n",
       "      <th>CULTURAL AFFAIRS</th>\n",
       "      <td>200.0</td>\n",
       "      <td>229.0</td>\n",
       "    </tr>\n",
       "  </tbody>\n",
       "</table>\n",
       "</div>"
      ],
      "text/plain": [
       "budget_fiscal_year                                   2017   2018\n",
       "department_name                                                 \n",
       "NON-DEPARTMENTAL - APPROPRIATIONS TO SPECIAL PU...  634.0  680.0\n",
       "HOUSING AND COMMUNITY INVESTMENT DEPARTMENT         279.0  288.0\n",
       "RECREATION AND PARKS                                269.0   92.0\n",
       "TRANSPORTATION                                      225.0  267.0\n",
       "CULTURAL AFFAIRS                                    200.0  229.0"
      ]
     },
     "execution_count": 15,
     "metadata": {},
     "output_type": "execute_result"
    }
   ],
   "source": [
    "dept_by_year.sort_values(2017, ascending=False).head()"
   ]
  },
  {
   "cell_type": "code",
   "execution_count": 16,
   "metadata": {},
   "outputs": [
    {
     "data": {
      "text/html": [
       "<div>\n",
       "<style scoped>\n",
       "    .dataframe tbody tr th:only-of-type {\n",
       "        vertical-align: middle;\n",
       "    }\n",
       "\n",
       "    .dataframe tbody tr th {\n",
       "        vertical-align: top;\n",
       "    }\n",
       "\n",
       "    .dataframe thead th {\n",
       "        text-align: right;\n",
       "    }\n",
       "</style>\n",
       "<table border=\"1\" class=\"dataframe\">\n",
       "  <thead>\n",
       "    <tr style=\"text-align: right;\">\n",
       "      <th>budget_fiscal_year</th>\n",
       "      <th>2017</th>\n",
       "      <th>2018</th>\n",
       "    </tr>\n",
       "    <tr>\n",
       "      <th>department_name</th>\n",
       "      <th></th>\n",
       "      <th></th>\n",
       "    </tr>\n",
       "  </thead>\n",
       "  <tbody>\n",
       "    <tr>\n",
       "      <th>NON-DEPARTMENTAL - APPROPRIATIONS TO SPECIAL PURPOSE FUND</th>\n",
       "      <td>634.0</td>\n",
       "      <td>680.0</td>\n",
       "    </tr>\n",
       "    <tr>\n",
       "      <th>HOUSING AND COMMUNITY INVESTMENT DEPARTMENT</th>\n",
       "      <td>279.0</td>\n",
       "      <td>288.0</td>\n",
       "    </tr>\n",
       "    <tr>\n",
       "      <th>TRANSPORTATION</th>\n",
       "      <td>225.0</td>\n",
       "      <td>267.0</td>\n",
       "    </tr>\n",
       "    <tr>\n",
       "      <th>CULTURAL AFFAIRS</th>\n",
       "      <td>200.0</td>\n",
       "      <td>229.0</td>\n",
       "    </tr>\n",
       "    <tr>\n",
       "      <th>ECONOMIC AND WORKFORCE DEVELOPMENT DEPARTMENT</th>\n",
       "      <td>148.0</td>\n",
       "      <td>215.0</td>\n",
       "    </tr>\n",
       "  </tbody>\n",
       "</table>\n",
       "</div>"
      ],
      "text/plain": [
       "budget_fiscal_year                                   2017   2018\n",
       "department_name                                                 \n",
       "NON-DEPARTMENTAL - APPROPRIATIONS TO SPECIAL PU...  634.0  680.0\n",
       "HOUSING AND COMMUNITY INVESTMENT DEPARTMENT         279.0  288.0\n",
       "TRANSPORTATION                                      225.0  267.0\n",
       "CULTURAL AFFAIRS                                    200.0  229.0\n",
       "ECONOMIC AND WORKFORCE DEVELOPMENT DEPARTMENT       148.0  215.0"
      ]
     },
     "execution_count": 16,
     "metadata": {},
     "output_type": "execute_result"
    }
   ],
   "source": [
    "dept_by_year.sort_values(2018, ascending=False).head()"
   ]
  },
  {
   "cell_type": "markdown",
   "metadata": {},
   "source": [
    "We note that in both 2017 and 2018, the top entry is for `NON-DEPARTMENTAL - APPROPRIATIONS TO SPECIAL PURPOSE FUND`, and the top department is `HOUSING AND COMMUNITY INVESTMENT DEPARTMENT`. Even from just looking at the first few rows, we can see that the total number of line items from year-to-year vary greatly in some departments."
   ]
  },
  {
   "cell_type": "markdown",
   "metadata": {},
   "source": [
    "## Which department had the highest total expenditures each year?\n",
    "\n",
    "Again, we can complete this easily with a pivot table. While we have some nulls in our feature of interest, Pandas defaults to ignoring `NaN`s when doing aggregate summing."
   ]
  },
  {
   "cell_type": "code",
   "execution_count": 18,
   "metadata": {},
   "outputs": [],
   "source": [
    "dept_exp_by_year = df.pivot_table(values='total_expenditures', index='department_name', columns='budget_fiscal_year', aggfunc='sum')"
   ]
  },
  {
   "cell_type": "code",
   "execution_count": 22,
   "metadata": {},
   "outputs": [
    {
     "data": {
      "text/html": [
       "<div>\n",
       "<style scoped>\n",
       "    .dataframe tbody tr th:only-of-type {\n",
       "        vertical-align: middle;\n",
       "    }\n",
       "\n",
       "    .dataframe tbody tr th {\n",
       "        vertical-align: top;\n",
       "    }\n",
       "\n",
       "    .dataframe thead th {\n",
       "        text-align: right;\n",
       "    }\n",
       "</style>\n",
       "<table border=\"1\" class=\"dataframe\">\n",
       "  <thead>\n",
       "    <tr style=\"text-align: right;\">\n",
       "      <th>budget_fiscal_year</th>\n",
       "      <th>2017</th>\n",
       "      <th>2018</th>\n",
       "    </tr>\n",
       "    <tr>\n",
       "      <th>department_name</th>\n",
       "      <th></th>\n",
       "      <th></th>\n",
       "    </tr>\n",
       "  </thead>\n",
       "  <tbody>\n",
       "    <tr>\n",
       "      <th>WATER AND POWER</th>\n",
       "      <td>1.187958e+10</td>\n",
       "      <td>1.238769e+10</td>\n",
       "    </tr>\n",
       "    <tr>\n",
       "      <th>NON-DEPARTMENTAL - GENERAL</th>\n",
       "      <td>3.301247e+09</td>\n",
       "      <td>3.205671e+09</td>\n",
       "    </tr>\n",
       "    <tr>\n",
       "      <th>AIRPORTS</th>\n",
       "      <td>2.279062e+09</td>\n",
       "      <td>2.557433e+09</td>\n",
       "    </tr>\n",
       "    <tr>\n",
       "      <th>NON-DEPARTMENTAL - APPROPRIATIONS TO SPECIAL PURPOSE FUND</th>\n",
       "      <td>2.204217e+09</td>\n",
       "      <td>2.138851e+09</td>\n",
       "    </tr>\n",
       "    <tr>\n",
       "      <th>CITY ADMINISTRATIVE OFFICER</th>\n",
       "      <td>1.608958e+09</td>\n",
       "      <td>1.571461e+09</td>\n",
       "    </tr>\n",
       "    <tr>\n",
       "      <th>POLICE</th>\n",
       "      <td>1.537512e+09</td>\n",
       "      <td>1.629703e+09</td>\n",
       "    </tr>\n",
       "    <tr>\n",
       "      <th>NON-DEPARTMENTAL - HUMAN RESOURCES BENEFITS</th>\n",
       "      <td>1.004960e+09</td>\n",
       "      <td>1.071313e+09</td>\n",
       "    </tr>\n",
       "    <tr>\n",
       "      <th>CITY EMPLOYEES RETIREMENT SYSTEM</th>\n",
       "      <td>9.445124e+08</td>\n",
       "      <td>1.004783e+09</td>\n",
       "    </tr>\n",
       "    <tr>\n",
       "      <th>FIRE</th>\n",
       "      <td>6.906339e+08</td>\n",
       "      <td>7.362886e+08</td>\n",
       "    </tr>\n",
       "    <tr>\n",
       "      <th>TRANSPORTATION</th>\n",
       "      <td>4.723171e+08</td>\n",
       "      <td>5.355599e+08</td>\n",
       "    </tr>\n",
       "  </tbody>\n",
       "</table>\n",
       "</div>"
      ],
      "text/plain": [
       "budget_fiscal_year                                          2017          2018\n",
       "department_name                                                               \n",
       "WATER AND POWER                                     1.187958e+10  1.238769e+10\n",
       "NON-DEPARTMENTAL - GENERAL                          3.301247e+09  3.205671e+09\n",
       "AIRPORTS                                            2.279062e+09  2.557433e+09\n",
       "NON-DEPARTMENTAL - APPROPRIATIONS TO SPECIAL PU...  2.204217e+09  2.138851e+09\n",
       "CITY ADMINISTRATIVE OFFICER                         1.608958e+09  1.571461e+09\n",
       "POLICE                                              1.537512e+09  1.629703e+09\n",
       "NON-DEPARTMENTAL - HUMAN RESOURCES BENEFITS         1.004960e+09  1.071313e+09\n",
       "CITY EMPLOYEES RETIREMENT SYSTEM                    9.445124e+08  1.004783e+09\n",
       "FIRE                                                6.906339e+08  7.362886e+08\n",
       "TRANSPORTATION                                      4.723171e+08  5.355599e+08"
      ]
     },
     "execution_count": 22,
     "metadata": {},
     "output_type": "execute_result"
    }
   ],
   "source": [
    "dept_exp_by_year.sort_values(2017, ascending=False).head(10)"
   ]
  },
  {
   "cell_type": "code",
   "execution_count": 23,
   "metadata": {},
   "outputs": [
    {
     "data": {
      "text/html": [
       "<div>\n",
       "<style scoped>\n",
       "    .dataframe tbody tr th:only-of-type {\n",
       "        vertical-align: middle;\n",
       "    }\n",
       "\n",
       "    .dataframe tbody tr th {\n",
       "        vertical-align: top;\n",
       "    }\n",
       "\n",
       "    .dataframe thead th {\n",
       "        text-align: right;\n",
       "    }\n",
       "</style>\n",
       "<table border=\"1\" class=\"dataframe\">\n",
       "  <thead>\n",
       "    <tr style=\"text-align: right;\">\n",
       "      <th>budget_fiscal_year</th>\n",
       "      <th>2017</th>\n",
       "      <th>2018</th>\n",
       "    </tr>\n",
       "    <tr>\n",
       "      <th>department_name</th>\n",
       "      <th></th>\n",
       "      <th></th>\n",
       "    </tr>\n",
       "  </thead>\n",
       "  <tbody>\n",
       "    <tr>\n",
       "      <th>WATER AND POWER</th>\n",
       "      <td>1.187958e+10</td>\n",
       "      <td>1.238769e+10</td>\n",
       "    </tr>\n",
       "    <tr>\n",
       "      <th>NON-DEPARTMENTAL - GENERAL</th>\n",
       "      <td>3.301247e+09</td>\n",
       "      <td>3.205671e+09</td>\n",
       "    </tr>\n",
       "    <tr>\n",
       "      <th>AIRPORTS</th>\n",
       "      <td>2.279062e+09</td>\n",
       "      <td>2.557433e+09</td>\n",
       "    </tr>\n",
       "    <tr>\n",
       "      <th>NON-DEPARTMENTAL - APPROPRIATIONS TO SPECIAL PURPOSE FUND</th>\n",
       "      <td>2.204217e+09</td>\n",
       "      <td>2.138851e+09</td>\n",
       "    </tr>\n",
       "    <tr>\n",
       "      <th>POLICE</th>\n",
       "      <td>1.537512e+09</td>\n",
       "      <td>1.629703e+09</td>\n",
       "    </tr>\n",
       "    <tr>\n",
       "      <th>CITY ADMINISTRATIVE OFFICER</th>\n",
       "      <td>1.608958e+09</td>\n",
       "      <td>1.571461e+09</td>\n",
       "    </tr>\n",
       "    <tr>\n",
       "      <th>NON-DEPARTMENTAL - HUMAN RESOURCES BENEFITS</th>\n",
       "      <td>1.004960e+09</td>\n",
       "      <td>1.071313e+09</td>\n",
       "    </tr>\n",
       "    <tr>\n",
       "      <th>CITY EMPLOYEES RETIREMENT SYSTEM</th>\n",
       "      <td>9.445124e+08</td>\n",
       "      <td>1.004783e+09</td>\n",
       "    </tr>\n",
       "    <tr>\n",
       "      <th>FIRE</th>\n",
       "      <td>6.906339e+08</td>\n",
       "      <td>7.362886e+08</td>\n",
       "    </tr>\n",
       "    <tr>\n",
       "      <th>TRANSPORTATION</th>\n",
       "      <td>4.723171e+08</td>\n",
       "      <td>5.355599e+08</td>\n",
       "    </tr>\n",
       "  </tbody>\n",
       "</table>\n",
       "</div>"
      ],
      "text/plain": [
       "budget_fiscal_year                                          2017          2018\n",
       "department_name                                                               \n",
       "WATER AND POWER                                     1.187958e+10  1.238769e+10\n",
       "NON-DEPARTMENTAL - GENERAL                          3.301247e+09  3.205671e+09\n",
       "AIRPORTS                                            2.279062e+09  2.557433e+09\n",
       "NON-DEPARTMENTAL - APPROPRIATIONS TO SPECIAL PU...  2.204217e+09  2.138851e+09\n",
       "POLICE                                              1.537512e+09  1.629703e+09\n",
       "CITY ADMINISTRATIVE OFFICER                         1.608958e+09  1.571461e+09\n",
       "NON-DEPARTMENTAL - HUMAN RESOURCES BENEFITS         1.004960e+09  1.071313e+09\n",
       "CITY EMPLOYEES RETIREMENT SYSTEM                    9.445124e+08  1.004783e+09\n",
       "FIRE                                                6.906339e+08  7.362886e+08\n",
       "TRANSPORTATION                                      4.723171e+08  5.355599e+08"
      ]
     },
     "execution_count": 23,
     "metadata": {},
     "output_type": "execute_result"
    }
   ],
   "source": [
    "dept_exp_by_year.sort_values(2018, ascending=False).head(10)"
   ]
  },
  {
   "cell_type": "markdown",
   "metadata": {},
   "source": [
    "Here, if we look at the top 10 departments, we see that they are relatively steady year-to-year (with only the 5th and 6th ranked departments trading places), with `WATER AND POWER` leading the way."
   ]
  },
  {
   "cell_type": "markdown",
   "metadata": {},
   "source": [
    "## Which fund had the highest budget allocation each year?\n",
    "\n",
    "While I could use another pivot table, here I'll mask by year and then use `groupby`."
   ]
  },
  {
   "cell_type": "code",
   "execution_count": 24,
   "metadata": {},
   "outputs": [],
   "source": [
    "mask_2017 = df['budget_fiscal_year']==2017\n",
    "mask_2018 = df['budget_fiscal_year']==2018"
   ]
  },
  {
   "cell_type": "code",
   "execution_count": 29,
   "metadata": {},
   "outputs": [
    {
     "data": {
      "text/plain": [
       "fund_name\n",
       "GENERAL FUND (GENERAL BUDGET)     6.902082e+09\n",
       "TX REV ANTICIP NOTE PROC          1.490473e+09\n",
       "TX REV ANTICIP NOTE DEBT          1.485729e+09\n",
       "CITY EMPLOYEES RETIREMENT         1.034919e+09\n",
       "SEWER CONSTRUCTION&MAINTENANCE    6.872104e+08\n",
       "FIRE & POLICE TIER 5 SERVICE P    3.806500e+08\n",
       "FIRE & POLICE TIER 2 GENERAL P    3.760731e+08\n",
       "SOLID WASTE RESOURCES FUND        3.664811e+08\n",
       "IRS SEC501 EMPLOYEE BENEF TRUS    3.560470e+08\n",
       "SEWER OPERATIONS & MAINTENANCE    3.540960e+08\n",
       "Name: total_budget, dtype: float64"
      ]
     },
     "execution_count": 29,
     "metadata": {},
     "output_type": "execute_result"
    }
   ],
   "source": [
    "df[mask_2017].groupby('fund_name')['total_budget'].sum().sort_values(ascending=False).head(10)"
   ]
  },
  {
   "cell_type": "code",
   "execution_count": 30,
   "metadata": {},
   "outputs": [
    {
     "data": {
      "text/plain": [
       "fund_name\n",
       "GENERAL FUND (GENERAL BUDGET)     7.140709e+09\n",
       "TX REV ANTICIP NOTE PROC          1.508578e+09\n",
       "TX REV ANTICIP NOTE DEBT          1.500000e+09\n",
       "CITY EMPLOYEES RETIREMENT         1.105196e+09\n",
       "SEWER CONSTRUCTION&MAINTENANCE    6.329558e+08\n",
       "SOLID WASTE RESOURCES FUND        4.537950e+08\n",
       "FIRE & POLICE TIER 5 SERVICE P    4.290220e+08\n",
       "FIRE & POLICE TIER 2 GENERAL P    3.861732e+08\n",
       "IRS SEC501 EMPLOYEE BENEF TRUS    3.797057e+08\n",
       "SEWER OPERATIONS & MAINTENANCE    3.742596e+08\n",
       "Name: total_budget, dtype: float64"
      ]
     },
     "execution_count": 30,
     "metadata": {},
     "output_type": "execute_result"
    }
   ],
   "source": [
    "df[mask_2018].groupby('fund_name')['total_budget'].sum().sort_values(ascending=False).head(10)"
   ]
  },
  {
   "cell_type": "markdown",
   "metadata": {},
   "source": [
    "Again, there is a large amount of consistency here year-to-year, with the general fund taking a huge chunk."
   ]
  },
  {
   "cell_type": "markdown",
   "metadata": {},
   "source": [
    "## What percentage of money from the general fund was allocated to different departments each year?\n",
    "\n",
    "Here, we'll want to mask for the general fund before normalizing our `total_budget` for the year."
   ]
  },
  {
   "cell_type": "code",
   "execution_count": 32,
   "metadata": {},
   "outputs": [],
   "source": [
    "gen_fund_mask = df['fund_name'] == 'GENERAL FUND (GENERAL BUDGET)'"
   ]
  },
  {
   "cell_type": "code",
   "execution_count": 39,
   "metadata": {},
   "outputs": [],
   "source": [
    "gen_fund_2017 = df[gen_fund_mask & mask_2017][['department_name', 'total_budget']] "
   ]
  },
  {
   "cell_type": "code",
   "execution_count": 42,
   "metadata": {},
   "outputs": [],
   "source": [
    "gen_fund_2017_total = gen_fund_2017['total_budget'].sum()"
   ]
  },
  {
   "cell_type": "code",
   "execution_count": 45,
   "metadata": {},
   "outputs": [
    {
     "data": {
      "text/plain": [
       "department_name\n",
       "NON-DEPARTMENTAL - GENERAL                           0.227958\n",
       "POLICE                                               0.221093\n",
       "FIRE                                                 0.095700\n",
       "NON-DEPARTMENTAL - HUMAN RESOURCES BENEFITS          0.094268\n",
       "GENERAL SERVICES                                     0.043775\n",
       "PUBLIC WORKS - SANITATION                            0.038209\n",
       "NON-DEPARTMENTAL - CAPITAL FINANCE ADMINISTRATION    0.032077\n",
       "NON-DEPARTMENTAL - LIABILITY CLAIMS                  0.029677\n",
       "PUBLIC WORKS - STREET SERVICES                       0.027503\n",
       "TRANSPORTATION                                       0.023595\n",
       "Name: total_budget, dtype: float64"
      ]
     },
     "execution_count": 45,
     "metadata": {},
     "output_type": "execute_result"
    }
   ],
   "source": [
    "((gen_fund_2017.groupby('department_name')['total_budget'].sum()/gen_fund_2017_total)\n",
    "                 .sort_values(ascending=False)).head(10)"
   ]
  },
  {
   "cell_type": "code",
   "execution_count": 46,
   "metadata": {},
   "outputs": [],
   "source": [
    "gen_fund_2018 = df[gen_fund_mask & mask_2018][['department_name', 'total_budget']] \n",
    "gen_fund_2018_total = gen_fund_2018['total_budget'].sum()"
   ]
  },
  {
   "cell_type": "code",
   "execution_count": 47,
   "metadata": {},
   "outputs": [
    {
     "data": {
      "text/plain": [
       "department_name\n",
       "POLICE                                               0.224793\n",
       "NON-DEPARTMENTAL - GENERAL                           0.224550\n",
       "FIRE                                                 0.098909\n",
       "NON-DEPARTMENTAL - HUMAN RESOURCES BENEFITS          0.097140\n",
       "GENERAL SERVICES                                     0.044819\n",
       "PUBLIC WORKS - SANITATION                            0.038513\n",
       "NON-DEPARTMENTAL - CAPITAL FINANCE ADMINISTRATION    0.031744\n",
       "PUBLIC WORKS - STREET SERVICES                       0.025825\n",
       "TRANSPORTATION                                       0.023215\n",
       "CITY ATTORNEY                                        0.019623\n",
       "Name: total_budget, dtype: float64"
      ]
     },
     "execution_count": 47,
     "metadata": {},
     "output_type": "execute_result"
    }
   ],
   "source": [
    "((gen_fund_2018.groupby('department_name')['total_budget'].sum()/gen_fund_2018_total)\n",
    "                 .sort_values(ascending=False)).head(10)"
   ]
  },
  {
   "cell_type": "markdown",
   "metadata": {},
   "source": [
    "We can see that in both 2017 and 2018, the police took up around 22% of the general fund."
   ]
  },
  {
   "cell_type": "markdown",
   "metadata": {},
   "source": [
    "## Which departments saw the largest budget increase and decrease from 2017 to 2018?\n",
    "\n",
    "Here, we'll again use masking and `groupby`."
   ]
  },
  {
   "cell_type": "code",
   "execution_count": 52,
   "metadata": {},
   "outputs": [],
   "source": [
    "dept_totals_2017 = df[mask_2017].groupby('department_name')['total_budget'].sum()"
   ]
  },
  {
   "cell_type": "code",
   "execution_count": 53,
   "metadata": {},
   "outputs": [],
   "source": [
    "dept_totals_2018 = df[mask_2018].groupby('department_name')['total_budget'].sum()"
   ]
  },
  {
   "cell_type": "code",
   "execution_count": 54,
   "metadata": {},
   "outputs": [
    {
     "data": {
      "text/plain": [
       "department_name\n",
       "NON-DEPARTMENTAL - LIABILITY CLAIMS   -85900050.31\n",
       "CITY ADMINISTRATIVE OFFICER           -46486763.35\n",
       "RECREATION AND PARKS                  -18131078.17\n",
       "INFORMATION TECHNOLOGY AGENCY          -6217728.30\n",
       "PUBLIC WORKS - STREET SERVICES         -5415732.15\n",
       "Name: total_budget, dtype: float64"
      ]
     },
     "execution_count": 54,
     "metadata": {},
     "output_type": "execute_result"
    }
   ],
   "source": [
    "(dept_totals_2018 - dept_totals_2017).sort_values(ascending=True).head()"
   ]
  },
  {
   "cell_type": "code",
   "execution_count": 55,
   "metadata": {},
   "outputs": [
    {
     "data": {
      "text/plain": [
       "department_name\n",
       "NON-DEPARTMENTAL - APPROPRIATIONS TO SPECIAL PURPOSE FUND    1.558385e+08\n",
       "POLICE                                                       1.062615e+08\n",
       "TRANSPORTATION                                               9.734953e+07\n",
       "BUILDING AND SAFETY                                          8.756681e+07\n",
       "CITY EMPLOYEES RETIREMENT SYSTEM                             7.032394e+07\n",
       "Name: total_budget, dtype: float64"
      ]
     },
     "execution_count": 55,
     "metadata": {},
     "output_type": "execute_result"
    }
   ],
   "source": [
    "(dept_totals_2018 - dept_totals_2017).sort_values(ascending=False).head()"
   ]
  },
  {
   "cell_type": "markdown",
   "metadata": {},
   "source": [
    "From these aggregates, it's difficult to tell if the reduction in budgets to some departments is due to increased efficiency or just defunding programs. Those departments that saw the biggest increases were all amongst departments with the biggest budgets. \n",
    "\n",
    "We can also calculate this as a percentage change to see how priorities may have shifted."
   ]
  },
  {
   "cell_type": "code",
   "execution_count": 59,
   "metadata": {},
   "outputs": [
    {
     "data": {
      "text/plain": [
       "department_name\n",
       "NON-DEPARTMENTAL - LIABILITY CLAIMS   -0.419373\n",
       "NEIGHBORHOOD EMPOWERMENT              -0.356757\n",
       "CITY ETHICS COMMISSION                -0.192257\n",
       "CITY CLERK                            -0.113799\n",
       "EMERGENCY MANAGEMENT                  -0.058675\n",
       "Name: total_budget, dtype: float64"
      ]
     },
     "execution_count": 59,
     "metadata": {},
     "output_type": "execute_result"
    }
   ],
   "source": [
    "((dept_totals_2018 - dept_totals_2017)/dept_totals_2017).sort_values(ascending=True).head()"
   ]
  },
  {
   "cell_type": "code",
   "execution_count": 60,
   "metadata": {},
   "outputs": [
    {
     "data": {
      "text/plain": [
       "department_name\n",
       "NON-DEPARTMENTAL - UNAPPROPRIATED BALANCE                 2.008087\n",
       "NON-DEPARTMENTAL - CAPITAL IMPROVEMENT EXPENSE PROGRAM    1.634478\n",
       "RECREATION AND PARKS - SPECIAL ACCOUNTS                   0.290752\n",
       "CULTURAL AFFAIRS                                          0.276824\n",
       "BUILDING AND SAFETY                                       0.236609\n",
       "Name: total_budget, dtype: float64"
      ]
     },
     "execution_count": 60,
     "metadata": {},
     "output_type": "execute_result"
    }
   ],
   "source": [
    "((dept_totals_2018 - dept_totals_2017)/dept_totals_2017).sort_values(ascending=False).head()"
   ]
  },
  {
   "cell_type": "markdown",
   "metadata": {},
   "source": [
    "Unsurprisingly, looking at the percent change reveals a different story of how priorities may have changed year-to-year."
   ]
  }
 ],
 "metadata": {
  "kernelspec": {
   "display_name": "Python 3",
   "language": "python",
   "name": "python3"
  },
  "language_info": {
   "codemirror_mode": {
    "name": "ipython",
    "version": 3
   },
   "file_extension": ".py",
   "mimetype": "text/x-python",
   "name": "python",
   "nbconvert_exporter": "python",
   "pygments_lexer": "ipython3",
   "version": "3.6.8"
  }
 },
 "nbformat": 4,
 "nbformat_minor": 2
}
