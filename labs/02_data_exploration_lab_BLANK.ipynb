{
 "cells": [
  {
   "cell_type": "markdown",
   "metadata": {},
   "source": [
    "# Data Exploration Lab\n",
    "*Author: [Douglas Strodtman](http://linkedin.com/in/dstrodtman/)*\n",
    "\n"
   ]
  },
  {
   "cell_type": "markdown",
   "metadata": {},
   "source": [
    "This lab is much less structured that the previous lab, but solution code has been provided.\n",
    "\n",
    "Your objective will be to continue working with the data from the previous lesson to answer the following questions:\n",
    "\n",
    "## Key Objectives\n",
    "\n",
    "- Which department had the most line item entries each year?\n",
    "- Which department had the highest total expenditures each year?\n",
    "- Which fund had the highest budget allocation each year?\n",
    "- What percentage of money from the general fund was allocated to different departments each year?\n",
    "- Which departments saw the largest budget increase and decrease from 2017 to 2018?\n",
    "\n",
    "To answer these questions, you'll demonstrate the following skills:\n",
    "\n",
    "## Skills Covered\n",
    "1. Module import\n",
    "1. Data import\n",
    "1. Masking\n",
    "1. Sorting\n",
    "1. Summary Statistics\n",
    "1. `groupby` and Aggregation\n",
    "1. Pivot Tables\n",
    "\n"
   ]
  },
  {
   "cell_type": "markdown",
   "metadata": {},
   "source": [
    "## Module Import\n",
    "Start off by importing pandas."
   ]
  },
  {
   "cell_type": "code",
   "execution_count": null,
   "metadata": {},
   "outputs": [],
   "source": []
  },
  {
   "cell_type": "markdown",
   "metadata": {},
   "source": [
    "## Data Import\n",
    "Load the data we cleaned in the last lesson."
   ]
  },
  {
   "cell_type": "code",
   "execution_count": null,
   "metadata": {},
   "outputs": [],
   "source": []
  },
  {
   "cell_type": "markdown",
   "metadata": {},
   "source": [
    "Always check that your data loaded as expected."
   ]
  },
  {
   "cell_type": "code",
   "execution_count": null,
   "metadata": {},
   "outputs": [],
   "source": []
  },
  {
   "cell_type": "markdown",
   "metadata": {},
   "source": [
    "Great! Everything is loaded successfully. Let's get right into our questions."
   ]
  },
  {
   "cell_type": "markdown",
   "metadata": {},
   "source": [
    "## Which department had the most line item entries each year?\n",
    "\n",
    "Let's do a pivot table."
   ]
  },
  {
   "cell_type": "code",
   "execution_count": null,
   "metadata": {},
   "outputs": [],
   "source": []
  },
  {
   "cell_type": "markdown",
   "metadata": {},
   "source": [
    "**Type what you observe in a markdown cell**"
   ]
  },
  {
   "cell_type": "markdown",
   "metadata": {},
   "source": [
    "## Which department had the highest total expenditures each year?\n",
    "\n",
    "Again, we can complete this easily with a pivot table. While we have some nulls in our feature of interest, Pandas defaults to ignoring `NaN`s when doing aggregate summing."
   ]
  },
  {
   "cell_type": "code",
   "execution_count": null,
   "metadata": {},
   "outputs": [],
   "source": []
  },
  {
   "cell_type": "markdown",
   "metadata": {},
   "source": [
    "**Type what you observe in a markdown cell**"
   ]
  },
  {
   "cell_type": "markdown",
   "metadata": {},
   "source": [
    "## Which fund had the highest budget allocation each year?\n",
    "\n",
    "While I could use another pivot table, here I'll mask by year and then use `groupby`."
   ]
  },
  {
   "cell_type": "code",
   "execution_count": null,
   "metadata": {},
   "outputs": [],
   "source": []
  },
  {
   "cell_type": "markdown",
   "metadata": {},
   "source": [
    "**Type what you observe in a markdown cell**"
   ]
  },
  {
   "cell_type": "markdown",
   "metadata": {},
   "source": [
    "## What percentage of money from the general fund was allocated to different departments each year?\n",
    "\n",
    "Here, we'll want to mask for the general fund before normalizing our `total_budget` for the year."
   ]
  },
  {
   "cell_type": "code",
   "execution_count": null,
   "metadata": {},
   "outputs": [],
   "source": []
  },
  {
   "cell_type": "markdown",
   "metadata": {},
   "source": [
    "**Type what you observe in a markdown cell**"
   ]
  },
  {
   "cell_type": "markdown",
   "metadata": {},
   "source": [
    "## Which departments saw the largest budget increase and decrease from 2017 to 2018?\n",
    "\n",
    "Here, we'll again use masking and `groupby`."
   ]
  },
  {
   "cell_type": "code",
   "execution_count": null,
   "metadata": {},
   "outputs": [],
   "source": []
  },
  {
   "cell_type": "markdown",
   "metadata": {},
   "source": [
    "**Type what you observe in a markdown cell** "
   ]
  },
  {
   "cell_type": "markdown",
   "metadata": {},
   "source": [
    "We can also calculate this as a percentage change to see how priorities may have shifted."
   ]
  },
  {
   "cell_type": "code",
   "execution_count": null,
   "metadata": {},
   "outputs": [],
   "source": []
  },
  {
   "cell_type": "markdown",
   "metadata": {},
   "source": [
    "**Type what you observe in a markdown cell**"
   ]
  }
 ],
 "metadata": {
  "kernelspec": {
   "display_name": "Python 3",
   "language": "python",
   "name": "python3"
  },
  "language_info": {
   "codemirror_mode": {
    "name": "ipython",
    "version": 3
   },
   "file_extension": ".py",
   "mimetype": "text/x-python",
   "name": "python",
   "nbconvert_exporter": "python",
   "pygments_lexer": "ipython3",
   "version": "3.6.8"
  }
 },
 "nbformat": 4,
 "nbformat_minor": 2
}
