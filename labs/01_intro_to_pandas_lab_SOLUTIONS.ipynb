{
 "cells": [
  {
   "cell_type": "markdown",
   "metadata": {},
   "source": [
    "# Introduction to Pandas Lab\n",
    "\n",
    "*Author: [Douglas Strodtman](http://linkedin.com/in/dstrodtman/)*"
   ]
  },
  {
   "cell_type": "markdown",
   "metadata": {},
   "source": [
    "## Lab Overview\n",
    "\n",
    "This lab builds upon the previous lesson. Some of the skills that you'll be demonstrating include:\n",
    "\n",
    "1. Module import\n",
    "1. Data import\n",
    "1. Previewing Data\n",
    "1. Differences between DataFrames and Series\n",
    "1. Selecting rows and columns\n",
    "1. Basic metadata exploration\n",
    "1. Differences between methods and attributes\n",
    "1. Basic methods for categorical data\n",
    "1. Basic methods for numeric data\n",
    "1. Sorting\n",
    "\n",
    "Our primary objective in this lab will be to explore the 2017 budget and expenditures data and confirm whether or not the fields align with the expected values based on the data dictionary (available [here](https://controllerdata.lacity.org/Budget/City-Budget-and-Expenditures/uyzw-yi8n) under \"Columns in this Dataset\")."
   ]
  },
  {
   "cell_type": "markdown",
   "metadata": {},
   "source": [
    "## Module Import\n",
    "\n",
    "Use the below cell to import pandas.\n",
    "\n",
    "(Other modules you might choose to import for data exploration and cleaning include [re](https://docs.python.org/3/library/re.html) and [numpy](https://www.numpy.org/), but these aren't essential to complete this lab.)"
   ]
  },
  {
   "cell_type": "code",
   "execution_count": 1,
   "metadata": {},
   "outputs": [],
   "source": [
    "import pandas as pd"
   ]
  },
  {
   "cell_type": "markdown",
   "metadata": {},
   "source": [
    "## Data Import\n",
    "\n",
    "We'll be working with just the 2017 data here. You can run command line operations using the `!` in Jupyter. The following cell will list the names of all files in our `data` directory:"
   ]
  },
  {
   "cell_type": "code",
   "execution_count": 2,
   "metadata": {},
   "outputs": [
    {
     "name": "stdout",
     "output_type": "stream",
     "text": [
      "2017_budget.csv                  City_Budget_and_Expenditures.csv\n",
      "2018_budget.csv\n"
     ]
    }
   ],
   "source": [
    "!ls ../data"
   ]
  },
  {
   "cell_type": "markdown",
   "metadata": {},
   "source": [
    "As this will be the main DataFrame in this notebook, it should be safe to use the variable name `df`."
   ]
  },
  {
   "cell_type": "code",
   "execution_count": 3,
   "metadata": {},
   "outputs": [],
   "source": [
    "df = pd.read_csv('../data/2017_budget.csv')"
   ]
  },
  {
   "cell_type": "markdown",
   "metadata": {},
   "source": [
    "## Preview Data\n",
    "\n",
    "Let's start by looking at the first 3 rows of our data to confirm it loaded correctly."
   ]
  },
  {
   "cell_type": "code",
   "execution_count": 4,
   "metadata": {},
   "outputs": [
    {
     "data": {
      "text/html": [
       "<div>\n",
       "<style scoped>\n",
       "    .dataframe tbody tr th:only-of-type {\n",
       "        vertical-align: middle;\n",
       "    }\n",
       "\n",
       "    .dataframe tbody tr th {\n",
       "        vertical-align: top;\n",
       "    }\n",
       "\n",
       "    .dataframe thead th {\n",
       "        text-align: right;\n",
       "    }\n",
       "</style>\n",
       "<table border=\"1\" class=\"dataframe\">\n",
       "  <thead>\n",
       "    <tr style=\"text-align: right;\">\n",
       "      <th></th>\n",
       "      <th>budget_fiscal_year</th>\n",
       "      <th>department_name</th>\n",
       "      <th>fund_name</th>\n",
       "      <th>account_name</th>\n",
       "      <th>adopted_budget_amount</th>\n",
       "      <th>total_expenditures</th>\n",
       "      <th>budget_change_amount</th>\n",
       "      <th>budget_transfer_in_amount</th>\n",
       "      <th>budget_transfer_out_amount</th>\n",
       "      <th>total_budget</th>\n",
       "      <th>encumbrance_amount</th>\n",
       "      <th>pre_encumbrance_amount</th>\n",
       "      <th>budget_uncommitted_amount</th>\n",
       "      <th>account_group_name</th>\n",
       "      <th>fund</th>\n",
       "      <th>account</th>\n",
       "      <th>department</th>\n",
       "    </tr>\n",
       "  </thead>\n",
       "  <tbody>\n",
       "    <tr>\n",
       "      <th>0</th>\n",
       "      <td>2017</td>\n",
       "      <td>AGING</td>\n",
       "      <td>GENERAL FUND (GENERAL BUDGET)</td>\n",
       "      <td>CONTRACTUAL SERVICES</td>\n",
       "      <td>1811882.0</td>\n",
       "      <td>1248695.94</td>\n",
       "      <td>93339.0</td>\n",
       "      <td>0.0</td>\n",
       "      <td>536334.0</td>\n",
       "      <td>1368887.0</td>\n",
       "      <td>0.0</td>\n",
       "      <td>0.0</td>\n",
       "      <td>120191.06</td>\n",
       "      <td>EXPENSES</td>\n",
       "      <td>100</td>\n",
       "      <td>003040</td>\n",
       "      <td>2</td>\n",
       "    </tr>\n",
       "    <tr>\n",
       "      <th>1</th>\n",
       "      <td>2017</td>\n",
       "      <td>AGING</td>\n",
       "      <td>HEALTH INS COUNS ADV (HICAP)</td>\n",
       "      <td>HICAP 9 MONTH</td>\n",
       "      <td>0.0</td>\n",
       "      <td>204159.00</td>\n",
       "      <td>229429.0</td>\n",
       "      <td>0.0</td>\n",
       "      <td>0.0</td>\n",
       "      <td>229429.0</td>\n",
       "      <td>0.0</td>\n",
       "      <td>0.0</td>\n",
       "      <td>25270.00</td>\n",
       "      <td>NaN</td>\n",
       "      <td>47Y</td>\n",
       "      <td>02ND01</td>\n",
       "      <td>2</td>\n",
       "    </tr>\n",
       "    <tr>\n",
       "      <th>2</th>\n",
       "      <td>2017</td>\n",
       "      <td>AGING</td>\n",
       "      <td>AREA PLAN FOR THE AGING TIT 7</td>\n",
       "      <td>SOCIAL SERVICES FOR SENIORS</td>\n",
       "      <td>0.0</td>\n",
       "      <td>54285.00</td>\n",
       "      <td>71102.0</td>\n",
       "      <td>0.0</td>\n",
       "      <td>0.0</td>\n",
       "      <td>71102.0</td>\n",
       "      <td>16817.0</td>\n",
       "      <td>0.0</td>\n",
       "      <td>0.00</td>\n",
       "      <td>NaN</td>\n",
       "      <td>395</td>\n",
       "      <td>02NQ01</td>\n",
       "      <td>2</td>\n",
       "    </tr>\n",
       "  </tbody>\n",
       "</table>\n",
       "</div>"
      ],
      "text/plain": [
       "   budget_fiscal_year department_name                      fund_name  \\\n",
       "0                2017           AGING  GENERAL FUND (GENERAL BUDGET)   \n",
       "1                2017           AGING   HEALTH INS COUNS ADV (HICAP)   \n",
       "2                2017           AGING  AREA PLAN FOR THE AGING TIT 7   \n",
       "\n",
       "                  account_name  adopted_budget_amount  total_expenditures  \\\n",
       "0         CONTRACTUAL SERVICES              1811882.0          1248695.94   \n",
       "1                HICAP 9 MONTH                    0.0           204159.00   \n",
       "2  SOCIAL SERVICES FOR SENIORS                    0.0            54285.00   \n",
       "\n",
       "   budget_change_amount  budget_transfer_in_amount  \\\n",
       "0               93339.0                        0.0   \n",
       "1              229429.0                        0.0   \n",
       "2               71102.0                        0.0   \n",
       "\n",
       "   budget_transfer_out_amount  total_budget  encumbrance_amount  \\\n",
       "0                    536334.0     1368887.0                 0.0   \n",
       "1                         0.0      229429.0                 0.0   \n",
       "2                         0.0       71102.0             16817.0   \n",
       "\n",
       "   pre_encumbrance_amount  budget_uncommitted_amount account_group_name fund  \\\n",
       "0                     0.0                  120191.06           EXPENSES  100   \n",
       "1                     0.0                   25270.00                NaN  47Y   \n",
       "2                     0.0                       0.00                NaN  395   \n",
       "\n",
       "  account  department  \n",
       "0  003040           2  \n",
       "1  02ND01           2  \n",
       "2  02NQ01           2  "
      ]
     },
     "execution_count": 4,
     "metadata": {},
     "output_type": "execute_result"
    }
   ],
   "source": [
    "df.head(3)"
   ]
  },
  {
   "cell_type": "markdown",
   "metadata": {},
   "source": [
    "It's always a good idea to also check the last 3 rows in case there were any parsing errors."
   ]
  },
  {
   "cell_type": "code",
   "execution_count": 5,
   "metadata": {},
   "outputs": [
    {
     "data": {
      "text/html": [
       "<div>\n",
       "<style scoped>\n",
       "    .dataframe tbody tr th:only-of-type {\n",
       "        vertical-align: middle;\n",
       "    }\n",
       "\n",
       "    .dataframe tbody tr th {\n",
       "        vertical-align: top;\n",
       "    }\n",
       "\n",
       "    .dataframe thead th {\n",
       "        text-align: right;\n",
       "    }\n",
       "</style>\n",
       "<table border=\"1\" class=\"dataframe\">\n",
       "  <thead>\n",
       "    <tr style=\"text-align: right;\">\n",
       "      <th></th>\n",
       "      <th>budget_fiscal_year</th>\n",
       "      <th>department_name</th>\n",
       "      <th>fund_name</th>\n",
       "      <th>account_name</th>\n",
       "      <th>adopted_budget_amount</th>\n",
       "      <th>total_expenditures</th>\n",
       "      <th>budget_change_amount</th>\n",
       "      <th>budget_transfer_in_amount</th>\n",
       "      <th>budget_transfer_out_amount</th>\n",
       "      <th>total_budget</th>\n",
       "      <th>encumbrance_amount</th>\n",
       "      <th>pre_encumbrance_amount</th>\n",
       "      <th>budget_uncommitted_amount</th>\n",
       "      <th>account_group_name</th>\n",
       "      <th>fund</th>\n",
       "      <th>account</th>\n",
       "      <th>department</th>\n",
       "    </tr>\n",
       "  </thead>\n",
       "  <tbody>\n",
       "    <tr>\n",
       "      <th>3590</th>\n",
       "      <td>2017</td>\n",
       "      <td>ZOO</td>\n",
       "      <td>ZOO ENTERPRISE TRUST FUND</td>\n",
       "      <td>GENERAL SERVICES</td>\n",
       "      <td>0.0</td>\n",
       "      <td>3343.67</td>\n",
       "      <td>3343.67</td>\n",
       "      <td>0.0</td>\n",
       "      <td>0.0</td>\n",
       "      <td>3343.67</td>\n",
       "      <td>0.00</td>\n",
       "      <td>0.0</td>\n",
       "      <td>0.00</td>\n",
       "      <td>NaN</td>\n",
       "      <td>40E</td>\n",
       "      <td>87N140</td>\n",
       "      <td>87</td>\n",
       "    </tr>\n",
       "    <tr>\n",
       "      <th>3591</th>\n",
       "      <td>2017</td>\n",
       "      <td>ZOO</td>\n",
       "      <td>GENERAL FUND (GENERAL BUDGET)</td>\n",
       "      <td>CONTRACTUAL SERVICES</td>\n",
       "      <td>424400.0</td>\n",
       "      <td>476001.59</td>\n",
       "      <td>146077.66</td>\n",
       "      <td>0.0</td>\n",
       "      <td>0.0</td>\n",
       "      <td>570477.66</td>\n",
       "      <td>5146.63</td>\n",
       "      <td>0.0</td>\n",
       "      <td>89329.44</td>\n",
       "      <td>EXPENSES</td>\n",
       "      <td>100</td>\n",
       "      <td>003040</td>\n",
       "      <td>87</td>\n",
       "    </tr>\n",
       "    <tr>\n",
       "      <th>3592</th>\n",
       "      <td>2017</td>\n",
       "      <td>ZOO</td>\n",
       "      <td>GENERAL FUND (GENERAL BUDGET)</td>\n",
       "      <td>FIELD EQUIPMENT EXPENSE</td>\n",
       "      <td>20000.0</td>\n",
       "      <td>19417.73</td>\n",
       "      <td>0.00</td>\n",
       "      <td>0.0</td>\n",
       "      <td>0.0</td>\n",
       "      <td>20000.00</td>\n",
       "      <td>0.00</td>\n",
       "      <td>0.0</td>\n",
       "      <td>582.27</td>\n",
       "      <td>EXPENSES</td>\n",
       "      <td>100</td>\n",
       "      <td>003090</td>\n",
       "      <td>87</td>\n",
       "    </tr>\n",
       "  </tbody>\n",
       "</table>\n",
       "</div>"
      ],
      "text/plain": [
       "      budget_fiscal_year department_name                      fund_name  \\\n",
       "3590                2017             ZOO      ZOO ENTERPRISE TRUST FUND   \n",
       "3591                2017             ZOO  GENERAL FUND (GENERAL BUDGET)   \n",
       "3592                2017             ZOO  GENERAL FUND (GENERAL BUDGET)   \n",
       "\n",
       "                 account_name  adopted_budget_amount  total_expenditures  \\\n",
       "3590         GENERAL SERVICES                    0.0             3343.67   \n",
       "3591     CONTRACTUAL SERVICES               424400.0           476001.59   \n",
       "3592  FIELD EQUIPMENT EXPENSE                20000.0            19417.73   \n",
       "\n",
       "      budget_change_amount  budget_transfer_in_amount  \\\n",
       "3590               3343.67                        0.0   \n",
       "3591             146077.66                        0.0   \n",
       "3592                  0.00                        0.0   \n",
       "\n",
       "      budget_transfer_out_amount  total_budget  encumbrance_amount  \\\n",
       "3590                         0.0       3343.67                0.00   \n",
       "3591                         0.0     570477.66             5146.63   \n",
       "3592                         0.0      20000.00                0.00   \n",
       "\n",
       "      pre_encumbrance_amount  budget_uncommitted_amount account_group_name  \\\n",
       "3590                     0.0                       0.00                NaN   \n",
       "3591                     0.0                   89329.44           EXPENSES   \n",
       "3592                     0.0                     582.27           EXPENSES   \n",
       "\n",
       "     fund account  department  \n",
       "3590  40E  87N140          87  \n",
       "3591  100  003040          87  \n",
       "3592  100  003090          87  "
      ]
     },
     "execution_count": 5,
     "metadata": {},
     "output_type": "execute_result"
    }
   ],
   "source": [
    "df.tail(3)"
   ]
  },
  {
   "cell_type": "markdown",
   "metadata": {},
   "source": [
    "The data looks as we expect it. It appears that the data was saved out sorted alphabetically by department name."
   ]
  },
  {
   "cell_type": "markdown",
   "metadata": {},
   "source": [
    "## Meta-Data Exploration\n",
    "\n",
    "Let's get an idea of the contents of the 2017 data by exploring some of the meta-data. First, we should get an idea of the number of rows and columns."
   ]
  },
  {
   "cell_type": "code",
   "execution_count": 6,
   "metadata": {},
   "outputs": [
    {
     "data": {
      "text/plain": [
       "(3593, 17)"
      ]
     },
     "execution_count": 6,
     "metadata": {},
     "output_type": "execute_result"
    }
   ],
   "source": [
    "df.shape"
   ]
  },
  {
   "cell_type": "markdown",
   "metadata": {},
   "source": [
    "It's also a good idea to check that our data loaded in the expected format by looking at the data types of each column. If you recall, there's a method that provides the names of each column, the number of non-null values, and the type."
   ]
  },
  {
   "cell_type": "code",
   "execution_count": 7,
   "metadata": {},
   "outputs": [
    {
     "name": "stdout",
     "output_type": "stream",
     "text": [
      "<class 'pandas.core.frame.DataFrame'>\n",
      "RangeIndex: 3593 entries, 0 to 3592\n",
      "Data columns (total 17 columns):\n",
      "budget_fiscal_year            3593 non-null int64\n",
      "department_name               3593 non-null object\n",
      "fund_name                     3593 non-null object\n",
      "account_name                  3591 non-null object\n",
      "adopted_budget_amount         3593 non-null float64\n",
      "total_expenditures            2568 non-null float64\n",
      "budget_change_amount          3593 non-null float64\n",
      "budget_transfer_in_amount     3593 non-null float64\n",
      "budget_transfer_out_amount    3593 non-null float64\n",
      "total_budget                  3593 non-null float64\n",
      "encumbrance_amount            3593 non-null float64\n",
      "pre_encumbrance_amount        3593 non-null float64\n",
      "budget_uncommitted_amount     3593 non-null float64\n",
      "account_group_name            1083 non-null object\n",
      "fund                          3593 non-null object\n",
      "account                       3593 non-null object\n",
      "department                    3593 non-null int64\n",
      "dtypes: float64(9), int64(2), object(6)\n",
      "memory usage: 477.3+ KB\n"
     ]
    }
   ],
   "source": [
    "df.info()"
   ]
  },
  {
   "cell_type": "markdown",
   "metadata": {},
   "source": [
    "It's always a good idea to record observations along the way. Is there anything unexpected in the above data?"
   ]
  },
  {
   "cell_type": "markdown",
   "metadata": {},
   "source": [
    "Both `total_expenditures` and `account_group_name` have a high number of nulls. The 2 nulls in `account_name` are confounding, especially as there are no nulls in `account`."
   ]
  },
  {
   "cell_type": "markdown",
   "metadata": {},
   "source": [
    "#### Optional \n",
    "Because we're only working with the 2017 data, let's go ahead and drop the `budget_fiscal_year` column. We can also drop the `department` column, as this numeric is redundant with the `department_name`.\n",
    "\n",
    "The docs for `.drop` are [here](https://pandas.pydata.org/pandas-docs/stable/reference/api/pandas.DataFrame.drop.html). \n",
    "\n",
    "**Note**: Leaving these columns in won't negatively impact your ability to complete this lab, but will just retain data you don't really need."
   ]
  },
  {
   "cell_type": "code",
   "execution_count": 8,
   "metadata": {},
   "outputs": [],
   "source": [
    "df.drop(['budget_fiscal_year', 'department'], 1, inplace=True)"
   ]
  },
  {
   "cell_type": "markdown",
   "metadata": {},
   "source": [
    "## Categorical Data"
   ]
  },
  {
   "cell_type": "markdown",
   "metadata": {},
   "source": [
    "Save out a list of all the columns that contain strings."
   ]
  },
  {
   "cell_type": "code",
   "execution_count": 9,
   "metadata": {},
   "outputs": [],
   "source": [
    "cat_cols = df.select_dtypes('object').columns"
   ]
  },
  {
   "cell_type": "markdown",
   "metadata": {},
   "source": [
    "Now use that list to return the number of unique values in each column."
   ]
  },
  {
   "cell_type": "code",
   "execution_count": 10,
   "metadata": {},
   "outputs": [
    {
     "data": {
      "text/plain": [
       "department_name         52\n",
       "fund_name              474\n",
       "account_name          2075\n",
       "account_group_name       4\n",
       "fund                   473\n",
       "account               2352\n",
       "dtype: int64"
      ]
     },
     "execution_count": 10,
     "metadata": {},
     "output_type": "execute_result"
    }
   ],
   "source": [
    "df[cat_cols].nunique()"
   ]
  },
  {
   "cell_type": "markdown",
   "metadata": {},
   "source": [
    "Return the names of the 10 funds that have the most line items in 2017, along with the count."
   ]
  },
  {
   "cell_type": "code",
   "execution_count": 11,
   "metadata": {},
   "outputs": [
    {
     "data": {
      "text/plain": [
       "GENERAL FUND (GENERAL BUDGET)     695\n",
       "RECREATION & PARKS GRANT          218\n",
       "ARTS DEVELOPMENT FEE TRUST FND    134\n",
       "SEWER CAPITAL FUND                128\n",
       "RECREATION AND PARKS              125\n",
       "DEPT OF NEIGHBORHOOD EMPOWERE     108\n",
       "COMMUNITY DEVELOPMENT TRUST        73\n",
       "PROPOSITION K MAINTENANCE FUND     52\n",
       "PROPOSITION A LOCAL TRANSIT        44\n",
       "WASTEWATER SYS REV BD CONS/10A     42\n",
       "Name: fund_name, dtype: int64"
      ]
     },
     "execution_count": 11,
     "metadata": {},
     "output_type": "execute_result"
    }
   ],
   "source": [
    "df['fund_name'].value_counts().head(10)"
   ]
  },
  {
   "cell_type": "markdown",
   "metadata": {},
   "source": [
    "Let's save out a list of the name of the funds that appear more than 100 times in our 2017 data. (In this case, you should be able to just use the `.index[:6]` to select the first 6 rows from the previous output)."
   ]
  },
  {
   "cell_type": "code",
   "execution_count": 12,
   "metadata": {},
   "outputs": [],
   "source": [
    "common_funds = list(df['fund_name'].value_counts().index[:6])"
   ]
  },
  {
   "cell_type": "code",
   "execution_count": 13,
   "metadata": {},
   "outputs": [
    {
     "data": {
      "text/plain": [
       "['GENERAL FUND (GENERAL BUDGET)',\n",
       " 'RECREATION & PARKS GRANT',\n",
       " 'ARTS DEVELOPMENT FEE TRUST FND',\n",
       " 'SEWER CAPITAL FUND',\n",
       " 'RECREATION AND PARKS',\n",
       " 'DEPT OF NEIGHBORHOOD EMPOWERE']"
      ]
     },
     "execution_count": 13,
     "metadata": {},
     "output_type": "execute_result"
    }
   ],
   "source": [
    "common_funds"
   ]
  },
  {
   "cell_type": "markdown",
   "metadata": {},
   "source": [
    "To simplify the rest of our operations, let's limit ourselves to only these 6 funds.\n",
    "\n",
    "We can use `.isin` to create a boolean list that we can pass back to `.loc` to only return those rows that are true. This is often called **masking**.\n",
    "\n",
    "Create a mask by completing the following code:"
   ]
  },
  {
   "cell_type": "code",
   "execution_count": 14,
   "metadata": {},
   "outputs": [],
   "source": [
    "# mask = df['fund_name'].isin(#your_most_common_funds_list_here)\n",
    "mask = df['fund_name'].isin(common_funds)"
   ]
  },
  {
   "cell_type": "markdown",
   "metadata": {},
   "source": [
    "We'll save this as a new DataFrame called `top_funds`.\n",
    "\n",
    "**Note**: We should use `.copy()` here at the end of our assignment to make sure that we've saved out a _new_ DataFrame. While discussions of mutability in Pandas are beyond the scope of this lesson, if you've ever run into warnings like the following:\n",
    "\n",
    "```\n",
    "SettingWithCopyWarning: \n",
    "A value is trying to be set on a copy of a slice from a DataFrame.\n",
    "Try using .loc[row_indexer,col_indexer] = value instead```\n",
    "\n",
    "you can often avoid these by making sure that you're saving out new DataFrame objects with the `.copy()` method."
   ]
  },
  {
   "cell_type": "code",
   "execution_count": 15,
   "metadata": {},
   "outputs": [],
   "source": [
    "top_funds = df.loc[mask, :].copy()"
   ]
  },
  {
   "cell_type": "markdown",
   "metadata": {},
   "source": [
    "And then look at the shape:"
   ]
  },
  {
   "cell_type": "code",
   "execution_count": 16,
   "metadata": {},
   "outputs": [
    {
     "data": {
      "text/plain": [
       "(1408, 15)"
      ]
     },
     "execution_count": 16,
     "metadata": {},
     "output_type": "execute_result"
    }
   ],
   "source": [
    "top_funds.shape"
   ]
  },
  {
   "cell_type": "markdown",
   "metadata": {},
   "source": [
    "## Numeric Data\n",
    "\n",
    "Let's look at the summary statistics for the numeric columns of our newly created DataFrame."
   ]
  },
  {
   "cell_type": "code",
   "execution_count": 17,
   "metadata": {},
   "outputs": [
    {
     "data": {
      "text/html": [
       "<div>\n",
       "<style scoped>\n",
       "    .dataframe tbody tr th:only-of-type {\n",
       "        vertical-align: middle;\n",
       "    }\n",
       "\n",
       "    .dataframe tbody tr th {\n",
       "        vertical-align: top;\n",
       "    }\n",
       "\n",
       "    .dataframe thead th {\n",
       "        text-align: right;\n",
       "    }\n",
       "</style>\n",
       "<table border=\"1\" class=\"dataframe\">\n",
       "  <thead>\n",
       "    <tr style=\"text-align: right;\">\n",
       "      <th></th>\n",
       "      <th>count</th>\n",
       "      <th>mean</th>\n",
       "      <th>std</th>\n",
       "      <th>min</th>\n",
       "      <th>25%</th>\n",
       "      <th>50%</th>\n",
       "      <th>75%</th>\n",
       "      <th>max</th>\n",
       "    </tr>\n",
       "  </thead>\n",
       "  <tbody>\n",
       "    <tr>\n",
       "      <th>adopted_budget_amount</th>\n",
       "      <td>1408.0</td>\n",
       "      <td>5.000590e+06</td>\n",
       "      <td>4.503706e+07</td>\n",
       "      <td>0.0</td>\n",
       "      <td>0.0</td>\n",
       "      <td>4970.000</td>\n",
       "      <td>5.000000e+05</td>\n",
       "      <td>1.095629e+09</td>\n",
       "    </tr>\n",
       "    <tr>\n",
       "      <th>total_expenditures</th>\n",
       "      <td>906.0</td>\n",
       "      <td>7.881091e+06</td>\n",
       "      <td>5.585947e+07</td>\n",
       "      <td>0.0</td>\n",
       "      <td>42000.0</td>\n",
       "      <td>211396.300</td>\n",
       "      <td>1.530037e+06</td>\n",
       "      <td>1.085729e+09</td>\n",
       "    </tr>\n",
       "    <tr>\n",
       "      <th>budget_change_amount</th>\n",
       "      <td>1408.0</td>\n",
       "      <td>3.217140e+05</td>\n",
       "      <td>2.363442e+06</td>\n",
       "      <td>-6154501.0</td>\n",
       "      <td>0.0</td>\n",
       "      <td>479.825</td>\n",
       "      <td>4.525834e+04</td>\n",
       "      <td>6.116146e+07</td>\n",
       "    </tr>\n",
       "    <tr>\n",
       "      <th>budget_transfer_in_amount</th>\n",
       "      <td>1408.0</td>\n",
       "      <td>3.217736e+05</td>\n",
       "      <td>3.190065e+06</td>\n",
       "      <td>0.0</td>\n",
       "      <td>0.0</td>\n",
       "      <td>0.000</td>\n",
       "      <td>0.000000e+00</td>\n",
       "      <td>8.594063e+07</td>\n",
       "    </tr>\n",
       "    <tr>\n",
       "      <th>budget_transfer_out_amount</th>\n",
       "      <td>1408.0</td>\n",
       "      <td>3.217736e+05</td>\n",
       "      <td>3.025259e+06</td>\n",
       "      <td>0.0</td>\n",
       "      <td>0.0</td>\n",
       "      <td>0.000</td>\n",
       "      <td>0.000000e+00</td>\n",
       "      <td>7.299042e+07</td>\n",
       "    </tr>\n",
       "    <tr>\n",
       "      <th>total_budget</th>\n",
       "      <td>1408.0</td>\n",
       "      <td>5.322304e+06</td>\n",
       "      <td>4.515916e+07</td>\n",
       "      <td>0.0</td>\n",
       "      <td>6500.0</td>\n",
       "      <td>67471.505</td>\n",
       "      <td>6.177423e+05</td>\n",
       "      <td>1.085729e+09</td>\n",
       "    </tr>\n",
       "    <tr>\n",
       "      <th>encumbrance_amount</th>\n",
       "      <td>1408.0</td>\n",
       "      <td>2.874311e+04</td>\n",
       "      <td>2.039965e+05</td>\n",
       "      <td>0.0</td>\n",
       "      <td>0.0</td>\n",
       "      <td>0.000</td>\n",
       "      <td>0.000000e+00</td>\n",
       "      <td>4.559853e+06</td>\n",
       "    </tr>\n",
       "    <tr>\n",
       "      <th>pre_encumbrance_amount</th>\n",
       "      <td>1408.0</td>\n",
       "      <td>0.000000e+00</td>\n",
       "      <td>0.000000e+00</td>\n",
       "      <td>0.0</td>\n",
       "      <td>0.0</td>\n",
       "      <td>0.000</td>\n",
       "      <td>0.000000e+00</td>\n",
       "      <td>0.000000e+00</td>\n",
       "    </tr>\n",
       "    <tr>\n",
       "      <th>budget_uncommitted_amount</th>\n",
       "      <td>1408.0</td>\n",
       "      <td>2.223141e+05</td>\n",
       "      <td>9.532674e+05</td>\n",
       "      <td>0.0</td>\n",
       "      <td>0.0</td>\n",
       "      <td>2210.000</td>\n",
       "      <td>5.043061e+04</td>\n",
       "      <td>1.247714e+07</td>\n",
       "    </tr>\n",
       "  </tbody>\n",
       "</table>\n",
       "</div>"
      ],
      "text/plain": [
       "                             count          mean           std        min  \\\n",
       "adopted_budget_amount       1408.0  5.000590e+06  4.503706e+07        0.0   \n",
       "total_expenditures           906.0  7.881091e+06  5.585947e+07        0.0   \n",
       "budget_change_amount        1408.0  3.217140e+05  2.363442e+06 -6154501.0   \n",
       "budget_transfer_in_amount   1408.0  3.217736e+05  3.190065e+06        0.0   \n",
       "budget_transfer_out_amount  1408.0  3.217736e+05  3.025259e+06        0.0   \n",
       "total_budget                1408.0  5.322304e+06  4.515916e+07        0.0   \n",
       "encumbrance_amount          1408.0  2.874311e+04  2.039965e+05        0.0   \n",
       "pre_encumbrance_amount      1408.0  0.000000e+00  0.000000e+00        0.0   \n",
       "budget_uncommitted_amount   1408.0  2.223141e+05  9.532674e+05        0.0   \n",
       "\n",
       "                                25%         50%           75%           max  \n",
       "adopted_budget_amount           0.0    4970.000  5.000000e+05  1.095629e+09  \n",
       "total_expenditures          42000.0  211396.300  1.530037e+06  1.085729e+09  \n",
       "budget_change_amount            0.0     479.825  4.525834e+04  6.116146e+07  \n",
       "budget_transfer_in_amount       0.0       0.000  0.000000e+00  8.594063e+07  \n",
       "budget_transfer_out_amount      0.0       0.000  0.000000e+00  7.299042e+07  \n",
       "total_budget                 6500.0   67471.505  6.177423e+05  1.085729e+09  \n",
       "encumbrance_amount              0.0       0.000  0.000000e+00  4.559853e+06  \n",
       "pre_encumbrance_amount          0.0       0.000  0.000000e+00  0.000000e+00  \n",
       "budget_uncommitted_amount       0.0    2210.000  5.043061e+04  1.247714e+07  "
      ]
     },
     "execution_count": 17,
     "metadata": {},
     "output_type": "execute_result"
    }
   ],
   "source": [
    "top_funds.describe().T"
   ]
  },
  {
   "cell_type": "markdown",
   "metadata": {},
   "source": [
    "Do you notice anything particularly noteworthy at this time? Do these values seem reasonable? **There aren't necessarily correct answers to these questions, but you should always record any observations you make as you explore your data.**"
   ]
  },
  {
   "cell_type": "markdown",
   "metadata": {},
   "source": [
    "Many of our fields have a large number of 0 values, but `pre_encumbrance_amount` is actually all zeroes for this portion of our data."
   ]
  },
  {
   "cell_type": "markdown",
   "metadata": {},
   "source": [
    "#### Select Numeric Columns\n",
    "\n",
    "To be explicit moving forward, let's get a quick list of numeric columns, we'll again use `.select_dtypes` with the keyword `exclude='object'`. We'll just directly access our `.columns` from here."
   ]
  },
  {
   "cell_type": "code",
   "execution_count": 18,
   "metadata": {},
   "outputs": [
    {
     "data": {
      "text/plain": [
       "Index(['adopted_budget_amount', 'total_expenditures', 'budget_change_amount',\n",
       "       'budget_transfer_in_amount', 'budget_transfer_out_amount',\n",
       "       'total_budget', 'encumbrance_amount', 'pre_encumbrance_amount',\n",
       "       'budget_uncommitted_amount'],\n",
       "      dtype='object')"
      ]
     },
     "execution_count": 18,
     "metadata": {},
     "output_type": "execute_result"
    }
   ],
   "source": [
    "num_cols = top_funds.select_dtypes(exclude='object').columns\n",
    "num_cols"
   ]
  },
  {
   "cell_type": "markdown",
   "metadata": {},
   "source": [
    "Here's a convenient table of the description provided alongside the data for each of these fields:\n",
    "\n",
    "| Column name | Description |\n",
    "| --- | --- |\n",
    "| adopted_budget_amount | Original budget amount adopted by Mayor and Council |\n",
    "| total_expenditures | Total Budget Fiscal Year amount expended from account to date |\n",
    "| budget_change_amount | Amendment to the adopted budget amount |\n",
    "| budget_transfer_in_amount | Increase in appropriation to account by transfer in of funds |\n",
    "| budget_transfer_out_amount | Decrease in appropriation to account by transfer out of funds |\n",
    "| total_budget | Appropriation account amount net of changes and transfers to/from the original budgeted amount |\n",
    "| encumbrance_amount | Obligation or commitment to pay for a good or service |\n",
    "| pre_encumbrance_amount | Anticipated obligation or commitment to pay for a good or service |\n",
    "| budget_uncommitted_amount | Total unused appropriation after expenditures and encumbrances |\n",
    "\n",
    "Let's see if we can identify and seeming discrepancies in the budget."
   ]
  },
  {
   "cell_type": "markdown",
   "metadata": {},
   "source": [
    "#### Total Budget\n",
    "\n",
    "The total budget should be our approved budget plus the changes and transfers in minus the transfers out.\n",
    "\n",
    "Create a new column called `calc_total_budget` with the results of this math."
   ]
  },
  {
   "cell_type": "code",
   "execution_count": 19,
   "metadata": {},
   "outputs": [],
   "source": [
    "top_funds['calc_total_budget'] = top_funds['adopted_budget_amount'] + top_funds['budget_change_amount'] - top_funds['budget_transfer_out_amount'] + top_funds['budget_transfer_in_amount']"
   ]
  },
  {
   "cell_type": "markdown",
   "metadata": {},
   "source": [
    "You can use the `==` to check equality between two Series. If we enclose this in parenthesis, we can chain pandas methods. Calling `mean` here will give us the percentage of items that have the same reported total budget as the one we calculated."
   ]
  },
  {
   "cell_type": "code",
   "execution_count": 20,
   "metadata": {},
   "outputs": [
    {
     "data": {
      "text/plain": [
       "0.9737215909090909"
      ]
     },
     "execution_count": 20,
     "metadata": {},
     "output_type": "execute_result"
    }
   ],
   "source": [
    "(top_funds['total_budget'] == top_funds['calc_total_budget']).mean()"
   ]
  },
  {
   "cell_type": "markdown",
   "metadata": {},
   "source": [
    "This operation suggests that almost 3% of our line items are incorrectly balanced. Let's look into this further.\n",
    "\n",
    "First, we'll set up a new mask (here called `wrong`) to find those rows where these two values aren't identical."
   ]
  },
  {
   "cell_type": "code",
   "execution_count": 21,
   "metadata": {},
   "outputs": [],
   "source": [
    "wrong = top_funds['total_budget'] != top_funds['calc_total_budget']"
   ]
  },
  {
   "cell_type": "markdown",
   "metadata": {},
   "source": [
    "Because the result of math operations between Series will be a new Series (with the same index), we can pass this mask to the difference between these two columns."
   ]
  },
  {
   "cell_type": "code",
   "execution_count": 22,
   "metadata": {},
   "outputs": [
    {
     "data": {
      "text/plain": [
       "75     -5.820766e-11\n",
       "261     5.820766e-11\n",
       "449     1.862645e-09\n",
       "557    -1.862645e-09\n",
       "574    -7.275958e-12\n",
       "963     7.275958e-12\n",
       "1037    7.450581e-09\n",
       "1041   -3.725290e-09\n",
       "1047    1.862645e-09\n",
       "1056   -1.164153e-10\n",
       "1399    2.328306e-10\n",
       "1458   -2.910383e-11\n",
       "1499    3.725290e-09\n",
       "1996    2.328306e-10\n",
       "2192    8.731149e-11\n",
       "2357   -1.164153e-10\n",
       "2451   -1.455192e-11\n",
       "2452   -2.910383e-11\n",
       "2458    1.018634e-10\n",
       "2464   -5.820766e-11\n",
       "2469   -5.820766e-11\n",
       "2475   -1.455192e-11\n",
       "2476    1.455192e-11\n",
       "2484   -1.818989e-12\n",
       "2490   -2.910383e-11\n",
       "2496    2.910383e-11\n",
       "2500   -2.728484e-12\n",
       "2514   -5.820766e-11\n",
       "2550   -4.656613e-10\n",
       "2557   -1.490116e-08\n",
       "2565   -3.129344e-09\n",
       "2592   -3.725290e-09\n",
       "2759    9.313226e-10\n",
       "2768    1.862645e-09\n",
       "2774    1.455192e-11\n",
       "2830    1.862645e-09\n",
       "3267    1.164153e-10\n",
       "dtype: float64"
      ]
     },
     "execution_count": 22,
     "metadata": {},
     "output_type": "execute_result"
    }
   ],
   "source": [
    "(top_funds['total_budget'] - top_funds['calc_total_budget'])[wrong]"
   ]
  },
  {
   "cell_type": "markdown",
   "metadata": {},
   "source": [
    "Look at how _small_ those numbers are. This is one of the imperfect aspects of doing math with computers. **These numbers are all actually zero**; these tiny numbers just represent precision errors the somehow propagated or compounded during our operations."
   ]
  },
  {
   "cell_type": "markdown",
   "metadata": {},
   "source": [
    "#### Budget Uncommitted Amount\n",
    "\n",
    "Now that we've confirmed that our `total_budget` is correct, let's see if we can also confirm our `budget_uncommited_amount`.\n",
    "\n",
    "Is this case, it looks like the calculation will be:\n",
    "\n",
    "`total_budget` - `total_expenditures` - `encumbrance_amount`\n",
    "\n",
    "Let's save this as `calc_uncommitted`."
   ]
  },
  {
   "cell_type": "code",
   "execution_count": 23,
   "metadata": {},
   "outputs": [],
   "source": [
    "top_funds['calc_uncommitted'] = top_funds['total_budget'] - top_funds['total_expenditures'] - top_funds['encumbrance_amount']"
   ]
  },
  {
   "cell_type": "markdown",
   "metadata": {},
   "source": [
    "You may notice that a number of these values are `NaN`s. Because we had many missing values for `total_expenditures`, these rows cannot be correctly calculated. For now, we'll ignore these. Note that Pandas will (by default) ignore nulls when calculating any aggregate statistics.\n",
    "\n",
    "Given the floating point error that we saw in our last series of calculations, let's check for mismatches differently. We'll build up this check one step at a time.\n",
    "\n",
    "First, let's get the difference of our calculation and the provided value for the `budget_uncommitted_amount`."
   ]
  },
  {
   "cell_type": "code",
   "execution_count": 24,
   "metadata": {},
   "outputs": [
    {
     "data": {
      "text/plain": [
       "0      -5.820766e-11\n",
       "7       0.000000e+00\n",
       "10      0.000000e+00\n",
       "14      0.000000e+00\n",
       "26     -5.820766e-11\n",
       "31      4.547474e-13\n",
       "32      0.000000e+00\n",
       "33      0.000000e+00\n",
       "54      9.094947e-12\n",
       "56      0.000000e+00\n",
       "57      1.629815e-09\n",
       "58     -1.409717e-11\n",
       "61      0.000000e+00\n",
       "62      0.000000e+00\n",
       "63      4.547474e-13\n",
       "64     -5.798029e-12\n",
       "66     -2.728484e-11\n",
       "69     -3.637979e-12\n",
       "74     -1.454836e-12\n",
       "75      4.423839e-11\n",
       "84               NaN\n",
       "85     -1.164153e-10\n",
       "92      4.656613e-10\n",
       "100     0.000000e+00\n",
       "104     0.000000e+00\n",
       "107    -5.587935e-09\n",
       "115     7.275958e-12\n",
       "116    -1.818989e-12\n",
       "126     1.164153e-10\n",
       "144     1.164153e-09\n",
       "            ...     \n",
       "3267   -4.365575e-11\n",
       "3289   -7.275958e-12\n",
       "3302   -1.164153e-10\n",
       "3314    4.656613e-09\n",
       "3329   -7.275958e-12\n",
       "3333    0.000000e+00\n",
       "3360    0.000000e+00\n",
       "3361    0.000000e+00\n",
       "3373   -1.091394e-11\n",
       "3395    0.000000e+00\n",
       "3402    0.000000e+00\n",
       "3410    9.313226e-10\n",
       "3430    0.000000e+00\n",
       "3443    9.458745e-11\n",
       "3454    0.000000e+00\n",
       "3459   -2.328306e-09\n",
       "3570   -4.729372e-11\n",
       "3572    3.637979e-12\n",
       "3574    9.094947e-12\n",
       "3575   -2.910383e-11\n",
       "3578   -3.637979e-12\n",
       "3582    1.164153e-10\n",
       "3583    6.984919e-10\n",
       "3585   -2.842171e-13\n",
       "3586    9.322321e-12\n",
       "3587    5.826450e-12\n",
       "3588    0.000000e+00\n",
       "3589    0.000000e+00\n",
       "3591    0.000000e+00\n",
       "3592   -4.547474e-13\n",
       "Length: 1408, dtype: float64"
      ]
     },
     "execution_count": 24,
     "metadata": {},
     "output_type": "execute_result"
    }
   ],
   "source": [
    "top_funds['budget_uncommitted_amount'] - top_funds['calc_uncommitted']"
   ]
  },
  {
   "cell_type": "markdown",
   "metadata": {},
   "source": [
    "From this preview, we'll see both `NaN`s and some very small non-zero values. \n",
    "\n",
    "Let's get rid of the sign of these non-zero values by enclosing our previous command in parentheses and calling `.abs()` to return the absolute value."
   ]
  },
  {
   "cell_type": "code",
   "execution_count": 25,
   "metadata": {},
   "outputs": [
    {
     "data": {
      "text/plain": [
       "0       5.820766e-11\n",
       "7       0.000000e+00\n",
       "10      0.000000e+00\n",
       "14      0.000000e+00\n",
       "26      5.820766e-11\n",
       "31      4.547474e-13\n",
       "32      0.000000e+00\n",
       "33      0.000000e+00\n",
       "54      9.094947e-12\n",
       "56      0.000000e+00\n",
       "57      1.629815e-09\n",
       "58      1.409717e-11\n",
       "61      0.000000e+00\n",
       "62      0.000000e+00\n",
       "63      4.547474e-13\n",
       "64      5.798029e-12\n",
       "66      2.728484e-11\n",
       "69      3.637979e-12\n",
       "74      1.454836e-12\n",
       "75      4.423839e-11\n",
       "84               NaN\n",
       "85      1.164153e-10\n",
       "92      4.656613e-10\n",
       "100     0.000000e+00\n",
       "104     0.000000e+00\n",
       "107     5.587935e-09\n",
       "115     7.275958e-12\n",
       "116     1.818989e-12\n",
       "126     1.164153e-10\n",
       "144     1.164153e-09\n",
       "            ...     \n",
       "3267    4.365575e-11\n",
       "3289    7.275958e-12\n",
       "3302    1.164153e-10\n",
       "3314    4.656613e-09\n",
       "3329    7.275958e-12\n",
       "3333    0.000000e+00\n",
       "3360    0.000000e+00\n",
       "3361    0.000000e+00\n",
       "3373    1.091394e-11\n",
       "3395    0.000000e+00\n",
       "3402    0.000000e+00\n",
       "3410    9.313226e-10\n",
       "3430    0.000000e+00\n",
       "3443    9.458745e-11\n",
       "3454    0.000000e+00\n",
       "3459    2.328306e-09\n",
       "3570    4.729372e-11\n",
       "3572    3.637979e-12\n",
       "3574    9.094947e-12\n",
       "3575    2.910383e-11\n",
       "3578    3.637979e-12\n",
       "3582    1.164153e-10\n",
       "3583    6.984919e-10\n",
       "3585    2.842171e-13\n",
       "3586    9.322321e-12\n",
       "3587    5.826450e-12\n",
       "3588    0.000000e+00\n",
       "3589    0.000000e+00\n",
       "3591    0.000000e+00\n",
       "3592    4.547474e-13\n",
       "Length: 1408, dtype: float64"
      ]
     },
     "execution_count": 25,
     "metadata": {},
     "output_type": "execute_result"
    }
   ],
   "source": [
    "(top_funds['budget_uncommitted_amount'] - top_funds['calc_uncommitted']).abs()"
   ]
  },
  {
   "cell_type": "markdown",
   "metadata": {},
   "source": [
    "Because we've eliminated the sign of these differences, we can now use a simple predicate to check if they are meaningful; in this case, a true difference would be greater than 1 cent.\n",
    "\n",
    "We can do this by just adding `> .01` to the end of our previous call."
   ]
  },
  {
   "cell_type": "code",
   "execution_count": 26,
   "metadata": {},
   "outputs": [
    {
     "data": {
      "text/plain": [
       "0       False\n",
       "7       False\n",
       "10      False\n",
       "14      False\n",
       "26      False\n",
       "31      False\n",
       "32      False\n",
       "33      False\n",
       "54      False\n",
       "56      False\n",
       "57      False\n",
       "58      False\n",
       "61      False\n",
       "62      False\n",
       "63      False\n",
       "64      False\n",
       "66      False\n",
       "69      False\n",
       "74      False\n",
       "75      False\n",
       "84      False\n",
       "85      False\n",
       "92      False\n",
       "100     False\n",
       "104     False\n",
       "107     False\n",
       "115     False\n",
       "116     False\n",
       "126     False\n",
       "144     False\n",
       "        ...  \n",
       "3267    False\n",
       "3289    False\n",
       "3302    False\n",
       "3314    False\n",
       "3329    False\n",
       "3333    False\n",
       "3360    False\n",
       "3361    False\n",
       "3373    False\n",
       "3395    False\n",
       "3402    False\n",
       "3410    False\n",
       "3430    False\n",
       "3443    False\n",
       "3454    False\n",
       "3459    False\n",
       "3570    False\n",
       "3572    False\n",
       "3574    False\n",
       "3575    False\n",
       "3578    False\n",
       "3582    False\n",
       "3583    False\n",
       "3585    False\n",
       "3586    False\n",
       "3587    False\n",
       "3588    False\n",
       "3589    False\n",
       "3591    False\n",
       "3592    False\n",
       "Length: 1408, dtype: bool"
      ]
     },
     "execution_count": 26,
     "metadata": {},
     "output_type": "execute_result"
    }
   ],
   "source": [
    "(top_funds['budget_uncommitted_amount'] - top_funds['calc_uncommitted']).abs() > .01"
   ]
  },
  {
   "cell_type": "markdown",
   "metadata": {},
   "source": [
    "This returns a boolean Series. We can use this to mask our DataFrame, but we can also simple enclose it in parentheses and call `.sum()` to get the total number of non-zero differences."
   ]
  },
  {
   "cell_type": "code",
   "execution_count": 27,
   "metadata": {},
   "outputs": [
    {
     "data": {
      "text/plain": [
       "2"
      ]
     },
     "execution_count": 27,
     "metadata": {},
     "output_type": "execute_result"
    }
   ],
   "source": [
    "((top_funds['budget_uncommitted_amount'] - top_funds['calc_uncommitted']).abs() > .01).sum()"
   ]
  },
  {
   "cell_type": "markdown",
   "metadata": {},
   "source": [
    "We see that we have two differences of more than a cent.\n",
    "\n",
    "While we could have saved our mask out to an intermediate variable, here we'll show passing it directly back to our DataFrame to manually review the contents of these two rows."
   ]
  },
  {
   "cell_type": "code",
   "execution_count": 28,
   "metadata": {},
   "outputs": [
    {
     "data": {
      "text/html": [
       "<div>\n",
       "<style scoped>\n",
       "    .dataframe tbody tr th:only-of-type {\n",
       "        vertical-align: middle;\n",
       "    }\n",
       "\n",
       "    .dataframe tbody tr th {\n",
       "        vertical-align: top;\n",
       "    }\n",
       "\n",
       "    .dataframe thead th {\n",
       "        text-align: right;\n",
       "    }\n",
       "</style>\n",
       "<table border=\"1\" class=\"dataframe\">\n",
       "  <thead>\n",
       "    <tr style=\"text-align: right;\">\n",
       "      <th></th>\n",
       "      <th>department_name</th>\n",
       "      <th>fund_name</th>\n",
       "      <th>account_name</th>\n",
       "      <th>adopted_budget_amount</th>\n",
       "      <th>total_expenditures</th>\n",
       "      <th>budget_change_amount</th>\n",
       "      <th>budget_transfer_in_amount</th>\n",
       "      <th>budget_transfer_out_amount</th>\n",
       "      <th>total_budget</th>\n",
       "      <th>encumbrance_amount</th>\n",
       "      <th>pre_encumbrance_amount</th>\n",
       "      <th>budget_uncommitted_amount</th>\n",
       "      <th>account_group_name</th>\n",
       "      <th>fund</th>\n",
       "      <th>account</th>\n",
       "      <th>calc_total_budget</th>\n",
       "      <th>calc_uncommitted</th>\n",
       "    </tr>\n",
       "  </thead>\n",
       "  <tbody>\n",
       "    <tr>\n",
       "      <th>498</th>\n",
       "      <td>CITY PLANNING</td>\n",
       "      <td>GENERAL FUND (GENERAL BUDGET)</td>\n",
       "      <td>CONTRACTUAL SERVICES</td>\n",
       "      <td>8439371.0</td>\n",
       "      <td>6392197.17</td>\n",
       "      <td>795868.0</td>\n",
       "      <td>150000.0</td>\n",
       "      <td>70000.0</td>\n",
       "      <td>9315239.0</td>\n",
       "      <td>2272266.92</td>\n",
       "      <td>0.0</td>\n",
       "      <td>603917.76</td>\n",
       "      <td>EXPENSES</td>\n",
       "      <td>100</td>\n",
       "      <td>003040</td>\n",
       "      <td>9315239.0</td>\n",
       "      <td>650774.91</td>\n",
       "    </tr>\n",
       "    <tr>\n",
       "      <th>2983</th>\n",
       "      <td>RECREATION AND PARKS</td>\n",
       "      <td>RECREATION &amp; PARKS GRANT</td>\n",
       "      <td>SLAUSON RECREATION CENTER</td>\n",
       "      <td>0.0</td>\n",
       "      <td>514707.63</td>\n",
       "      <td>1500000.0</td>\n",
       "      <td>0.0</td>\n",
       "      <td>0.0</td>\n",
       "      <td>1500000.0</td>\n",
       "      <td>164702.67</td>\n",
       "      <td>0.0</td>\n",
       "      <td>820331.49</td>\n",
       "      <td>NaN</td>\n",
       "      <td>205</td>\n",
       "      <td>88NMAT</td>\n",
       "      <td>1500000.0</td>\n",
       "      <td>820589.70</td>\n",
       "    </tr>\n",
       "  </tbody>\n",
       "</table>\n",
       "</div>"
      ],
      "text/plain": [
       "           department_name                      fund_name  \\\n",
       "498          CITY PLANNING  GENERAL FUND (GENERAL BUDGET)   \n",
       "2983  RECREATION AND PARKS       RECREATION & PARKS GRANT   \n",
       "\n",
       "                   account_name  adopted_budget_amount  total_expenditures  \\\n",
       "498        CONTRACTUAL SERVICES              8439371.0          6392197.17   \n",
       "2983  SLAUSON RECREATION CENTER                    0.0           514707.63   \n",
       "\n",
       "      budget_change_amount  budget_transfer_in_amount  \\\n",
       "498               795868.0                   150000.0   \n",
       "2983             1500000.0                        0.0   \n",
       "\n",
       "      budget_transfer_out_amount  total_budget  encumbrance_amount  \\\n",
       "498                      70000.0     9315239.0          2272266.92   \n",
       "2983                         0.0     1500000.0           164702.67   \n",
       "\n",
       "      pre_encumbrance_amount  budget_uncommitted_amount account_group_name  \\\n",
       "498                      0.0                  603917.76           EXPENSES   \n",
       "2983                     0.0                  820331.49                NaN   \n",
       "\n",
       "     fund account  calc_total_budget  calc_uncommitted  \n",
       "498   100  003040          9315239.0         650774.91  \n",
       "2983  205  88NMAT          1500000.0         820589.70  "
      ]
     },
     "execution_count": 28,
     "metadata": {},
     "output_type": "execute_result"
    }
   ],
   "source": [
    "top_funds[(top_funds['budget_uncommitted_amount'] - top_funds['calc_uncommitted']).abs() > .01]"
   ]
  },
  {
   "cell_type": "markdown",
   "metadata": {},
   "source": [
    "While one of these reported values is only off by a couple hundred dollars, the other is almost \\$50k off. We'll keep this in mind as we complete our final calculation."
   ]
  },
  {
   "cell_type": "markdown",
   "metadata": {},
   "source": [
    "#### Expected Expenditures\n",
    "\n",
    "The fact that so many of our line items have not reported their expenditures more than a year later is concerning. While we cannot know these values for sure, assuming that the rest of our reported values are correct we can calculated the expected amounts.\n",
    "\n",
    "Rework our most recent calculation to create our new column `expected_expenditures`."
   ]
  },
  {
   "cell_type": "code",
   "execution_count": 29,
   "metadata": {},
   "outputs": [],
   "source": [
    "top_funds['expected_expenditures'] = top_funds['total_budget'] - top_funds['encumbrance_amount'] - top_funds['budget_uncommitted_amount']"
   ]
  },
  {
   "cell_type": "markdown",
   "metadata": {},
   "source": [
    "Let's check if any of these are less than 0 to make sure we don't have any negative amounts."
   ]
  },
  {
   "cell_type": "code",
   "execution_count": 30,
   "metadata": {},
   "outputs": [
    {
     "data": {
      "text/plain": [
       "0"
      ]
     },
     "execution_count": 30,
     "metadata": {},
     "output_type": "execute_result"
    }
   ],
   "source": [
    "(top_funds['expected_expenditures'] < 0).sum()"
   ]
  },
  {
   "cell_type": "markdown",
   "metadata": {},
   "source": [
    "And then we'll also check if any of these are less than 1 (again, this is in part to avoid reporting on floating point errors)."
   ]
  },
  {
   "cell_type": "code",
   "execution_count": 31,
   "metadata": {},
   "outputs": [
    {
     "data": {
      "text/plain": [
       "507"
      ]
     },
     "execution_count": 31,
     "metadata": {},
     "output_type": "execute_result"
    }
   ],
   "source": [
    "(top_funds['expected_expenditures'] < 1).sum()"
   ]
  },
  {
   "cell_type": "markdown",
   "metadata": {},
   "source": [
    "We see a large number of entries here. Let's compare this to the number of nulls in our provided expenditures column."
   ]
  },
  {
   "cell_type": "code",
   "execution_count": 32,
   "metadata": {},
   "outputs": [
    {
     "data": {
      "text/plain": [
       "502"
      ]
     },
     "execution_count": 32,
     "metadata": {},
     "output_type": "execute_result"
    }
   ],
   "source": [
    "top_funds['total_expenditures'].isna().sum()"
   ]
  },
  {
   "cell_type": "markdown",
   "metadata": {},
   "source": [
    "We see that these counts are almost identical.\n",
    "\n",
    "Do you feel it's safe to conclude that these accounts had now expenditures in 2017? What further investigations might you be able to conduct on the data to bolster your claims or conclusions?"
   ]
  },
  {
   "cell_type": "markdown",
   "metadata": {},
   "source": [
    "## Conclusion\n",
    "\n",
    "Solution code has been provided for all the cells above. We will continue our investigations of this data during the following 2 lessons and labs."
   ]
  }
 ],
 "metadata": {
  "kernelspec": {
   "display_name": "Python 3",
   "language": "python",
   "name": "python3"
  },
  "language_info": {
   "codemirror_mode": {
    "name": "ipython",
    "version": 3
   },
   "file_extension": ".py",
   "mimetype": "text/x-python",
   "name": "python",
   "nbconvert_exporter": "python",
   "pygments_lexer": "ipython3",
   "version": "3.6.8"
  }
 },
 "nbformat": 4,
 "nbformat_minor": 2
}
